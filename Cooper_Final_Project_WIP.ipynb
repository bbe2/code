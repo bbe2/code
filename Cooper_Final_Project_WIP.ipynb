{
 "cells": [
  {
   "cell_type": "code",
   "execution_count": 2,
   "metadata": {},
   "outputs": [],
   "source": [
    "#####################################################\n",
    "####         Set up Python Environment           ####\n",
    "#####################################################\n",
    "## Set up Python Environment\n",
    "import pandas as pd\n",
    "import random as rn\n",
    "import numpy as np\n",
    "\n",
    "import os\n",
    "import pathlib\n",
    "import re\n",
    "import subprocess\n",
    "# Pip Install pyunpack and patool\n",
    "# Install 7z exe from https://www.7-zip.org/download.html\n",
    "from pyunpack import Archive\n",
    "\n",
    "from sklearn import preprocessing, svm \n",
    "from sklearn.model_selection import train_test_split \n",
    "from sklearn.linear_model import LinearRegression \n",
    "from sklearn.pipeline import Pipeline\n",
    "from sklearn.metrics import mean_squared_error, r2_score\n",
    "from sklearn.preprocessing import OneHotEncoder\n",
    "from sklearn.preprocessing import LabelEncoder\n",
    "from sklearn.metrics import confusion_matrix\n",
    "\n",
    "import statsmodels.formula.api as smf\n",
    "import statsmodels.api as sm\n",
    "\n",
    "# Matplotlib for additional customization\n",
    "from matplotlib import pyplot as plt\n",
    "%matplotlib inline\n",
    "# Seaborn for plotting and styling\n",
    "import seaborn as sns\n",
    "\n",
    "import statsmodels.formula.api as smf\n"
   ]
  },
  {
   "cell_type": "code",
   "execution_count": 22,
   "metadata": {},
   "outputs": [],
   "source": [
    "#####################################################\n",
    "####              Set up workspace               ####\n",
    "#####################################################\n",
    "#### Setup Workspace, import data and set key variables ####\n",
    "os.chdir('C:\\\\Users\\\\tellycoo\\\\Documents\\\\Courses\\\\SYR\\\\IST718\\\\Final_Project\\\\')\n",
    "dirVar = 'C:\\\\Users\\\\tellycoo\\\\Documents\\\\Courses\\\\SYR\\\\IST718\\\\Final_Project\\\\data'\n",
    "#kaggle competitions download -c kkbox-music-recommendation-challenge\n",
    "\n",
    "def setupEnv (dirVar):\n",
    "    Archive('data/train.csv.7z').extractall(dirVar)\n",
    "    Archive('data/test.csv.7z').extractall(dirVar)\n",
    "    Archive('data/song_extra_info.csv.7z').extractall(dirVar)\n",
    "    Archive('data/songs.csv.7z').extractall(dirVar)\n",
    "    Archive('data/members.csv.7z').extractall(dirVar)\n",
    "    df_songs = pd.read_csv('data/songs.csv', encoding = 'utf-8', na_values=['NaN'])\n",
    "    df_song_extra_info = pd.read_csv('data/song_extra_info.csv', encoding = 'utf-8', na_values=['NaN'])\n",
    "    df_members = pd.read_csv('data/members.csv', encoding = 'utf-8', na_values=['NaN'])\n",
    "    df_train = pd.read_csv('data/train.csv', encoding = 'utf-8', na_values=['NaN'])\n",
    "    df_test = pd.read_csv('data/test.csv', encoding = 'utf-8', na_values=['NaN'])\n",
    "    return df_songs, df_song_extra_info, df_members, df_train, df_test\n"
   ]
  },
  {
   "cell_type": "code",
   "execution_count": 23,
   "metadata": {},
   "outputs": [],
   "source": [
    "#####################################################\n",
    "####              Explore Raw Data               ####\n",
    "#####################################################\n",
    "#### Setup Workspace, import data and set key variables ####\n",
    "def exploreData (dfVar):\n",
    "    print(dfVar.dtypes)\n",
    "    print(dfVar.isna().sum())\n",
    "    return"
   ]
  },
  {
   "cell_type": "code",
   "execution_count": 29,
   "metadata": {},
   "outputs": [],
   "source": [
    "# Unpack 7z\n",
    "df_songs, df_song_extra_info, df_members, df_train, df_test = setupEnv(dirVar)"
   ]
  },
  {
   "cell_type": "code",
   "execution_count": 36,
   "metadata": {},
   "outputs": [
    {
     "name": "stdout",
     "output_type": "stream",
     "text": [
      "Songs:\n",
      "song_id         object\n",
      "song_length      int64\n",
      "genre_ids       object\n",
      "artist_name     object\n",
      "composer        object\n",
      "lyricist        object\n",
      "language       float64\n",
      "dtype: object\n",
      "song_id              0\n",
      "song_length          0\n",
      "genre_ids        94116\n",
      "artist_name          0\n",
      "composer       1071354\n",
      "lyricist       1945268\n",
      "language             1\n",
      "dtype: int64\n"
     ]
    }
   ],
   "source": [
    "print('Songs:')\n",
    "exploreData(df_songs)\n",
    "#print('df_song_extra_info:',exploreData(df_song_extra_info))\n",
    "#print('df_members:',exploreData(df_members))\n",
    "#print('df_train:',exploreData(df_train))\n",
    "#print('df_test:',exploreData(df_test))"
   ]
  },
  {
   "cell_type": "code",
   "execution_count": null,
   "metadata": {},
   "outputs": [],
   "source": []
  },
  {
   "cell_type": "code",
   "execution_count": null,
   "metadata": {},
   "outputs": [],
   "source": []
  }
 ],
 "metadata": {
  "kernelspec": {
   "display_name": "Python 3",
   "language": "python",
   "name": "python3"
  },
  "language_info": {
   "codemirror_mode": {
    "name": "ipython",
    "version": 3
   },
   "file_extension": ".py",
   "mimetype": "text/x-python",
   "name": "python",
   "nbconvert_exporter": "python",
   "pygments_lexer": "ipython3",
   "version": "3.7.4"
  }
 },
 "nbformat": 4,
 "nbformat_minor": 2
}
