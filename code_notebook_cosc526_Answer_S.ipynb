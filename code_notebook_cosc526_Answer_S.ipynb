{
  "cells": [
    {
      "cell_type": "markdown",
      "source": [
        "# **`M.0.Overview of codebook, answers, instructions, and libraries`**"
      ],
      "metadata": {
        "id": "el9sjRdm9gjv"
      },
      "id": "el9sjRdm9gjv"
    },
    {
      "cell_type": "markdown",
      "source": [
        "## **`I. how.To use course codebook`**  \n",
        "1. Notebook works in both Jupyter Notebooks & Colab.  \n",
        "2. Google built [colab](https://colab.research.google.com/) on top of Notebooks to add more features.  \n",
        "3. Cosc.526 was configured in Colab with expand/collapse sectioning.  \n",
        "4. There are 9 parent sections for each course module.  \n",
        "5. Modules contain either exercise and assignment or both.  \n",
        "6. **ALL** additional links and resources are to quality resources and tools.  \n",
        "=> Consider bookmarking them for future analysis activities!  \n",
        "7. Your going to be \"coding.\" Consider flipping a monitor vertically to help code.    \n",
        "8. A minimum of two monitors is recommended.   \n",
        "9. Try opening same workbook in multiple screens to perform work.  \n",
        "10. **p.s.** colab offer on screen companions like corgis and crabs.  \n",
        "\n",
        "## **`II. What is an answer?`**  \n",
        "- Answers are outcomes generated from executing your solution's code.  \n",
        "- ***What if your homework code isn't running?***  \n",
        "- Add one textbox beneath code block ***Enter solution here***  \n",
        "- Succinctly explain work performed (for grading points).  \n",
        "\n",
        "## **`III. Umbrella instructions`**  \n",
        "1. ### **`Solve exercise and assignment tasks by`**  \n",
        "a. writing code.  \n",
        "b. modifying code provided.  \n",
        "c. answering specified questions concisely.     \n",
        "\n",
        "2. ### **`Submit requirements`**  \n",
        "d. upload a **.pdf** copy after renaming it to...    \n",
        "e. => modules 1-2: last.first.exercise.and.assignment.M.#.pdf  \n",
        "f. => modules 3-9: last.first.assignment.M.#.pdf  \n",
        "\n",
        "3. ### **`How to generate a .pdf for submitting homework`**\n",
        "g. Jupyter Notebook has File\\Save As\\ adobe.pdf  \n",
        "h. **What do you do if .pdf generation fails?**  \n",
        "i. option.1) when in doubt, always submit a **.ipynb** file!  \n",
        "j. option.2) inform the professor and request permission to submit **.ipynb**   \n",
        "k. option.3) research and fix; Youtube and [Jupyter.forum](https://discourse.jupyter.org/).\n",
        "\n",
        "4. ### **`What are Expected outcomes?`**  \n",
        "l. Answer: A solution to a provided task.  \n",
        "m. They're regularly provided, but only sometimes.  \n",
        "n. They're located directly beneath **Enter solution here**\n",
        "\n",
        "5. ### **`How many code blocks should an output answer be?`**    \n",
        "o. Whenever feasible, combine answers into one codeblock. Brevity is key!  \n",
        "\n",
        "## **`IV. cosc.526 Python required libraries`**  \n",
        "1. Run the following library code \"now\"; ensure all are installed.  \n",
        "2. If not, research and solve it straight away! [Jupyter.forum](https://discourse.jupyter.org/)  \n",
        "3. **Why?** Errors occur for many reasons, like old versions and wrong pip files.  \n",
        "3. **Need help?** research libraries at => [pypi.org](https://pypi.org/)   \n",
        "  \n",
        "\n",
        "## **`V. Additional resources`**    \n",
        "1. Built for this course; healhty compendium of essential Python coding  \n",
        "2. [Python reference.library.Cosc.526.pdf](https://github.com/cosc-526/cosc.526.home.page/blob/main/reference.library.COSC.526.pdf)    \n",
        "3. [Python Docs](https://docs.python.org/3/) remain **`simply the best`**  \n",
        "4. We love and miss you [TinaTurner!](https://www.youtube.com/watch?v=GC5E8ie2pdM)   "
      ],
      "metadata": {
        "id": "3RMqlKER-Hv1"
      },
      "id": "3RMqlKER-Hv1"
    },
    {
      "cell_type": "code",
      "source": [
        "#=>update all installed libraries at one time; run in terminal\n",
        "#=> courtesy snhu.edu undergrad RyanB\n",
        "\"\"\"\n",
        "python3 -m pip list --outdated --format=json | jq -r '.[] | \"\\(.name)==\\(.latest_version)\"' | xargs -n1 pip3 install -U\n",
        "\"\"\""
      ],
      "metadata": {
        "id": "5pRUfIqsDoLX"
      },
      "id": "5pRUfIqsDoLX",
      "execution_count": null,
      "outputs": []
    },
    {
      "cell_type": "code",
      "source": [
        "#Run to see if libraries\n",
        "import pandas as pd\n",
        "import numpy as np\n",
        "import matplotlib.pyplot as plt\n",
        "import plotly                #SVM hyperplane graphing\n",
        "import plotly.express as px  #SVM hyperplane graphing\n",
        "#!pip install pyspark\n",
        "from pyspark.sql import SparkSession #typically requires a pip install\n",
        "\n",
        "print(\"all libraries are installed! You are ready to code\")\n",
        "print(\"------- \\n\")\n",
        "\n",
        "!pip show ipython      #confirms library installed\n",
        "#!pip install ipython  #installs a library in Notebook or Colab "
      ],
      "metadata": {
        "colab": {
          "base_uri": "https://localhost:8080/"
        },
        "id": "VBeXo-I2X-j_",
        "outputId": "b357ca7e-b7e9-473f-a229-0e6e253a20ad"
      },
      "id": "VBeXo-I2X-j_",
      "execution_count": null,
      "outputs": [
        {
          "output_type": "stream",
          "name": "stdout",
          "text": [
            "all libraries are installed! You are ready to code\n",
            "------- \n",
            "\n",
            "Name: ipython\n",
            "Version: 7.34.0\n",
            "Summary: IPython: Productive Interactive Computing\n",
            "Home-page: https://ipython.org\n",
            "Author: The IPython Development Team\n",
            "Author-email: ipython-dev@python.org\n",
            "License: BSD\n",
            "Location: /usr/local/lib/python3.10/dist-packages\n",
            "Requires: backcall, decorator, jedi, matplotlib-inline, pexpect, pickleshare, prompt-toolkit, pygments, setuptools, traitlets\n",
            "Required-by: cufflinks, datascience, google-colab, ipykernel, ipython-sql, ipywidgets, jupyter-console\n"
          ]
        }
      ]
    },
    {
      "cell_type": "markdown",
      "source": [
        "# **`M.1.Introduction to data mining`**\n"
      ],
      "metadata": {
        "id": "khVZ7DoGDiBn"
      },
      "id": "khVZ7DoGDiBn"
    },
    {
      "cell_type": "markdown",
      "source": [
        "## **`exercise.M.1`** - Python Warmup"
      ],
      "metadata": {
        "id": "X-de8q4f_q13"
      },
      "id": "X-de8q4f_q13"
    },
    {
      "cell_type": "markdown",
      "source": [
        "### **`Overview and Directions`**"
      ],
      "metadata": {
        "id": "cW6PQ4KAFhfd"
      },
      "id": "cW6PQ4KAFhfd"
    },
    {
      "cell_type": "markdown",
      "source": [
        "* Practice importing and parsing information. \n",
        "* Focus on learning and solving versus coding perfectly.  \n",
        "* Perform tasks without assistance from clever sources.  \n",
        "\n",
        "#### **`Desired outcomes`**  \n",
        "- Experience open, read, and writing of external delimited files.  \n",
        "- Navigate basic text mining preprocessing like white space stripping.  \n",
        "- Refresh expereience with iterator, conditionals, and functions.  \n",
        "\n",
        "####**`Additional Resources`**  \n",
        "- course [Python reference.library.Cosc.526.pdf](https://github.com/cosc-526/cosc.526.home.page/blob/main/reference.library.COSC.526.pdf)  \n",
        "=> contains a deep and wide index of essential Python coding.  \n",
        "- Bookmark the masters of text preprocessing  \n",
        "=> [Jurafsky and Martin, Speech and Language Processing](https://web.stanford.edu/~jurafsky/slp3/)  \n",
        "=> additional quality textbook on classical text mining  \n",
        "=> [Wiess,S.,Indurkhya,N.,Zhang,T.,(2015), Fundamentals of predictive text mining, 2nd, Springer.](https://www.amazon.com/Fundamentals-Predictive-Mining-Computer-Science/dp/144716749X/ref=sr_1_1?crid=MUA7UG21IFPD&keywords=Wiess%2CS.%2CIndurkhya%2CN.%2CZhang%2CT.%2C%282015%29%2C+Fundamentals+of+predictive+text+mining%2C+2nd%2C+Springer&qid=1685151591&sprefix=wiess%2Cs.%2Cindurkhya%2Cn.%2Czhang%2Ct.%2C+2015+%2C+fundamentals+of+predictive+text+mining%2C+2nd%2C+springer%2Caps%2C78&sr=8-1)"
      ],
      "metadata": {
        "id": "CWbFlcJXI1Id"
      },
      "id": "CWbFlcJXI1Id"
    },
    {
      "cell_type": "markdown",
      "metadata": {
        "id": "ZR2SKZ0V4l36"
      },
      "source": [
        "### **`Task.1`**  - comma-separated values (.csv)"
      ],
      "id": "ZR2SKZ0V4l36"
    },
    {
      "cell_type": "markdown",
      "source": [
        "Reading and parsing [delimiter-separated values](https://en.wikipedia.org/wiki/Delimiter-separated_values) files like [comma-separated](https://en.wikipedia.org/wiki/Comma-separated_values) and [tab-separated values](https://en.wikipedia.org/wiki/Tab-separated_values) is a regular data science preprocessing activity. It is typically acceptable to request either file format for analysis activities.    \n",
        "- *.csv* files store tabular data like numbers and text in a plain text format. \n",
        "- Plain text may include text, white spaces, carriage returns, transliterals, and other artifacts.    \n",
        "- Each row, or data record, contains a value or nothing, and a comma separates each.    \n",
        "\n",
        "**Tasks**  \n",
        "0. [data.exercise.M.1.csv](https://github.com/cosc-526/cosc.526.home.page/blob/main/data.exercise.M.1.csv) => Nobel prize winners name and age     \n",
        "1. Generate a single value for the total number of rows of data.\n",
        "2. Generate a single value for the total number of columns of data.  \n",
        "3. Calculate the laureates average age as a datatype float.  \n",
        "4. **note:** the solution's answer is structured as a user-defined function (def).  \n",
        "5. A def is not required, it contains extra code to use throughout the course.  \n",
        "6. Recall, whenever feasible, combine answers into a single outcome code block.     \n",
        "\n",
        "**Useful links**  \n",
        "- [Ch.16, Importing Data, Python.Crash.Course, Matthes](https://github.com/cosc-526/cosc.526.home.page/blob/main/textbook.Python.crash.course.matthes.pdf)  \n",
        "[open](https://docs.python.org/3.6/library/functions.html#open), \n",
        "[readlines](https://docs.python.org/3.6/library/codecs.html#codecs.StreamReader.readlines), [rstrip](https://docs.python.org/3.6/library/stdtypes.html#str.rstrip), [list comprehension](https://docs.python.org/3/tutorial/datastructures.html#list-comprehensions), [split](https://docs.python.org/3.6/library/stdtypes.html#str.split), [splice](https://docs.python.org/3.6/glossary.html#term-slice), [\"list.love\"](https://docs.python.org/3.6/tutorial/datastructures.html#more-on-lists), [len](https://docs.python.org/3.6/library/functions.html#len), [int](https://docs.python.org/3.6/library/functions.html#int), [format](https://docs.python.org/3.6/library/stdtypes.html#str.format)"
      ],
      "metadata": {
        "id": "cs55wtGeEV7u"
      },
      "id": "cs55wtGeEV7u"
    },
    {
      "cell_type": "code",
      "source": [
        "#=>Enter Your Solution\n"
      ],
      "metadata": {
        "id": "Azp65ID2UV9X"
      },
      "id": "Azp65ID2UV9X",
      "execution_count": null,
      "outputs": []
    },
    {
      "cell_type": "markdown",
      "metadata": {
        "id": "fFtuKBBh4l4C"
      },
      "source": [
        "**Task.1 Expected Ouput**\n",
        "```\n",
        "Number of rows of data: 8\n",
        "Number of cols: 3\n",
        "Average Age: 70.875\n",
        "```"
      ],
      "id": "fFtuKBBh4l4C"
    },
    {
      "cell_type": "markdown",
      "source": [
        "#### **`Task.1.solution`**"
      ],
      "metadata": {
        "id": "TeK-qV1_HXaS"
      },
      "id": "TeK-qV1_HXaS"
    },
    {
      "cell_type": "code",
      "execution_count": null,
      "metadata": {
        "id": "q0Ci_heq4l3_"
      },
      "outputs": [],
      "source": [
        "#Task.1 solution\n",
        "def parse_delimited_file(filename, delimiter=\",\"):\n",
        "    # Open and read in all lines of the file\n",
        "    # (I do not recommend readlines for LARGE files)\n",
        "    # `open`: ref [1]\n",
        "    # `readlines`: ref [2]\n",
        "    with open(filename, 'r', encoding='utf8') as dsvfile:\n",
        "        lines = dsvfile.readlines()\n",
        "\n",
        "    # Strip off the newline from the end of each line\n",
        "    # HINT: ref [3]\n",
        "    # Using list comprehension is the recommended pythonic way to iterate through lists\n",
        "    # HINT: ref [4]\n",
        "    lines = [line.rstrip('\\n') for line in lines]\n",
        "    \n",
        "    # Split each line based on the delimiter (which, in this case, is the comma)\n",
        "    # HINT: ref [5]\n",
        "    split_lines = [line.split(delimiter) for line in lines]\n",
        "    \n",
        "    # Separate the header from the data\n",
        "    # HINT: ref [6]\n",
        "    header = split_lines[0]\n",
        "    data_lines = split_lines[1:]\n",
        "    \n",
        "    # Find \"age\" within the header\n",
        "    # (i.e., calculating the column index for \"age\")\n",
        "    # HINT: ref [7]\n",
        "    age_index = header.index(\"age\")\n",
        "\n",
        "    # Calculate the number of data rows and columns\n",
        "    # HINT: [8]\n",
        "    num_data_rows = len(data_lines)\n",
        "    num_data_cols = len(header)\n",
        "    \n",
        "    # Sum the \"age\" values\n",
        "    # HINT: ref [9]\n",
        "    sum_age = 0\n",
        "    for row in data_lines:\n",
        "        sum_age += int(row[age_index])\n",
        "        \n",
        "    # Calculate the average age\n",
        "    avg_age = sum_age / num_data_rows\n",
        "    \n",
        "    # Print the results\n",
        "    # `format`: ref [10]\n",
        "    print(\"Number of rows of data: {}\".format(num_data_rows))\n",
        "    print(\"Number of cols: {}\".format(num_data_cols))\n",
        "    print(\"Average Age: {}\".format(avg_age))"
      ],
      "id": "q0Ci_heq4l3_"
    },
    {
      "cell_type": "code",
      "source": [
        "#Task.1 solution\n",
        "parse_delimited_file('data.exercise.M.1.csv')"
      ],
      "metadata": {
        "colab": {
          "base_uri": "https://localhost:8080/"
        },
        "id": "q0OSl5lKUez4",
        "outputId": "b8bf667f-ed32-4180-803c-f4597a413a27"
      },
      "id": "q0OSl5lKUez4",
      "execution_count": null,
      "outputs": [
        {
          "output_type": "stream",
          "name": "stdout",
          "text": [
            "Number of rows of data: 8\n",
            "Number of cols: 3\n",
            "Average Age: 70.875\n"
          ]
        }
      ]
    },
    {
      "cell_type": "markdown",
      "metadata": {
        "id": "ybWXMZ974l4D"
      },
      "source": [
        "### **`Task.2`** - tab-separated values (.tsv)"
      ],
      "id": "ybWXMZ974l4D"
    },
    {
      "cell_type": "markdown",
      "source": [
        "A [tab-separated value (.tsv)](https://en.wikipedia.org/wiki/Tab-separated_values) format is a delimiter-separated value for storing data in a tabular structure like a database table or spreadsheet. Other characteristics include,    \n",
        "- Used to exchange information between databases.\n",
        "- Each record in the table is one line of the text file.\n",
        "- Fields are distinct in a record when separated by the tab character **`\\t`**\n",
        "\n",
        "**Tasks**\n",
        "0. [data.exercise.M.1.tsv](https://github.com/cosc-526/cosc.526.home.page/blob/main/data.exercise.M.1.tsv) \n",
        "1. Repeat Task.1 using the .tsv file.  \n",
        "2. The order and data in columns have changed.  \n",
        "3. If you hardcoded the \"age\" column, research and describe alternative code to alleviate fixed positional indexes.  \n",
        "\n",
        "**Useful links**  \n",
        "- [Python docs - csv file reading and writing](https://docs.python.org/3/library/csv.html#module-csv) \n",
        "- Python handles .tsv files using its \"delimiter\" parameter, \"\\t\"  "
      ],
      "metadata": {
        "id": "XpY0qD0rIsz3"
      },
      "id": "XpY0qD0rIsz3"
    },
    {
      "cell_type": "code",
      "source": [
        "#=>Enter Your Solution\n"
      ],
      "metadata": {
        "id": "0ODxd_9HTCy9"
      },
      "id": "0ODxd_9HTCy9",
      "execution_count": null,
      "outputs": []
    },
    {
      "cell_type": "markdown",
      "source": [
        "**Expected Ouput:**\n",
        "```\n",
        "Number of rows of data: 11\n",
        "Number of cols: 3\n",
        "Average Age: 62.09090909090909\n",
        "```"
      ],
      "metadata": {
        "id": "_9HmDoDjTNgi"
      },
      "id": "_9HmDoDjTNgi"
    },
    {
      "cell_type": "markdown",
      "source": [
        "#### **`Task.2.solution`**"
      ],
      "metadata": {
        "id": "kVgqJhpjIHdC"
      },
      "id": "kVgqJhpjIHdC"
    },
    {
      "cell_type": "code",
      "execution_count": null,
      "metadata": {
        "id": "-ZrO7SLg4l4D",
        "outputId": "4c7d7ae6-c540-4ff6-a8be-39586c319c2b",
        "colab": {
          "base_uri": "https://localhost:8080/"
        }
      },
      "outputs": [
        {
          "output_type": "stream",
          "name": "stdout",
          "text": [
            "Number of rows of data: 11\n",
            "Number of cols: 3\n",
            "Average Age: 62.09090909090909\n"
          ]
        }
      ],
      "source": [
        "#task.2.solution\n",
        "#running the same user.defined.function, but using the delimiter parameter\n",
        "parse_delimited_file('data.exercise.M.1.tsv', delimiter='\\t')"
      ],
      "id": "-ZrO7SLg4l4D"
    },
    {
      "cell_type": "markdown",
      "metadata": {
        "id": "LSr6LhyN4l4E"
      },
      "source": [
        "### **`Task.3`** - Convert diacritics (ä, ö) to ASCII"
      ],
      "id": "LSr6LhyN4l4E"
    },
    {
      "cell_type": "markdown",
      "source": [
        "- On your computer, right click an open `data.exercise.M.1.csv` in Notepad.  \n",
        "Observe the Unicode non-English letters in laureates' names like \"Schrödinger.\"\n",
        "- Learn about [Unicode](https://en.wikipedia.org/wiki/Unicode) character standards for representing different types and forms of text.  \n",
        "- Grok that Python 3 [natively supports](https://docs.python.org/3/howto/unicode.html) Unicode, but many tools don't.\n",
        "- Conversion of Unicode to [ASCII](https://en.wikipedia.org/wiki/ASCII) formatting is often necessary in data preprocessing.  \n",
        "\n",
        "**Tasks**\n",
        "0. [data.exercise.M.1.csv](https://github.com/cosc-526/cosc.526.home.page/blob/main/data.exercise.M.1.csv)  \n",
        "1. Read this article on diacritics conversion (e.g., \"ü\" → \"ue\"); [transliteration](https://german.stackexchange.com/questions/4992/conversion-table-for-diacritics-e-g-%C3%BC-%E2%86%92-ue).  \n",
        "2. Analyze and run code block with a dictionary matching Unicode character \"keys\" to their ASCII transliteration \"value.\"\n",
        "=> as a refresher, a dictionary is defined as mydict = { key:value }\n",
        "3. For labeled code sections #3.1 to 3.9, explain succinctly what the code is accomplishing and whether you are or are not familiar with it.  \n",
        "4. Create your inventory mechanism to store this, and more, code blocks.  \n",
        "\n",
        "***More useful links***\n",
        "- [1: replace](https://docs.python.org/3.6/library/stdtypes.html#str.replace), [2: file object methods](https://docs.python.org/3/tutorial/inputoutput.html#methods-of-file-objects),  \n"
      ],
      "metadata": {
        "id": "CdUDaILLI7Ro"
      },
      "id": "CdUDaILLI7Ro"
    },
    {
      "cell_type": "code",
      "execution_count": null,
      "metadata": {
        "id": "17tX_qpT4l4F",
        "outputId": "8cb903f8-3f9f-49b3-c3c9-8abd61942050",
        "colab": {
          "base_uri": "https://localhost:8080/"
        }
      },
      "outputs": [
        {
          "output_type": "stream",
          "name": "stdout",
          "text": [
            "Richard Phillips Feynman\n",
            "Shin'ichiro Tomonaga\n",
            "Julian Schwinger\n",
            "Rudolf Ludwig Moessbauer\n",
            "Erwin Schroedinger\n",
            "Paul Dirac\n",
            "Maria Sklodowska-Curie\n",
            "Pierre Curie\n"
          ]
        }
      ],
      "source": [
        "translit_dict = {\n",
        "    \"ä\" : \"ae\",\n",
        "    \"ö\" : \"oe\",\n",
        "    \"ü\" : \"ue\",\n",
        "    \"Ä\" : \"Ae\",\n",
        "    \"Ö\" : \"Oe\",\n",
        "    \"Ü\" : \"Ue\", \n",
        "    \"ł\" : \"l\",\n",
        "    \"ō\" : \"o\",\n",
        "}\n",
        "#3.1\n",
        "with open(\"data.exercise.M.1.csv\", 'r', encoding='utf8') as csvfile:\n",
        "    lines = csvfile.readlines()\n",
        "#3.2\n",
        "# Strip off the newline from the end of each line\n",
        "lines = [line.rstrip() for line in lines]\n",
        "\n",
        "#3.3   \n",
        "# Split each line based on the delimiter (which, in this case, is the comma)\n",
        "split_lines = [line.split(\",\") for line in lines]\n",
        "\n",
        "#3.4\n",
        "# Separate the header from the data\n",
        "header = split_lines[0]\n",
        "data_lines = split_lines[1:]\n",
        "    \n",
        "#3.5    \n",
        "# Find \"name\" within the header\n",
        "name_index = header.index(\"name\")\n",
        "\n",
        "#3.6\n",
        "# Extract the names from the rows\n",
        "unicode_names = [line[name_index] for line in data_lines]\n",
        "\n",
        "#3.7\n",
        "# Iterate over the names\n",
        "translit_names = []\n",
        "for unicode_name in unicode_names:\n",
        "    # Perform the replacements in the translit_dict\n",
        "    # HINT: ref [1]\n",
        "    translit_name = unicode_name\n",
        "    for key, value in translit_dict.items():\n",
        "        translit_name = translit_name.replace(key, value)\n",
        "    translit_names.append(translit_name)\n",
        "\n",
        "#3.8\n",
        "# Write out the names to a file named \"data-ascii.txt\"\n",
        "# HINT: ref [2]\n",
        "with open(\"data.exercise.M.1.ascii.txt\", 'w') as outfile:\n",
        "    for name in translit_names:\n",
        "        outfile.write(name + \"\\n\")\n",
        "#3.9\n",
        "# Verify that the names were converted and written out correctly\n",
        "with open(\"data.exercise.M.1.ascii.txt\", 'r') as infile:\n",
        "    for line in infile:\n",
        "        print(line.rstrip())"
      ],
      "id": "17tX_qpT4l4F"
    },
    {
      "cell_type": "code",
      "source": [
        "# Write your reflection here\n",
        "#3.1\n",
        "#3.2\n",
        "#3.3\n",
        "#3.4\n",
        "#3.5\n",
        "#3.6\n",
        "#3.7\n",
        "#3.8\n",
        "#3.9\n"
      ],
      "metadata": {
        "id": "X6tBzbFR2f_v"
      },
      "id": "X6tBzbFR2f_v",
      "execution_count": null,
      "outputs": []
    },
    {
      "cell_type": "markdown",
      "metadata": {
        "id": "zmOzzRTl4l4P"
      },
      "source": [
        "**`Expected Output`**\n",
        "```\n",
        "Richard Phillips Feynman\n",
        "Shin'ichiro Tomonaga\n",
        "Julian Schwinger\n",
        "Rudolf Ludwig Moessbauer\n",
        "Erwin Schroedinger\n",
        "Paul Dirac\n",
        "Maria Sklodowska-Curie\n",
        "Pierre Curie\n",
        "```\n",
        "\n"
      ],
      "id": "zmOzzRTl4l4P"
    },
    {
      "cell_type": "markdown",
      "source": [
        "#### Task.3.solution"
      ],
      "metadata": {
        "id": "MYHIqFrTJW35"
      },
      "id": "MYHIqFrTJW35"
    },
    {
      "cell_type": "markdown",
      "source": [
        "3.1 Primary file open that specifies the data encoding type.  \n",
        "==>Selecting the wrong encoders may significantly alter outcomes!  \n",
        "3.2 List comprehension is removing trailing whitespace putting outcomes into a new list.    \n",
        "3.3 List comprehension splitting each line element by the delimiter.    \n",
        "3.4 [0] is a form of **slicing**.  \n",
        "=> In this example [0] is the header row, ie row number 0. \n",
        "=> mylist[0], an iterable data object, extracts 1st item in the list object.    \n",
        "=> ex: mylist[1,2,3]; mylist[0] [out]=> 1   \n",
        "==> slice [1:] indicates to get data from row.1 til rows are empty.  \n",
        "3.5 Performs a find based on a name range vs a slice; [:1]=column_1  \n",
        "==> Is also the answer to Task 2.3 in the exercise.M.1 section.  \n",
        "3.6 List comprehension with line as user-defined name to travail and read all lines in .csv file  \n",
        "3.7 Illustrates a **for** loop that swaps a matched dictionary items with its ASCII transliteration.   \n",
        "3.8 Note the **'w'** in the open statement to create the outfile with a user defined name.  \n",
        "==> \\n is a carriage return   \n",
        "3.9 The ASCII file read back in and displayed using print() function.  "
      ],
      "metadata": {
        "id": "i7EbD2hcJdRh"
      },
      "id": "i7EbD2hcJdRh"
    },
    {
      "cell_type": "markdown",
      "id": "5f09fcd7",
      "metadata": {
        "id": "5f09fcd7"
      },
      "source": [
        "## **`assign.M.1.assignment.1`** - Data Mining with Covid Data"
      ]
    },
    {
      "cell_type": "markdown",
      "source": [
        "### **`Overview and Directions`**"
      ],
      "metadata": {
        "id": "ujMShg_DwKdx"
      },
      "id": "ujMShg_DwKdx"
    },
    {
      "cell_type": "markdown",
      "source": [
        "1. Import and manipulate a .csv file  \n",
        "2. Assess your Python Programming Skills  \n",
        "3. Other assignments are more challenging; use this to assess your skills.\n",
        "4. Prepare questions for a class discussion to help source additional tools. \n",
        "5. Perform tasks without assistance from clever sources.    \n",
        "\n",
        "#### **`Desired outcomes`**  \n",
        "- Experience Pandas dataframes to group, aggregate, find, sort, and calculate.  \n",
        "- Perform calculations to find best country, rank, and total items processed. \n",
        "- Note: Pandas is reviewed in Module 2 and quality resources provided below.  \n",
        "\n",
        "#### **`Additional resources`**  \n",
        "- [Daniel Chen](https://github.com/chendaniely/) is a **generous** Pandas master.  \n",
        "=> Purchase of his books is recommended; not a solicitation!    \n",
        "- [Chen,D.,(2022). Pandas for everyone, 2nd.Ed.](https://www.amazon.com/Pandas-Everyone-Analysis-Addison-Wesley-Analytics/dp/0137891156/ref=sr_1_1?crid=T9BF3HU24YFL&keywords=pandas+for+everyone&qid=1685205022&sprefix=pandas+for+everyone%2Caps%2C203&sr=8-1)  \n",
        "=> [groupby](https://github.com/chendaniely/2017-10-26-python_crash_course/blob/gh-pages/notebooks/07-groupby.ipynb) => [missing values](https://github.com/chendaniely/2017-10-26-python_crash_course/blob/gh-pages/notebooks/03-missing.ipynb) => [many more!](https://github.com/chendaniely/2017-10-26-python_crash_course/tree/gh-pages/notebooks)    \n",
        "\n"
      ],
      "metadata": {
        "id": "orcAiqUZAQ6Y"
      },
      "id": "orcAiqUZAQ6Y"
    },
    {
      "cell_type": "markdown",
      "source": [
        "### **`Task.0`**  \n"
      ],
      "metadata": {
        "id": "RNiLo5Rm9SM2"
      },
      "id": "RNiLo5Rm9SM2"
    },
    {
      "cell_type": "markdown",
      "source": [
        "#### **`Dataset`**\n",
        "- COVID-19 variant [sequencing](https://www.cdc.gov/coronavirus/2019-ncov/variants/genomic-surveillance.html#:~:text=Scientists%20use%20a%20process%20called%20genomic%20sequencing%20to%20identify%20SARS,test%20positive%20for%20COVID%2D19) by countries.   \n",
        "Data fields    \n",
        "1. `location`: the country providing information.    \n",
        "2. `date`: data entry date.  \n",
        "3. `variant`: the COVID-19 variant for the entered record.  \n",
        "4. `num_sequences`: the number of sequences **processed** by country, variant, and date.   \n",
        "5. `num_sequences_total`: the number of sequences **available** by country, variant, and date.  \n",
        "6. `perc_sequences`: the percentage of the available sequences processed (*out of 100*)  \n",
        "`note:` each dataset row represents *one* variant by *one* country on *one* day.  \n",
        "\n",
        "**Tasks**  \n",
        "1. Locate and read dataset into a pandas.DataFrame called 'df' via  \n",
        "a. A Kaggle API; use existing or acquire; [Kaggle.covid.dataset](https://www.kaggle.com/yamqwe/omicron-covid19-variant-daily-cases?select=covid-variants.csv)  \n",
        "or  \n",
        "b. Class github URL or another .csv method like [Matthes, Ch.16](https://github.com/cosc-526/cosc.526.home.page/blob/main/textbook.Python.crash.course.matthes.pdf)    \n",
        "=> filename: **data.assignment.M.1.covid.data.csv**  \n",
        "=>**consider** reading a Github data URL requires a path to **raw data**    \n",
        "2. Display the DataFrame's first 5 rows.  \n",
        "3. Display descriptive stats confirming: 100,416 data records.  \n",
        "4. Round DataFrame to 1 decimal place!   \n",
        "\n",
        "**Useful links**  \n",
        "[Built-in Functions](https://docs.python.org/3/library/functions.html#built-in-functions)  \n",
        "[pandas.DataFrame documentation](https://pandas.pydata.org/docs/reference/api/pandas.DataFrame.html) "
      ],
      "metadata": {
        "id": "wcrKuRsWXUW1"
      },
      "id": "wcrKuRsWXUW1"
    },
    {
      "cell_type": "code",
      "source": [
        "## Enter solution here\n"
      ],
      "metadata": {
        "id": "J6JeWBO2Cw78"
      },
      "id": "J6JeWBO2Cw78",
      "execution_count": null,
      "outputs": []
    },
    {
      "cell_type": "markdown",
      "source": [
        "#### **`Task.0 - Expected Outcome`**  \n",
        "```\n",
        "DataFrame header\n",
        "  location  date        variant  num_sequences  perc_sequences  num_sequences_total\n",
        "0   Angola  2020-07-06      Alpha              0             0.0   3\n",
        "1   Angola  2020-07-06  B.1.1.277              0             0.0   3\n",
        "2   Angola  2020-07-06  B.1.1.302              0             0.0   3\n",
        "3   Angola  2020-07-06  B.1.1.519              0             0.0   3\n",
        "4   Angola  2020-07-06    B.1.160              0             0.0   3\n",
        "\n",
        "Dataframe descriptive statistics, rounded to tenths\n",
        "       num_sequences  perc_sequences  num_sequences_total\n",
        "count       100416.0        100416.0             100416.0\n",
        "mean            72.0             6.0               1510.0\n",
        "std           1669.0            22.0               8445.0\n",
        "min              0.0            -0.0                  1.0\n",
        "25%              0.0             0.0                 12.0\n",
        "50%              0.0             0.0                 59.0\n",
        "75%              0.0             0.0                394.0\n",
        "max         142280.0           100.0             146170.0 \n",
        "```\n"
      ],
      "metadata": {
        "id": "4z6COkzkC2KU"
      },
      "id": "4z6COkzkC2KU"
    },
    {
      "cell_type": "markdown",
      "source": [
        "##### **`Task.0 Solution via Github`**  "
      ],
      "metadata": {
        "id": "qyZeg8ibcRpR"
      },
      "id": "qyZeg8ibcRpR"
    },
    {
      "cell_type": "code",
      "source": [
        "#Task.0.solution\n",
        "#=> Read Data w URL\n",
        "import pandas as pd\n",
        "url = \"https://raw.githubusercontent.com/cosc-526/cosc.526.home.page/main/data.assignment.M.1.covid.data.csv?token=GHSAT0AAAAAACDFFWJJR2XX26CMBR5PFXS6ZDSPTDQ\"\n",
        "df = pd.read_csv(url)\n",
        "round(df.describe(),1)"
      ],
      "metadata": {
        "id": "8XCKzy-Pfbuw",
        "colab": {
          "base_uri": "https://localhost:8080/",
          "height": 300
        },
        "outputId": "b41c85be-7f2c-43b8-86d1-cdee68b31254"
      },
      "id": "8XCKzy-Pfbuw",
      "execution_count": 4,
      "outputs": [
        {
          "output_type": "execute_result",
          "data": {
            "text/plain": [
              "       num_sequences  perc_sequences  num_sequences_total\n",
              "count       100416.0        100416.0             100416.0\n",
              "mean            72.2             6.2               1509.6\n",
              "std           1669.3            21.9               8445.3\n",
              "min              0.0            -0.0                  1.0\n",
              "25%              0.0             0.0                 12.0\n",
              "50%              0.0             0.0                 59.0\n",
              "75%              0.0             0.0                394.0\n",
              "max         142280.0           100.0             146170.0"
            ],
            "text/html": [
              "\n",
              "  <div id=\"df-95a5a8dd-d117-4ef6-8cb0-ea68f1bfb125\">\n",
              "    <div class=\"colab-df-container\">\n",
              "      <div>\n",
              "<style scoped>\n",
              "    .dataframe tbody tr th:only-of-type {\n",
              "        vertical-align: middle;\n",
              "    }\n",
              "\n",
              "    .dataframe tbody tr th {\n",
              "        vertical-align: top;\n",
              "    }\n",
              "\n",
              "    .dataframe thead th {\n",
              "        text-align: right;\n",
              "    }\n",
              "</style>\n",
              "<table border=\"1\" class=\"dataframe\">\n",
              "  <thead>\n",
              "    <tr style=\"text-align: right;\">\n",
              "      <th></th>\n",
              "      <th>num_sequences</th>\n",
              "      <th>perc_sequences</th>\n",
              "      <th>num_sequences_total</th>\n",
              "    </tr>\n",
              "  </thead>\n",
              "  <tbody>\n",
              "    <tr>\n",
              "      <th>count</th>\n",
              "      <td>100416.0</td>\n",
              "      <td>100416.0</td>\n",
              "      <td>100416.0</td>\n",
              "    </tr>\n",
              "    <tr>\n",
              "      <th>mean</th>\n",
              "      <td>72.2</td>\n",
              "      <td>6.2</td>\n",
              "      <td>1509.6</td>\n",
              "    </tr>\n",
              "    <tr>\n",
              "      <th>std</th>\n",
              "      <td>1669.3</td>\n",
              "      <td>21.9</td>\n",
              "      <td>8445.3</td>\n",
              "    </tr>\n",
              "    <tr>\n",
              "      <th>min</th>\n",
              "      <td>0.0</td>\n",
              "      <td>-0.0</td>\n",
              "      <td>1.0</td>\n",
              "    </tr>\n",
              "    <tr>\n",
              "      <th>25%</th>\n",
              "      <td>0.0</td>\n",
              "      <td>0.0</td>\n",
              "      <td>12.0</td>\n",
              "    </tr>\n",
              "    <tr>\n",
              "      <th>50%</th>\n",
              "      <td>0.0</td>\n",
              "      <td>0.0</td>\n",
              "      <td>59.0</td>\n",
              "    </tr>\n",
              "    <tr>\n",
              "      <th>75%</th>\n",
              "      <td>0.0</td>\n",
              "      <td>0.0</td>\n",
              "      <td>394.0</td>\n",
              "    </tr>\n",
              "    <tr>\n",
              "      <th>max</th>\n",
              "      <td>142280.0</td>\n",
              "      <td>100.0</td>\n",
              "      <td>146170.0</td>\n",
              "    </tr>\n",
              "  </tbody>\n",
              "</table>\n",
              "</div>\n",
              "      <button class=\"colab-df-convert\" onclick=\"convertToInteractive('df-95a5a8dd-d117-4ef6-8cb0-ea68f1bfb125')\"\n",
              "              title=\"Convert this dataframe to an interactive table.\"\n",
              "              style=\"display:none;\">\n",
              "        \n",
              "  <svg xmlns=\"http://www.w3.org/2000/svg\" height=\"24px\"viewBox=\"0 0 24 24\"\n",
              "       width=\"24px\">\n",
              "    <path d=\"M0 0h24v24H0V0z\" fill=\"none\"/>\n",
              "    <path d=\"M18.56 5.44l.94 2.06.94-2.06 2.06-.94-2.06-.94-.94-2.06-.94 2.06-2.06.94zm-11 1L8.5 8.5l.94-2.06 2.06-.94-2.06-.94L8.5 2.5l-.94 2.06-2.06.94zm10 10l.94 2.06.94-2.06 2.06-.94-2.06-.94-.94-2.06-.94 2.06-2.06.94z\"/><path d=\"M17.41 7.96l-1.37-1.37c-.4-.4-.92-.59-1.43-.59-.52 0-1.04.2-1.43.59L10.3 9.45l-7.72 7.72c-.78.78-.78 2.05 0 2.83L4 21.41c.39.39.9.59 1.41.59.51 0 1.02-.2 1.41-.59l7.78-7.78 2.81-2.81c.8-.78.8-2.07 0-2.86zM5.41 20L4 18.59l7.72-7.72 1.47 1.35L5.41 20z\"/>\n",
              "  </svg>\n",
              "      </button>\n",
              "      \n",
              "  <style>\n",
              "    .colab-df-container {\n",
              "      display:flex;\n",
              "      flex-wrap:wrap;\n",
              "      gap: 12px;\n",
              "    }\n",
              "\n",
              "    .colab-df-convert {\n",
              "      background-color: #E8F0FE;\n",
              "      border: none;\n",
              "      border-radius: 50%;\n",
              "      cursor: pointer;\n",
              "      display: none;\n",
              "      fill: #1967D2;\n",
              "      height: 32px;\n",
              "      padding: 0 0 0 0;\n",
              "      width: 32px;\n",
              "    }\n",
              "\n",
              "    .colab-df-convert:hover {\n",
              "      background-color: #E2EBFA;\n",
              "      box-shadow: 0px 1px 2px rgba(60, 64, 67, 0.3), 0px 1px 3px 1px rgba(60, 64, 67, 0.15);\n",
              "      fill: #174EA6;\n",
              "    }\n",
              "\n",
              "    [theme=dark] .colab-df-convert {\n",
              "      background-color: #3B4455;\n",
              "      fill: #D2E3FC;\n",
              "    }\n",
              "\n",
              "    [theme=dark] .colab-df-convert:hover {\n",
              "      background-color: #434B5C;\n",
              "      box-shadow: 0px 1px 3px 1px rgba(0, 0, 0, 0.15);\n",
              "      filter: drop-shadow(0px 1px 2px rgba(0, 0, 0, 0.3));\n",
              "      fill: #FFFFFF;\n",
              "    }\n",
              "  </style>\n",
              "\n",
              "      <script>\n",
              "        const buttonEl =\n",
              "          document.querySelector('#df-95a5a8dd-d117-4ef6-8cb0-ea68f1bfb125 button.colab-df-convert');\n",
              "        buttonEl.style.display =\n",
              "          google.colab.kernel.accessAllowed ? 'block' : 'none';\n",
              "\n",
              "        async function convertToInteractive(key) {\n",
              "          const element = document.querySelector('#df-95a5a8dd-d117-4ef6-8cb0-ea68f1bfb125');\n",
              "          const dataTable =\n",
              "            await google.colab.kernel.invokeFunction('convertToInteractive',\n",
              "                                                     [key], {});\n",
              "          if (!dataTable) return;\n",
              "\n",
              "          const docLinkHtml = 'Like what you see? Visit the ' +\n",
              "            '<a target=\"_blank\" href=https://colab.research.google.com/notebooks/data_table.ipynb>data table notebook</a>'\n",
              "            + ' to learn more about interactive tables.';\n",
              "          element.innerHTML = '';\n",
              "          dataTable['output_type'] = 'display_data';\n",
              "          await google.colab.output.renderOutput(dataTable, element);\n",
              "          const docLink = document.createElement('div');\n",
              "          docLink.innerHTML = docLinkHtml;\n",
              "          element.appendChild(docLink);\n",
              "        }\n",
              "      </script>\n",
              "    </div>\n",
              "  </div>\n",
              "  "
            ]
          },
          "metadata": {},
          "execution_count": 4
        }
      ]
    },
    {
      "cell_type": "markdown",
      "source": [
        "##### **`Task.0 Solution w kaggle API key`**\n",
        "1. use this to learn API data grabs  \n",
        "2. **hint** you may this code later in course  "
      ],
      "metadata": {
        "id": "MqZm_iFTPI7f"
      },
      "id": "MqZm_iFTPI7f"
    },
    {
      "cell_type": "code",
      "source": [
        "#=>Kaggle data API part I of II\n",
        "\"\"\" if you don't have your kaggle.json in Files\\root\\kaggle folder\n",
        "    you need to find this folder. see picture below. Only way this works!\"\"\"\n",
        "!cp /content/drive/MyDrive/Colab Notebooks/kaggle.json ~/.kaggle/\n",
        "import kaggle\n",
        "kaggle.api.authenticate()             #authenticae your key\n",
        "!chmod 600 /root/.kaggle/kaggle.json  #hide your key\n",
        "print(\"==> api key connect success <==\")\n",
        "!kaggle datasets download -d gpreda/covid19-variants  #read the dataset\n",
        "print(\"==> data import success <==\")\n",
        "\n",
        "#test is all packages installed\n",
        "#!pip install kaggle,  #!mkdir ~/.kaggle)\n",
        "#!pip freeze | grep kaggle\n",
        "#!pip freeze | grep pandas\n",
        "#!pip freeze | grep numpy\n",
        "#!pip freeze | grep matplotlib"
      ],
      "metadata": {
        "colab": {
          "base_uri": "https://localhost:8080/"
        },
        "id": "jdE1h8feLamY",
        "outputId": "73773cd4-bfc4-4278-c716-14f41750e888"
      },
      "id": "jdE1h8feLamY",
      "execution_count": 22,
      "outputs": [
        {
          "output_type": "stream",
          "name": "stdout",
          "text": [
            "cp: cannot stat '/content/drive/MyDrive/Colab': No such file or directory\n",
            "cp: cannot stat 'Notebooks/kaggle.json': No such file or directory\n",
            "Warning: Your Kaggle API key is readable by other users on this system! To fix this, you can run 'chmod 600 /root/.kaggle/kaggle.json'\n",
            "Warning: Your Kaggle API key is readable by other users on this system! To fix this, you can run 'chmod 600 /root/.kaggle/kaggle.json'\n",
            "==> api key connect success <==\n",
            "Downloading covid19-variants.zip to /content\n",
            "  0% 0.00/432k [00:00<?, ?B/s]\n",
            "100% 432k/432k [00:00<00:00, 112MB/s]\n",
            "==> data import success <==\n"
          ]
        }
      ]
    },
    {
      "cell_type": "markdown",
      "source": [
        "![g.kaggle.json.location.JPG](data:image/jpeg;base64,/9j/4AAQSkZJRgABAQEBIAEgAAD/4RDaRXhpZgAATU0AKgAAAAgABAE7AAIAAAAFAAAISodpAAQAAAABAAAIUJydAAEAAAAKAAAQyOocAAcAAAgMAAAAPgAAAAAc6gAAAAgAAAAAAAAAAAAAAAAAAAAAAAAAAAAAAAAAAAAAAAAAAAAAAAAAAAAAAAAAAAAAAAAAAAAAAAAAAAAAAAAAAAAAAAAAAAAAAAAAAAAAAAAAAAAAAAAAAAAAAAAAAAAAAAAAAAAAAAAAAAAAAAAAAAAAAAAAAAAAAAAAAAAAAAAAAAAAAAAAAAAAAAAAAAAAAAAAAAAAAAAAAAAAAAAAAAAAAAAAAAAAAAAAAAAAAAAAAAAAAAAAAAAAAAAAAAAAAAAAAAAAAAAAAAAAAAAAAAAAAAAAAAAAAAAAAAAAAAAAAAAAAAAAAAAAAAAAAAAAAAAAAAAAAAAAAAAAAAAAAAAAAAAAAAAAAAAAAAAAAAAAAAAAAAAAAAAAAAAAAAAAAAAAAAAAAAAAAAAAAAAAAAAAAAAAAAAAAAAAAAAAAAAAAAAAAAAAAAAAAAAAAAAAAAAAAAAAAAAAAAAAAAAAAAAAAAAAAAAAAAAAAAAAAAAAAAAAAAAAAAAAAAAAAAAAAAAAAAAAAAAAAAAAAAAAAAAAAAAAAAAAAAAAAAAAAAAAAAAAAAAAAAAAAAAAAAAAAAAAAAAAAAAAAAAAAAAAAAAAAAAAAAAAAAAAAAAAAAAAAAAAAAAAAAAAAAAAAAAAAAAAAAAAAAAAAAAAAAAAAAAAAAAAAAAAAAAAAAAAAAAAAAAAAAAAAAAAAAAAAAAAAAAAAAAAAAAAAAAAAAAAAAAAAAAAAAAAAAAAAAAAAAAAAAAAAAAAAAAAAAAAAAAAAAAAAAAAAAAAAAAAAAAAAAAAAAAAAAAAAAAAAAAAAAAAAAAAAAAAAAAAAAAAAAAAAAAAAAAAAAAAAAAAAAAAAAAAAAAAAAAAAAAAAAAAAAAAAAAAAAAAAAAAAAAAAAAAAAAAAAAAAAAAAAAAAAAAAAAAAAAAAAAAAAAAAAAAAAAAAAAAAAAAAAAAAAAAAAAAAAAAAAAAAAAAAAAAAAAAAAAAAAAAAAAAAAAAAAAAAAAAAAAAAAAAAAAAAAAAAAAAAAAAAAAAAAAAAAAAAAAAAAAAAAAAAAAAAAAAAAAAAAAAAAAAAAAAAAAAAAAAAAAAAAAAAAAAAAAAAAAAAAAAAAAAAAAAAAAAAAAAAAAAAAAAAAAAAAAAAAAAAAAAAAAAAAAAAAAAAAAAAAAAAAAAAAAAAAAAAAAAAAAAAAAAAAAAAAAAAAAAAAAAAAAAAAAAAAAAAAAAAAAAAAAAAAAAAAAAAAAAAAAAAAAAAAAAAAAAAAAAAAAAAAAAAAAAAAAAAAAAAAAAAAAAAAAAAAAAAAAAAAAAAAAAAAAAAAAAAAAAAAAAAAAAAAAAAAAAAAAAAAAAAAAAAAAAAAAAAAAAAAAAAAAAAAAAAAAAAAAAAAAAAAAAAAAAAAAAAAAAAAAAAAAAAAAAAAAAAAAAAAAAAAAAAAAAAAAAAAAAAAAAAAAAAAAAAAAAAAAAAAAAAAAAAAAAAAAAAAAAAAAAAAAAAAAAAAAAAAAAAAAAAAAAAAAAAAAAAAAAAAAAAAAAAAAAAAAAAAAAAAAAAAAAAAAAAAAAAAAAAAAAAAAAAAAAAAAAAAAAAAAAAAAAAAAAAAAAAAAAAAAAAAAAAAAAAAAAAAAAAAAAAAAAAAAAAAAAAAAAAAAAAAAAAAAAAAAAAAAAAAAAAAAAAAAAAAAAAAAAAAAAAAAAAAAAAAAAAAAAAAAAAAAAAAAAAAAAAAAAAAAAAAAAAAAAAAAAAAAAAAAAAAAAAAAAAAAAAAAAAAAAAAAAAAAAAAAAAAAAAAAAAAAAAAAAAAAAAAAAAAAAAAAAAAAAAAAAAAAAAAAAAAAAAAAAAAAAAAAAAAAAAAAAAAAAAAAAAAAAAAAAAAAAAAAAAAAAAAAAAAAAAAAAAAAAAAAAAAAAAAAAAAAAAAAAAAAAAAAAAAAAAAAAAAAAAAAAAAAAAAAAAAAAAAAAAAAAAAAAAAAAAAAAAAAAAAAAAAAAAAAAAAAAAAAAAAAAAAAAAAAAAAAAAAAAAAAAAAAAAAAAAAAAAAAAAAAAAAAAAAAAAAAAAAAAAAAAAAAAAAAAAAAAAAAAAAAAAAAAAAAAAAAAAAAAAAAAAAAAAAAAAAAAAAAAAAAAAAAAAAAAAAAAAAAAAAAAAAAAAAAAAAAAAAAAAAAAAAAAAAAAAAAAAAAAAAAAAAAAAAAAAAAAAAAAAAAAAAAAAAAAAAAAAAAAAAAAAAAAAAAAAAAAAAAAAAAAAAAAAAAAAAAAAAAAAAAAAAAAAAAAAAAAAAAAAAAAAAAAAAAAAAAAAAAAAAAAAAAAAAAAAAAAAAAAAAAAAAAAAAAAAAAAAAAAAAAAAAAAAAAAAAAAAAAAAAAAAAAAAAAAAAAAAAAAAAAAAAAAAAAAAAAAAAAAAAAAAAAAAAAAAAAAAAAAAAAAAAAAAAAAAAAAAAAAAAAAAAAAAAAAAAAAAAAAAAAAAAAAAAAAAAAAAAAAAAAAAAAAAAAAAAAAAAAAAAAAAAAAAAAAAAAAAAAAAAAAAAAAAAAAAAAAAAAAAAAAAAAAAAAAAAAAAAAAAAAAAAAAAAAAAAAAAAAAAAAAAAAAAAAAAAAAAAAAAAAAAAAAAAAAAAAAAAAAAAAAAAAAAAAAAAAAAAAAAAAAAAAAAAAAAAAAAAAAAAAAAAAAAAAAAAAAAAAAAAAAAAAAAAAAAAAAAAAAAAAAAAAAAAAAAAAAAAAAAAAAAAAAAAAAAAAAAAAAAAAAAEJCIEUAAAAFkAMAAgAAABQAABCekAQAAgAAABQAABCykpEAAgAAAAM3OQAAkpIAAgAAAAM3OQAA6hwABwAACAwAAAiSAAAAABzqAAAACAAAAAAAAAAAAAAAAAAAAAAAAAAAAAAAAAAAAAAAAAAAAAAAAAAAAAAAAAAAAAAAAAAAAAAAAAAAAAAAAAAAAAAAAAAAAAAAAAAAAAAAAAAAAAAAAAAAAAAAAAAAAAAAAAAAAAAAAAAAAAAAAAAAAAAAAAAAAAAAAAAAAAAAAAAAAAAAAAAAAAAAAAAAAAAAAAAAAAAAAAAAAAAAAAAAAAAAAAAAAAAAAAAAAAAAAAAAAAAAAAAAAAAAAAAAAAAAAAAAAAAAAAAAAAAAAAAAAAAAAAAAAAAAAAAAAAAAAAAAAAAAAAAAAAAAAAAAAAAAAAAAAAAAAAAAAAAAAAAAAAAAAAAAAAAAAAAAAAAAAAAAAAAAAAAAAAAAAAAAAAAAAAAAAAAAAAAAAAAAAAAAAAAAAAAAAAAAAAAAAAAAAAAAAAAAAAAAAAAAAAAAAAAAAAAAAAAAAAAAAAAAAAAAAAAAAAAAAAAAAAAAAAAAAAAAAAAAAAAAAAAAAAAAAAAAAAAAAAAAAAAAAAAAAAAAAAAAAAAAAAAAAAAAAAAAAAAAAAAAAAAAAAAAAAAAAAAAAAAAAAAAAAAAAAAAAAAAAAAAAAAAAAAAAAAAAAAAAAAAAAAAAAAAAAAAAAAAAAAAAAAAAAAAAAAAAAAAAAAAAAAAAAAAAAAAAAAAAAAAAAAAAAAAAAAAAAAAAAAAAAAAAAAAAAAAAAAAAAAAAAAAAAAAAAAAAAAAAAAAAAAAAAAAAAAAAAAAAAAAAAAAAAAAAAAAAAAAAAAAAAAAAAAAAAAAAAAAAAAAAAAAAAAAAAAAAAAAAAAAAAAAAAAAAAAAAAAAAAAAAAAAAAAAAAAAAAAAAAAAAAAAAAAAAAAAAAAAAAAAAAAAAAAAAAAAAAAAAAAAAAAAAAAAAAAAAAAAAAAAAAAAAAAAAAAAAAAAAAAAAAAAAAAAAAAAAAAAAAAAAAAAAAAAAAAAAAAAAAAAAAAAAAAAAAAAAAAAAAAAAAAAAAAAAAAAAAAAAAAAAAAAAAAAAAAAAAAAAAAAAAAAAAAAAAAAAAAAAAAAAAAAAAAAAAAAAAAAAAAAAAAAAAAAAAAAAAAAAAAAAAAAAAAAAAAAAAAAAAAAAAAAAAAAAAAAAAAAAAAAAAAAAAAAAAAAAAAAAAAAAAAAAAAAAAAAAAAAAAAAAAAAAAAAAAAAAAAAAAAAAAAAAAAAAAAAAAAAAAAAAAAAAAAAAAAAAAAAAAAAAAAAAAAAAAAAAAAAAAAAAAAAAAAAAAAAAAAAAAAAAAAAAAAAAAAAAAAAAAAAAAAAAAAAAAAAAAAAAAAAAAAAAAAAAAAAAAAAAAAAAAAAAAAAAAAAAAAAAAAAAAAAAAAAAAAAAAAAAAAAAAAAAAAAAAAAAAAAAAAAAAAAAAAAAAAAAAAAAAAAAAAAAAAAAAAAAAAAAAAAAAAAAAAAAAAAAAAAAAAAAAAAAAAAAAAAAAAAAAAAAAAAAAAAAAAAAAAAAAAAAAAAAAAAAAAAAAAAAAAAAAAAAAAAAAAAAAAAAAAAAAAAAAAAAAAAAAAAAAAAAAAAAAAAAAAAAAAAAAAAAAAAAAAAAAAAAAAAAAAAAAAAAAAAAAAAAAAAAAAAAAAAAAAAAAAAAAAAAAAAAAAAAAAAAAAAAAAAAAAAAAAAAAAAAAAAAAAAAAAAAAAAAAAAAAAAAAAAAAAAAAAAAAAAAAAAAAAAAAAAAAAAAAAAAAAAAAAAAAAAAAAAAAAAAAAAAAAAAAAAAAAAAAAAAAAAAAAAAAAAAAAAAAAAAAAAAAAAAAAAAAAAAAAAAAAAAAAAAAAAAAAAAAAAAAAAAAAAAAAAAAAAAAAAAAAAAAAAAAAAAAAAAAAAAAAAAAAAAAAAAAAAAAAAAAAAAAAAAAAAAAAAAAAAAAAAAAAAAAAAAAAAAAAAAAAAAAAAAAAAAAAAAAAAAAAAAAAAAAAAAAAAAAAAAAAAAAAAAAAAAAAAAAAAAAAAAAAAAAAAAAAAAAAAAAAAAAAAAAAAAAAAAAAAAAAAAAAAAAAAAAAAAAAAAAAAAAAAAAAAAAAAAAAAAAAAAAAAAAAAAAAAAAAAAAAAAAAAAAAAAAAAAAAAAAAAAAAAAAAAAAAAAAAAAAAAAAAAAAAAAAAAAAAAAAAAAAAAAAAAAAAAAAAAAAAAAAAAAAAAAAAAAAAAAAAAAAAAAAAAAAAAAAAAAAAAAAAAAAAAAAAAAAAAAAAAAAAAAAAAAAAAAAAAAAAAAAAAAAAAAAAAAAAAAAAAAAAAAAAAAAAAAAAAAAAAAAAAAAAAAAAAAAAAAAAAAAAAAAAAAAAAAAAAAAAAAAAAAAAAAAAAAAAAAAAAAAAAAAAAAAAAAAAAAAAAAAAAAAAAAAAAAAAAAAAAAAAAAAAAAAAAAAAAAAAAAAAAAAAAAAAAAAAAAAAAAAAAAAAAAAAAAAAAAAAAAAAAAAAAAAAAAAAAAAAAAAAAAAAAAAAAAAAAAAAAAAAAAAAAAAAAAAAAAAAAAAAAAAAAAAAAAAAAAAAAAAAAAAAAAAAAAAAAAAAAAAAAAAAAAAAAAAAAAAAAAAAAAAAAAAAAAAAAAAAAAAAAAAAAAAAAAAAAAAAAAAAAAAAAAAAAAAAAAAAAAAAAAAAAAAAAAAAAAAAAAAAAAAAAAAAAAAAAAAAAAAAAAAAAAAAAAAAAAAAAAAAAAAAAAAAAAAAAAAAAAAAAAAAAAAAAAAAAAAAAAAAAAAAAMjAyMzowNToyNyAxODoyMzowNgAyMDIzOjA1OjI3IDE4OjIzOjA2AAAAQgBCACAARQAAAP/hCxdodHRwOi8vbnMuYWRvYmUuY29tL3hhcC8xLjAvADw/eHBhY2tldCBiZWdpbj0n77u/JyBpZD0nVzVNME1wQ2VoaUh6cmVTek5UY3prYzlkJz8+DQo8eDp4bXBtZXRhIHhtbG5zOng9ImFkb2JlOm5zOm1ldGEvIj48cmRmOlJERiB4bWxuczpyZGY9Imh0dHA6Ly93d3cudzMub3JnLzE5OTkvMDIvMjItcmRmLXN5bnRheC1ucyMiPjxyZGY6RGVzY3JpcHRpb24gcmRmOmFib3V0PSJ1dWlkOmZhZjViZGQ1LWJhM2QtMTFkYS1hZDMxLWQzM2Q3NTE4MmYxYiIgeG1sbnM6ZGM9Imh0dHA6Ly9wdXJsLm9yZy9kYy9lbGVtZW50cy8xLjEvIi8+PHJkZjpEZXNjcmlwdGlvbiByZGY6YWJvdXQ9InV1aWQ6ZmFmNWJkZDUtYmEzZC0xMWRhLWFkMzEtZDMzZDc1MTgyZjFiIiB4bWxuczp4bXA9Imh0dHA6Ly9ucy5hZG9iZS5jb20veGFwLzEuMC8iPjx4bXA6Q3JlYXRlRGF0ZT4yMDIzLTA1LTI3VDE4OjIzOjA2Ljc4NjwveG1wOkNyZWF0ZURhdGU+PC9yZGY6RGVzY3JpcHRpb24+PHJkZjpEZXNjcmlwdGlvbiByZGY6YWJvdXQ9InV1aWQ6ZmFmNWJkZDUtYmEzZC0xMWRhLWFkMzEtZDMzZDc1MTgyZjFiIiB4bWxuczpkYz0iaHR0cDovL3B1cmwub3JnL2RjL2VsZW1lbnRzLzEuMS8iPjxkYzpjcmVhdG9yPjxyZGY6U2VxIHhtbG5zOnJkZj0iaHR0cDovL3d3dy53My5vcmcvMTk5OS8wMi8yMi1yZGYtc3ludGF4LW5zIyI+PHJkZjpsaT5CQiBFPC9yZGY6bGk+PC9yZGY6U2VxPg0KCQkJPC9kYzpjcmVhdG9yPjwvcmRmOkRlc2NyaXB0aW9uPjwvcmRmOlJERj48L3g6eG1wbWV0YT4NCiAgICAgICAgICAgICAgICAgICAgICAgICAgICAgICAgICAgICAgICAgICAgICAgICAgICAgICAgICAgICAgICAgICAgICAgICAgICAgICAgICAgICAgICAgICAgICAgICAgICAKICAgICAgICAgICAgICAgICAgICAgICAgICAgICAgICAgICAgICAgICAgICAgICAgICAgICAgICAgICAgICAgICAgICAgICAgICAgICAgICAgICAgICAgICAgICAgICAgICAgIAogICAgICAgICAgICAgICAgICAgICAgICAgICAgICAgICAgICAgICAgICAgICAgICAgICAgICAgICAgICAgICAgICAgICAgICAgICAgICAgICAgICAgICAgICAgICAgICAgICAgCiAgICAgICAgICAgICAgICAgICAgICAgICAgICAgICAgICAgICAgICAgICAgICAgICAgICAgICAgICAgICAgICAgICAgICAgICAgICAgICAgICAgICAgICAgICAgICAgICAgICAKICAgICAgICAgICAgICAgICAgICAgICAgICAgICAgICAgICAgICAgICAgICAgICAgICAgICAgICAgICAgICAgICAgICAgICAgICAgICAgICAgICAgICAgICAgICAgICAgICAgIAogICAgICAgICAgICAgICAgICAgICAgICAgICAgICAgICAgICAgICAgICAgICAgICAgICAgICAgICAgICAgICAgICAgICAgICAgICAgICAgICAgICAgICAgICAgICAgICAgICAgCiAgICAgICAgICAgICAgICAgICAgICAgICAgICAgICAgICAgICAgICAgICAgICAgICAgICAgICAgICAgICAgICAgICAgICAgICAgICAgICAgICAgICAgICAgICAgICAgICAgICAKICAgICAgICAgICAgICAgICAgICAgICAgICAgICAgICAgICAgICAgICAgICAgICAgICAgICAgICAgICAgICAgICAgICAgICAgICAgICAgICAgICAgICAgICAgICAgICAgICAgIAogICAgICAgICAgICAgICAgICAgICAgICAgICAgICAgICAgICAgICAgICAgICAgICAgICAgICAgICAgICAgICAgICAgICAgICAgICAgICAgICAgICAgICAgICAgICAgICAgICAgCiAgICAgICAgICAgICAgICAgICAgICAgICAgICAgICAgICAgICAgICAgICAgICAgICAgICAgICAgICAgICAgICAgICAgICAgICAgICAgICAgICAgICAgICAgICAgICAgICAgICAKICAgICAgICAgICAgICAgICAgICAgICAgICAgICAgICAgICAgICAgICAgICAgICAgICAgICAgICAgICAgICAgICAgICAgICAgICAgICAgICAgICAgICAgICAgICAgICAgICAgIAogICAgICAgICAgICAgICAgICAgICAgICAgICAgICAgICAgICAgICAgICAgICAgICAgICAgICAgICAgICAgICAgICAgICAgICAgICAgICAgICAgICAgICAgICAgICAgICAgICAgCiAgICAgICAgICAgICAgICAgICAgICAgICAgICAgICAgICAgICAgICAgICAgICAgICAgICAgICAgICAgICAgICAgICAgICAgICAgICAgICAgICAgICAgICAgICAgICAgICAgICAKICAgICAgICAgICAgICAgICAgICAgICAgICAgICAgICAgICAgICAgICAgICAgICAgICAgICAgICAgICAgICAgICAgICAgICAgICAgICAgICAgICAgICAgICAgICAgICAgICAgIAogICAgICAgICAgICAgICAgICAgICAgICAgICAgICAgICAgICAgICAgICAgICAgICAgICAgICAgICAgICAgICAgICAgICAgICAgICAgICAgICAgICAgICAgICAgICAgICAgICAgCiAgICAgICAgICAgICAgICAgICAgICAgICAgICAgICAgICAgICAgICAgICAgICAgICAgICAgICAgICAgICAgICAgICAgICAgICAgICAgICAgICAgICAgICAgICAgICAgICAgICAKICAgICAgICAgICAgICAgICAgICAgICAgICAgICAgICAgICAgICAgICAgICAgICAgICAgICAgICAgICAgICAgICAgICAgICAgICAgICAgICAgICAgICAgICAgICAgICAgICAgIAogICAgICAgICAgICAgICAgICAgICAgICAgICAgICAgICAgICAgICAgICAgICAgICAgICAgICAgICAgICAgICAgICAgICAgICAgICAgICAgICAgICAgICAgICAgICAgICAgICAgCiAgICAgICAgICAgICAgICAgICAgICAgICAgICAgICAgICAgICAgICAgICAgICAgICAgICAgICAgICAgICAgICAgICAgICAgICAgICAgICAgICAgICAgICAgICAgICAgICAgICAKICAgICAgICAgICAgICAgICAgICAgICAgICAgICAgICAgICAgICAgICAgICAgICAgICAgICAgICAgICAgICAgICAgICAgICAgICAgICAgICAgICAgICAgICAgICAgICAgICAgIAogICAgICAgICAgICAgICAgICAgICAgICAgICAgPD94cGFja2V0IGVuZD0ndyc/Pv/bAEMABwUFBgUEBwYFBggHBwgKEQsKCQkKFQ8QDBEYFRoZGBUYFxseJyEbHSUdFxgiLiIlKCkrLCsaIC8zLyoyJyorKv/bAEMBBwgICgkKFAsLFCocGBwqKioqKioqKioqKioqKioqKioqKioqKioqKioqKioqKioqKioqKioqKioqKioqKioqKv/AABEIAqsBHAMBIgACEQEDEQH/xAAfAAABBQEBAQEBAQAAAAAAAAAAAQIDBAUGBwgJCgv/xAC1EAACAQMDAgQDBQUEBAAAAX0BAgMABBEFEiExQQYTUWEHInEUMoGRoQgjQrHBFVLR8CQzYnKCCQoWFxgZGiUmJygpKjQ1Njc4OTpDREVGR0hJSlNUVVZXWFlaY2RlZmdoaWpzdHV2d3h5eoOEhYaHiImKkpOUlZaXmJmaoqOkpaanqKmqsrO0tba3uLm6wsPExcbHyMnK0tPU1dbX2Nna4eLj5OXm5+jp6vHy8/T19vf4+fr/xAAfAQADAQEBAQEBAQEBAAAAAAAAAQIDBAUGBwgJCgv/xAC1EQACAQIEBAMEBwUEBAABAncAAQIDEQQFITEGEkFRB2FxEyIygQgUQpGhscEJIzNS8BVictEKFiQ04SXxFxgZGiYnKCkqNTY3ODk6Q0RFRkdISUpTVFVWV1hZWmNkZWZnaGlqc3R1dnd4eXqCg4SFhoeIiYqSk5SVlpeYmZqio6Slpqeoqaqys7S1tre4ubrCw8TFxsfIycrS09TV1tfY2dri4+Tl5ufo6ery8/T19vf4+fr/2gAMAwEAAhEDEQA/APfv+Ea0L/oC6f8A+Aqf4Uf8I1oX/QF0/wD8BU/wrToq+efcd2Zn/CNaF/0BdP8A/AVP8KP+Ea0L/oC6f/4Cp/hWnRRzz7hdmZ/wjWhf9AXT/wDwFT/Cj/hGtC/6Aun/APgKn+FadFHPPuF2Zn/CNaF/0BdP/wDAVP8ACj/hGtC/6Aun/wDgKn+FadZuta9YaDBDLqMuwTyiKMDqWP8AT3qZVZRV2xOfKrtif8I1oX/QF0//AMBU/wAKP+Ea0L/oC6f/AOAqf4VYsdRhvw/lBlK9Vbr9at1NLEKtBTpyumXJSg7S3Mz/AIRrQv8AoC6f/wCAqf4Uf8I1oX/QF0//AMBU/wAK06K0559ybszP+Ea0L/oC6f8A+Aqf4Uf8I1oX/QF0/wD8BU/wqbV9WttE0uS/vt/kxsitsXJyzBRx9WFXaPaS7hdmZ/wjWhf9AXT/APwFT/Cj/hGtC/6Aun/+Aqf4Vp0Uc8+4XZmf8I1oX/QF0/8A8BU/wo/4RrQv+gLp/wD4Cp/hWnVXUNSs9Lt1n1CdYInlSFWfoXdgqr9SxA/Gjnn3C7K3/CNaF/0BdP8A/AVP8KP+Ea0L/oC6f/4Cp/hWnVJtWtk16PSDv+1SWzXK/L8uxWVTz65YUc872uF3uQ/8I1oX/QF0/wD8BU/wo/4RrQv+gLp//gKn+FadFHPPuF2Zn/CNaF/0BdP/APAVP8KP+Ea0L/oC6f8A+Aqf4Vp1S0jVrbW9NW+sd5haSSMb1wco5RuPqpo559wuyH/hGtC/6Aun/wDgKn+FH/CNaF/0BdP/APAVP8K06KOefcLszP8AhGtC/wCgLp//AICp/hTZPD/h+GJ5ZtI02ONAWZ2towFA6knHFatcL8R9VdIrfS4jgSjzZQO4zhR9Mgn8BWFfEyo03Ns68Hh54qtGknudP/wjehf9AXTv/AVP8KP+Ea0L/oC6f/4Cp/hXGReOmtfB9tbwyGbVAGid2H+qAOFY5+8SuPxzn0Njw744tNP0eNNfub6e7uLmYQLDZT3UjqoQsQIkYhRvAycDnFZ08cqk1CLd7XN62X4ihSdWeydvXz9Dq/8AhGtC/wCgLp//AICp/hR/wjWhf9AXT/8AwFT/AAqre+MdIsNJtb+4N4FvGKW1sLCc3MzDOQINnmcAE8rwOelXdJ1zT9b0z7fp0++BWZX8xGjaJl+8rqwDIR3BANdfPPuebdjP+Ea0L/oC6f8A+Aqf4Uf8I1oX/QF0/wD8BU/wqxpeqWmtaZDqGmyma1nXdFIUK7xnGQCAcHsehHI4q3Rzz7sOZmZ/wjWhf9AXT/8AwFT/AAo/4RrQv+gLp/8A4Cp/hUPh7xVpfij7d/ZErv8AYLlrabehX5h3XPVT2PQ4NbNHPPuF2Zev69a+H7ET3Ry0jbI0B5Y/4Dua5ga14h1DM9oJDEOR5EWV/PBzVD4p+b9u0/d/qvLfb/vZGf0213mi/Zv7DsvsO37P5K7Nvpj+dfM4inWx+LnRVVwjC22jdz2Ixp4bCwrcvM5X32Rz6eKry10kNeRo9zISIsjbwOCzD68duhqkNX8SPH9qXzjDjO4QDbj8unvR4i2/8Jcv2v8A1G6PP+5xn+td0uNo2Y244x0xXn4ahisdVqUZYiSVL3VbdvuyqtSlQhGapp82vp5I53w74sh1e6awuNqXka7vl6P649x6V0deT2Plf8LWX+ytvlfamxt6Ywd+Pb71esV72V1qlWi41Hdxdr97HNmNCFGpFw0UknbsFeJ+Or86h8R1ttfSaHTrNgqxxjLNH1JHTlvXt+Fe2VRvdE0vUbgT6hp1tcyquwPNEGIGScZP1NevBQc17TbrY8HGYd4iCgnbW/qcRY+MtMk12FdIguiZXCLCYwCc9uvT+VbXxAu5bfTNMg+1yWNle6lDbX11FKY2ihYN0ccpuYIm4EEbuCOtbltoWk2Vws9nptrBMudskcKqwyMdQKtXNrb3trJbXkEdxBKpWSKVAyuD1BB4IrP6vhaLf1WLSbu03fW/TsmdkZ1pL9603toed+JILHwhpOoQ+HdbvLVpGtFvIGv2m+xQSThJLld5ZkOwtyDjjOMjNTXVrF4T8WaLb+FLm6nfUIrg3NlNfS3KyRpCzLNiRmwfMCLuGM78HPFdjpnhzRNFtJrXR9HsLC3n/wBbFbWyRrJxj5gAAePWk0jwzoXh9pW0LRdP01pseYbO1SIvjpnaBmq6W/r+kH9f1/X/AAfKdUsdMm+E9h4jn1u9fVr+S0M8z30jLcTNMm+EwltoAO4bQoK7fY1PqEeta5rHim6uBbBtMunignm8SXFgdOiVAUcRJEy8g79zE7s46DFelDwh4bGpTah/wj+l/bZ8+bcfY4/MkycnLYyeQPyp+peFvD+sX8V7q2h6dfXcOBHPc2iSOmDkYYgkc0mru/8AS229LeW/3i0X9ak+iPdSeH9PfUZoJ7traMzy2zZjkfaNzKcDKk8jjpXHvokfiX4geJbfV73UHs7WG08i1hvZYUjdkYlxsYc8D+ddBe/8Jb9tl/s3+xfsuf3Xn+bvx744/KtOxtfKQ3F1BapfzooupLdMCQqMDk8kDJxnpRP3tUJXjZHlvhK6m8Yx+G9P8U6hdNbyaEtzHGl28JvphIUcuyEM5RQhxnGXyR6UfEdvHqHhnUrKS+vbvS9J8T2VvZ3JvpQRG0kHmIZAwL7GZlDMSVI4IIzXq934X0C/0qHTL3RNOuLCA5itZbVGijP+ypGB+FTDRNKGjf2QNMs/7M2eX9i8hfJ2/wB3Zjbj2xVX1v53/wDJr/8AA/qxTt0/4bS3/BPM9RstS1PxtqukpbpeWOk21uLKK68S3Vk6RlMmfKI7SHduXzGYkbMepMNjbDWPFXhOy8U64lxJcaHcqXsL5wl+RMhUecuxm+UZOMbiDxjIr0e88H+GtRtbW21Dw/pd1BZoEto5rON1gX+6gI+UcdBU9/4d0TVIRDqej2F5EsflKk9sjgJkHaAR0yAcewpLR/12a/UUtV936f5Hm1xfT2DahoVpq92vh6PXbaye/N2xktY5It0kImJ3ACTYm7OV8zGRgYn8RzT+CtSvrTwbc3T7tDury4tpbiS6Fq6FBHMA5YqTuk+Xo23pxXo0GiaVbaR/ZVvptnFp2wobNIFEJU9RsxjB+lM0jw9o3h+GSLQtJsdNjlO6RLS3SIOfU7QM0v6/C3/B/wCDqP8Ar8b/APA/qxxNxY2Hh648NX/hvV725u9SvYomEuoyXC6hCwPmOVZivyr8+5QMYx0OKxPBuo6k2oaPaayJ9N0Fr+9Sykgnx9tuhcSELMV5VMbtqfxFTu7A+m6d4W8P6Pfy32k6Hp1jdzZEk9taJG75OTlgATzU82kWD6abNdOs2hV/NjgeBTGJN28NtxjO75s9c89aq9tf6/pbrzI5b/1/Xz8i8chTjk9q8t8Ppot/oFn4i8Q+I7uy1yS4zcTjU3jFvKJMG38onywoI2bSvPXrzXYQf8Jn9oj+0/2D5O4eZ5fnbtuecZ4ziuW+IPw98Pa3ezXOpaPbu12q77tIwkqsuMfvAMjoOp5561lUm6a5jpoU1WlyGbc3Wm3fhfXvEniDV76HVrW+uYI/s+oyRCx2OwhCorBcFArnIO4Mc5zivO5dR1vxKkvijXhNczQWCNJaxag1rNYMA3zogwpB+8MkH6813J8NeG9IsLe4v7GG5+wqqre3sX2iZADwS5BbAJ69FHoBUF8/hXxVFcXCwafq0tpGAt0YBKqE5wqyEYJyM4ByO/WvOq1nJX6L9P8AP+mz3MNhVTly6cz/AFe3y+f5W4qCa28Uavcy395cSQi3hmtU+0PEWRlyZTtIJOeMnpjtXovhLQYbj+wTZeM7izvmsLmSDy4opZJ4XkQFlkkVkJHlJn5S2D26nlbzSdMvEhS+0+1nSIbYhLCrBPYZHFeq+HrTw/4m8G21jrem6dex6eNpguoEdYgPusFbOBt78dDWGAqRdX5f8D+v6a7M5o1I4ZaJ66vr5fJbL5ejqWPjxbLwmtzq7xanqf26ew0/yAqHUWRyodeyjAyzfdGCemBWVrFhdQeGbPSZtWghn8VawRq+oWxDRQboyxiTPZhGkQJ65z1OK6/VbDwRd2dvb6zZaDdW9kh+zwXEEMghXHIRCDjoOAOwqnZ3Hw/TTZdFs7PSoNPumzLaCwEUEjccsuwLngcn0Feu6tJP3pK/rvt+Z8xHDV5K8YO2vRu2/wCRJ4Rvr+HxBrHhy7vRqdvpSQNDe+SkbLvDZhcRgJuUKDwq8OvHrc8d6xcaL4PvJdOUvqNxttLGMYy88p2J19Cc/QGsW51/SvDyQ6N4ItdLtQZRu2QbbZdw5x5XVs46A10FhZ6vdXCt4nt9HmWBhLbG2R2aOTkbhv6HBIyOeaaqQq3UXe2/6kzo1aFpTja+qOJ8Pi78K+MdEhm0G50jTr2xXSXea4ikEk8QLwsdjtgkeaCT1JWrvgnwtaa/4Tt9S1281S+u5pZ8yNqdxHtUTOFUBHAwAPrXfXNnbXqxreW0NwsciyoJYwwV1OVYZ6EHkHtS21rb2VusFnBFbwrkrHEgVRk5OAOOSSfxrR+9q/P8df68jC1np/X9Ioa/oNrr9iILoYZG3xuByp/wPcVzC6L4hsMwWZkER6eTMAv5ZGK7uivKxuVUcZNVG3GS6xdjuo4ypRjyaNdmcbL4T1C90IxzTxw3iEmFidxAPJVj9ecjOMmuZXw741ih+wR/aRbkY2rdLsx6fe6e1esUVl/YuGSSi2tLXT1fqdFPNK0LppPrqtvQ5Pwf4MGgk3l8yy3rrtAX7sQ7gHufeusoor06FCnh6ap01ZHBXr1K83UqO7CkLBcbiBk4GT1rk/idH53gG6j8mOffc2i+VMcJJm5j+VuDweh4P0NUP7NXQ7jRFTw7oWiyXOrBHTTVWUOot5iDuMMZVs9wM4zzyRW19G/66GVtL+v4HcW9xDd28dxazRzwyKGSSNgyuD0II4IqSvINM17xBH4f02w0NLtRZaFb3SG3+yBJHbcP3xndSIxsAPl88nJHAr1u3d5bWKSVPLkZAzICDtJHIyOtU1ZsT0diSiuY+JI3fDbXBtDZtWG1uh6cGshrKfw9ZQLZaJofhebUbyC0a80krKwRtxJO6BBnICrkMMt07Fdbf1qHS/8AWh3Md1bzPIkU8btG/luquCUfAO0+hwQcehqWvMrJbhNcazGoNNLL4kmha9MELSqRp+dy5QqrggchR0IxgkV0vw4gkg+H+liW7mui0W4NKEBQZ+6Nqjge+T70dF6L8UHW3r+bX6HUUUV5w0R+2nwDg+W2o/atuf8AmH584j6eZ+6+ho62Dpc9GDBhlSCM44NLXl0Wva0WttM0uO6i86bUpmfTIbNJGMd0yKMTlUxg5YgFjwcjk1LN4s8TxwpauY11Oa3g1IRosciiBIyZ41K5By8e0HJI84YPAo6X/r+lZjas2u39fiemUVi+FtSm1nS5dTebzbe6uZGtMKABAG2pjHUHbuyc/eraoFuFFebaLLqdxrI0mw1WXTYJ7nV55XhhjdyyXahcF1YD757Hg+uCIpfFOuyaPZapJqZht4dNjuLs2UUEhjfcwaSeKQhzEQvAiIbIb2oWqXn/AF+g2rNrsenUV55F4j8R3fiaZ7aK6Npb6qLJ4s2iW3lZALEs4n8zB3DAweAFPWqgj1fVtF8JalqHiK8M11qSNtigt1VMxyYxmMnOB3P8R46YFrbzt+Nv8xPr5X/C/wDkenUEBlIYZB4IPeiuP+KKq/gd1eGGdWvbQGK4OI3H2iP5WODhT34PHY0DWpU+IVm1rDZXVkvkoXaOTysLkkAr069GrzSxikiSVZMqC/AqB/GT2+szR6fpdjoWnvdWiTWFmN6YDEmVflUAtuxkKD8gGafq13cXWseTZ3gigN7JAHhjQ4RYEYAEgjO5jyc+leFio88pOD0ev3W2+8+0y7ESoUoUq0db2Xzvv9zRaAw374qQcbakByMjkVy9ut3e6pBPLdSO0FtdhwETawSVUyfl78Z9+mKRbvUF0meaO6MH2SwgmSJYUCsTHuIIx0OOgxXC8O+/9XsemsbG9uV/h2T7+Z1XTrSAgjI5Fc1qN9f2ck1qJ5Lkv5BVysasm9mBA+6v8Ixu7nnNamiT3k1rML9XDxylFMjRlyuAfm2HaDkkdu1ZypOMea5tDExlU5LP+r/5HZ+Brk2/iu3URRv5wZCWXJTgnKnseMfQmvWq8c8KWX23xPZg7gkLid2BxtCfNk+2QB+NdK3hfw1/wsFpoPD2kyr/AGV9qQJZxkNJ5uQ4+X7x/vda9rLZP2Vntd/lc+Tz+K+sKUd7L87HfUV5nL4s1rTPD1hrY1JdTk1TT57prJoUEdqyRGTKbAH2KRsbcWOSORS67reraFdQQJ45tGE0Cz5vraEsdxPK7No2ccZyevJr06k40leen9eR4FOEqjtDU9LoqLbcf89Yv+/Z/wDiqNtx/wA9Yv8Av2f/AIqqIJaKi23H/PWL/v2f/iqNtx/z1i/79n/4qgCWiottx/z1i/79n/4qjbcf89Yv+/Z/+KoALi1gvIfJu4I54iytslQMuQQQcHuCAR7illtoJ2iaeGOVoX3xl0BKNgjcM9DgkZ9CaTbcf89Yv+/Z/wDiqNtx/wA9Yv8Av2f/AIqgCnP4e0W6itYrnSLCaOz/AOPZJLZGEH+4CPl6DpWjUW24/wCesX/fs/8AxVG24/56xf8Afs//ABVABdWlvfWslrewRXNvKu2SKZA6OPQg8EVmW/hHw3Zwzw2nh7SoIrlNk6RWUarKvXDAL8w9jWntuP8AnrF/37P/AMVRtuP+esX/AH7P/wAVQBXttF0uySJLPTbO3WF/MiWKBVCNt2bhgcHb8uR246VLZ2Fnp8bx2FpBapJIZHWCMIGc9WIHUnuaftuP+esX/fs//FUbbj/nrF/37P8A8VQBLUX2W3+2fa/Ii+0+X5XnbBv2Zzt3dcZ5xRtuP+esX/fs/wDxVG24/wCesX/fs/8AxVAFS60DR76zFpe6TY3NsJDKIZrZHQOSSW2kYySSSeuSatCytRMkotoRJHGYkfyxlUOMqD2HA46cCl23H/PWL/v2f/iqNtx/z1i/79n/AOKoAW3t4bS2jt7SGOCCJQkcUahVRR0AA4AqSottx/z1i/79n/4qjbcf89Yv+/Z/+KoAji06ygnE0FnbxyjfiRIlDDewZ+QP4mAJ9SMmq8vh3Rbg2pn0ewlNn/x7F7VD5Hf5Mj5fwq5tuP8AnrF/37P/AMVRtuP+esX/AH7P/wAVQBXfRtLk1VNTk020bUEXat20CmVR6B8ZA/Gll0jTZ9PSwn0+1ks0IKW7wKY1IORhSMDB5qfbcf8APWL/AL9n/wCKo23H/PWL/v2f/iqAJaxvFumyav4UvrO3himlkjyiSoGBIIPAIxu44PY4PHWtTbcf89Yv+/Z/+Ko23H/PWL/v2f8A4qlJcyaLhJwkpLoeWeBvAEd/eXF74n0jMKKI4obuHHmHOSSp5KjA4PByfSuw1XwHolxprR6ZplpYzxgtCbeFY1DYx0AxzgAnrj6V0e24/wCesX/fs/8AxVG24/56xf8Afs//ABVYRw8I0/Z9Drq46rUr+32a2PE9D0uzn8Q2cFxDbx5lZFZ4Q2xnBHA9Sx5+td7J8NdMlVxILfbIgR1W3wGUDABAboBxitO98IWt7rUWptKYp45FkIiXCuynIJ59u2K3Ntx/z1i/79n/AOKrmw+D5YuNXXXQ78bmbqTjUw75XbXY4KX4ZRTb98Vo3mKEfLMdy+hyvI5PHvXEazY2vhXWJNJjjWGKMKf3YGwEgHjAGOvpXum24/56xf8Afs//ABVc/qPgiw1XxDFq96RJLHt3QlP3chAwCwzk44744GR1yVsDCUbQQ8Jm9SFRyrO6t+J53b+G9ZuyPJ0u6yeB5kZj9+rYFegeEPCR0B5ru8aN7yVRGDHkhEznGe+T/Kuk23H/AD1i/wC/Z/8AiqNtx/z1i/79n/4qroYGnRlzrVmOMzevioezaSXkV7XRtLsry4u7LTbS3ubk5nmigVHl/wB5gMt+NQ2/hrQrRGW10XToFZi7CO0RQWPUnA61e23H/PWL/v2f/iqNtx/z1i/79n/4qu9NrY8ZpPclooBz05opDCiiigAooooAKKKKACiiigAooooAKKKKACiiigAooooAKKKKACiiigAooooAKKKKACiiigAoopk7mK3kkXGVQsM+woAfRXFaLZ+Kda0Sz1I+LXt/tcKy+UunQkJkZwCRk1xmpeIPiXpVxdPI11JZ2rtmZ7CMIyKfvEheARz1oA9oopkDmW3jkbGWQMce4rB1jX7nQNZik1KFP7DnVYzdIDutpc9ZP9k5Az2PWgDoaK5yDxHPq/iRbPQY459PtGP269blN2OI4yOrZwSegro6AOCbSdP/ALLsE/4QnUXSOJgsK3IzAPMY7STIMkklu/DVc8PadZ2+tRSQeE77TXCti5muAyrx0wJD16dK0j4VJtbeA69rf7hSvmC8+aTLFssccnnH0AqfT/D39n3q3H9sardbQR5Vzc70ORjkYoA2KqasxTRb1kJVlt5CCDgg7TVuo7mBbq1lt5CQkqFGK9QCMcVM03FpFRaUk2eSeCRYnwxBfSaR4oS9/sdppL66u5vs8zeT8xU+aQN2SVO0Y6jGKlt/GA8NyHUmW4mh/wCEd0429pJcM+ZZZHUZY59RlsE4HQ9K9HtNCtrPwrFoEUkxtYrMWauxHmFAmzJOMZx7fhWQ/wAPNGltmhlku2U2FvYq3mhWjWBi0cikAEOGOc9OBxVyfvtrb/8Aa/zREV7tn/Wsf8mYth8Sb+Ww1fzNKhv7uwtBdRf2c0rRTAttKnfGGDLwTgHI5HpXQeC/Ek/iTT55ribSZjE4UPpl00q8jOGVlDIw6YNLD4QYWV7DeeItcu5buNY/tDXQjeALyDGI1VQc9SQSehyOKn0HwvFod9e37395qN9fCNZrm7KbiqAhVARVUAZPbJz1o0DU3KKKKQwooooAKKKKACiiigAooooAKKKKACiiigAooooAKKKKACiiigAqK6BazmCgkmNgAO/FS0UAcH4Y8deG9M8K6bZX+qJBc29skcsTRvlGAwQeKPE/jrw3qfhXUrKw1RJ7m4tnjiiWN8uxGABxXeUUARWoK2cIYEERqCD24rnfEg1PW7w+HdPhe3tZog19fumVWM5GyPPVjg89hXT0UAcjodlfeENTi0WOGS80S5ZjazquXtW5YpJjqp5Ib8K66iigAooooAKKKKACiis7WddsNBtY59SkZFlkEcapGzs7YzgAAnoDQBo0VzUXj/QJLmGF557czOER7i2kjTceg3MABXS0AFFFFABRUM93bWuPtNxFDu6eY4XP50+KaOeMSQSJIh6MjAg/iKAH0UUUAFFFRz3MFsoa5mjhUnAMjBQfzoAkoqKC5guVLW00cwBwTG4bH5VLQAUUUUAFFFFABRRRQAUUUUAFFFFABRRRQAUUUUAFFFFABRRRQAUVw+jaZbeJdLudX1q/u0vvOmRzHePELDYxAUKCAMAAksDnOa3/AAjf3Wp+E7G7vm3zSIcybdvmAMQr4/2gA340AbNFFFABXMeLv+Qx4Y/7Cg/9FvXT1y3jYywS6HfLbXFxDZ6gJJhbxGRlXYwzgc9SKAIfGVlpPi+SLwvJq6Wt/HILry1XcxAVhjqBnDZxnOBnGKk8Bm8t7XUtKvbx70aZdm2hmkGGKbFIB+ma5H7N4c/4TH+1/wCydX+z+Tu8v7FPv+0ebv8AM3fTjHpXYeCjLPLrl81tcW8N5qBlhFxEY2ZdijODz1BoA6miiigDzvxB4SsfF/xIuLfU57mNLbTonTyHUHl29QauQ+AdM8OafIYfE+s6baKd7n7bHGgPTJ+THpV7UrHXbLxhLq+jWVrex3FmkDJLceUUKsxz0ORyKraiddvDYXWs6CjQWN4Jnt7WcTmRSjru2kDJVipx3/CgB/hK5Ca/fWlvr76xZSQJNbPNdJNICCRJ90DAyy8GuwrlfD9jaz+LL/WbXSr228yHyzc3pdGlJYEqsbdFG1eePQV1VABXkHxwZvtejLk7dkpxnjOVr1+uA+JvgvU/FT6fLpPks1uHV0kfb97bgj8jQB5/8OdN1G4uL29hvrqx0y1jD3j203llx6A9MgZb8McZzXYQSa9oPxU06wk1e7vtJvwzQGeXeHXYTjPTIOOR2x60/wAOeH/FGieHjo15oljf2jTGV1+2CPzAR91vlORkA/hjpWtaaFqVx4h0m4fQrHSLSwd5HMVz5zv8hVVX5Rgc/wCcUAdtRRRQBzvjnxI/hbwvLfwReZOziKHIyqsc8t7AA/jgd68jlubRtBtdf8Xpea5c6lNKkMX2oxJCqYBOQDzk8AcYr3TU9NtdX02aw1CIS2867XU/z9iDzmvP4/h7r2jJJZ6LeaVqGmNJ5qW+rwb/ACm6ZGFPOO/H0oA5608SXXgXxRZ29pc3N3od9DDcLbTnfJEkgzgejD0HX9a9rrhtD+Hrx+IDr/ii9XUtRDBo0jTbFER0IHfHGOABXc0AFFFFABRRRQAUUUUAFFFFABRRRQAUUUUAY194R0HUb5ry802KSd8b2yVEmP7wBAb8QaTRtGudEvp4be5EmkSAvDbyZ32z5+6p7p147dq2qKACiikZQ6lTnB9CQfzFAC0VF9mT+9L/AN/W/wAaPsyf3pf+/rf40AS0VF9mT+9L/wB/W/xo+zJ/el/7+t/jQBLRUX2ZP70v/f1v8aPsyf3pf+/rf40AS0VF9mT+9L/39b/Gj7Mn96X/AL+t/jQBLRUX2ZP70v8A39b/ABo+zJ/el/7+t/jQBLRUX2ZP70v/AH9b/Gj7Mn96X/v63+NAEtFRfZk/vS/9/W/xo+zJ/el/7+t/jQBLRUX2ZP70v/f1v8aPsyf3pf8Av63+NAEtFRfZk/vS/wDf1v8AGj7Mn96X/v63+NAEtFRfZk/vS/8Af1v8aPsyf3pf+/rf40AS0VF9mT+9L/39b/Gj7Mn96X/v63+NAEtFRfZk/vS/9/W/xo+zJ/el/wC/rf40AS0VF9mT+9L/AN/W/wAaPsyf3pf+/rf40AS0VF9mT+9L/wB/W/xo+zJ/el/7+t/jQBLRUX2ZP70v/f1v8aPsyf3pf+/rf40AS0VGsCowYGTI9ZGI/ImpKACiiigAooooAKK5fwJ/bf8AZM/9tbfI89vsO7/WeVk4z7dNvfHtiuooA5l/iL4Ujv2s31dFmWTyiDFJtDZx97btxnvnFbqanYyyKkd7bu7HAVZVJJ/Ovl/Vv+Q1e/8AXxJ/6EaNIONasSOD9oj/APQhQB9O6vqcOi6LeandLI8NnC00ixgFiqjJxkgZ49amnukt7cTOkrqWVcRRNI3zEAcKCcc8nsMk1keN7ea78Ba5b2sMk80thMkcUSlmdihwAByTXFXWlCWedvDeh3llaYsRdRtZPD5063cbFtpGXKoH3SDIIP3jjgWskhvRJ/10PUqK850zw59kk0vUo9Lki1L/AISC7M1x5LCQW7ST9T1EZBU4+7yD1Oa9Go6f15f5iejt/W7X6BRRRQAUUUUAFFFFABRRRQAUUUUAFFFFABRRRQAUUUUAFFFFABRRRQAUUUUAFFFFAHI2HiS7sPh/aa9qkct60qLNcMpVfLVmAyAAOACOOvvVi41fUBq2iyvBNZQ3l09s9tKVbzE8pnV+OVbI6Z9c1S0zQrnXvBtlYaleXEFulkLa4tGh2v5qgjcWPJA4OOh2g5qa90u4F34a0yd5tS+z3BnuZpIvkwsbBS3YfMVwOvH40AdbRRRQAUVU03U7XVrMXNjKJI9xRvVGHBU+hFW6AOWuPhr4SurmS4m0gGSVy7kXEqgknJ4DYH4UW/w18JWtzHcQ6QBJE4dCbiVgCDkcFsH8a4K7+MutWuszw/YLBraKdk27X3lQ2PvbsZx3x+Fb1n8ZtNu76C3Ol3UYmkVN29TtycZxQB6RRWP4vv7nS/BesX9jJ5VzbWUssT7Q21lUkHByDz61S/4Ta0t1mXUbDULK4jjjkihmjQvdB22L5YVjyWIGG2kZGQKA2V/6/rU6WiudPjO1SCQXGn38F+k6QDTXWMzu7gsgXa5QggMd27A2tkjBqjc+OLg6npNrYaLeM1xftZ3sUvlCS2YRNJt/1oGcBXyNylc4OSBRuw6XOwooooAKKKKACiiigAooooAKKKKACiiigAooooAKKKKACiiigAooooAKKKKACiiigAooooAKKKKAMLwt4Xt/DVrceWxkubyUzXEmeCxJwAPQZ/H9Bu0UUAfNmreFPEJ1m9K6FqLqZ3IZLV2UjceQQMEUaT4U8QjWbItoWooonQlntXVQNw5JIwBX0nRQBn6/pX9ueHdQ0rzvI+22zwebs3bNykZxkZxnpmsK48F3eozSXOq6wst5HHEllLBaeWIPLkEgZlLNvJZVz90YGAB1rraKOtw3VmcpJ4Ou7iV9RutWjbWvPiniuY7TbDH5auqp5RckqRJJn58/NwRgYVfB9yJ7e/bVI21RdR+3zTG1PlSHyTDsWPflRsOAdxIIyc9K6qijb+v67B/X9feFFFFABRRRQAUUUUAFFFFABRRRQAUUUUAFFFFABRRRQAUUUUAFFFFABRRRQAUUUUAFFcnZ+NLq5eJn8N6ktvINwmjiZxgjggBeR+Na0HiK1muooJLa+tmmbZG1xavGrNgnGSOuAfyrlhi6FT4ZfmvzOmeErQ+KP6/ka1FFFdRzGF4W8UW/iW1uPLUx3NnKYbiPHAYE4IPocfh+p3aqabplrpNmLaxiEce4u3q7HksT3Jq3QB836j4w8Rwa/dSRa3fr5dy5VPtDbBhjgbc4x7YxW7pvxZ8TTapaxTPavHJMiuvk4yCQDzmreofBvXrjU7meC904xyys6b5JA2CSRkBDz+NGn/BvXrfU7aee904RxSq77JJC2AQTgFBz+NAHrGv6qND8O3+qGIzfZIGlEYONxA4Ge31rDu9V8TaXHDb3h0q4ub+eKC1uIopI44mYMW3xlyWChcghl3E4wvWuongiureS3uY1lhlUpJG4yrKRggjuKxk8GaElpNbm0lkWbZukmupZJF2HKbZGYsm08jaRg9MUdQ6GK/ibX/7Uh0NDpv8AaA1A2k10YJPKKfZjMrrHvyD0BUsenXnilDr+vXWv6TcT3lrFDbjUIry3ht5Ns5t5ArMMy4GQBtyDtJPLZ46+08NaTY/Zzb2zb7aZrhJJJnkcyMhQuzMxLnacZYnjHoKB4Z0kTQSrbMklvcS3MbJPIp3ysWkzhuVYnlTlfbih36B/X5/8A4mL4h67JpT3q6esizWguYS+mXdvFbsXQCN5ZAFlyHOGTH3TwQRU3iLV/E6+fpo1GwgurW+05hcW9rKoeOacKEK+dngqd3OGU4wucjqIvBmhQwywpaSeTKoTymupWSNdwbbGpbEYyo4QAcCrN/4c0vU2umvLZna7WJZXWZ0Y+UxaMgqQVKsSQVwael0/63uCuaabgi7yC2PmIGAT9KWkRQiKoyQowMkk/metLSAKKKKACiiigAooooAKKKKACiiigAooooAKKKKACiiigAooooAKKKKAOc0XxBpVvoGnwT3iJLHaxo6kHKkKAR0puparZanfaRFYTieRL9ZGVFPChHyenTkV0tFcnsajgoOSsrdO3zOr21NTc1F3169/kMmYpbyMvBVSQfwrI/tC5/56/wDjo/wrWuf+PWX/AHD/ACrArrOUs/2hc/8APX/x0f4Uf2hc/wDPX/x0f4Vy3hD+1f7Nm/tXHk+a32TP3/LycZ9umPb8K6CgDJb4kaMl4bV9XQSq/lnMLbQc4+9txj3zitdNfWRwiX8DMxwAGQk187aj/wAhS7/67P8A+hGjTTjVbQj/AJ7p/wChCgD6R/tC5/56/wDjo/wqoviGRtYfTQ7+ckCzlti7dpYqB65yp7Vn+Ioby48M6jDphYXb2zrDsba27acYPY+9cPJZW0bahJoXhy6hsnsbeJ4mspoQWExLkxgK0mFOWA++OMnNLrb+tmPp/XdHpd1rrWXk/abjZ58qwx/Jnc56Dge1TnULkD/W/wDjoryW20NZLNnv9FW4tLXWYZYY00d4lSFo03mOBtzKpbqB3BJAq3Da3h8cWl3FpjW0n9ozLcOunzGQxFJApe6ZtrocKQgGF+UcY5On9dl/mJ/1+P8Akei6V4hk1fSbXULZnWK5iWVFkRQwBGecZ5osvEMl/NeRQs6tZz+RJuReW2q2R7YYfrXk2o6bft4Xsbc6RILuDRkFvJJp09zIJgGJWPawW3kBA+Y8nI64xWlNp3mXupE6PeHWZtShksr02j4RQkO5hLjCLw2QSN3IwelXZczX9bhLT+vI9S/tC5/56/8Ajo/wo/tC5/56/wDjo/wqtRUgWf7Quf8Anr/46P8ACj+0Ln/nr/46P8KrUUAWf7Quf+ev/jo/wo/tC5/56/8Ajo/wqtRQBZ/tC5/56/8Ajo/wo/tC5/56/wDjo/wqtRQBZ/tC5/56/wDjo/wo/tC5/wCev/jo/wAKrUUAWf7Quf8Anr/46P8ACj+0Ln/nr/46P8KrUUAWf7Quf+ev/jo/wo/tC5/56/8Ajo/wqtRQBZ/tC5/56/8Ajo/wo/tC5/56/wDjo/wqtRQBZ/tC5/56/wDjo/wo/tC5/wCev/jo/wAKrUUAWf7Quf8Anr/46P8ACj+0Ln/nr/46P8KrUUATSapPDE8ks4REUszEDAA6mqejeK4PEOmJqGjXy3Vq7FRIqY5BwRggEU6ff9nk8vZv2nb5n3c47+1YPgT7R/wiNt9r/srfufH9kbfIxuPTbxn1x3oA9FooooAjuATbSgDJKHAH0rE+zT/88ZP++DW/RQBgfZp/+eMn/fBo+zT/APPGT/vg1tW1zDd26T20iyROMqy96loA8/m+HehXE8k0ujuXkYsxEkoBJ68BsCiH4d6FbzxzRaO4eNgykySkAjpwWwaz7n41Q22rS2z6I5himMbSi5G7aDjO3b19s/jW7bfFbwxdXcVvHPcK8rhFLQEAEnAzQBqfZp/+eMn/AHwaPs0//PGT/vg1t3FxDaW0txcyLFDEheSRzgKoGSSfTFcxb+OrCfWLsNKYdNtrCO5MtxaywyFnkZRhXAJBwNuF5J4zR1sHS5c+zT/88ZP++DR9mn/54yf98GrNj4n0nUZYYra4cTTSPEsU1vJE4dFDMrK6gqdpDYYAkcjIq9YX9tqdkl3YyebBJnY+0jdgkZ57ZHXv1oAyPs0//PGT/vg0fZp/+eMn/fBrfooAwPs0/wDzxk/74NH2af8A54yf98Gt+igDA+zT/wDPGT/vg0fZp/8AnjJ/3wa36KAMD7NP/wA8ZP8Avg0fZp/+eMn/AHwa36KAMD7NP/zxk/74NH2af/njJ/3wa36KAMD7NP8A88ZP++DR9mn/AOeMn/fBrfooAwPs0/8Azxk/74NH2af/AJ4yf98Gt+igDA+zT/8APGT/AL4NH2af/njJ/wB8Gt+igDA+zT/88ZP++DR9mn/54yf98Gt+igDA+zT/APPGT/vg0fZp/wDnjJ/3wa36KAMD7NP/AM8ZP++DR9mn/wCeMn/fBrfooA56SykmieOW3d0dSrKUOCD1FUtG8N2vh7TE0/RtPa1tUYsI1DNyTknJyTXXUUAFFFFABRRRQBzng3w3N4dsbr7TcvLLeTtO0W7KQ5J4Hv6nv+FdHRRQB8r6yjR65fK6lWFxICCMEfMaNGRpNcsVRSzG4jAAGSfmFfVFFAGd4g0r+3PDt/pfm+Sbu3eISYztJGAcd65TU/CGu+IZLm41VrC0mNvbpClpdTEF4ZjLkuFRkDZx8vK9cmu8oo63DpY4ZvBV+fD919j8jT9ae6S5gmfULi+CMq7MtJL8xyhccAAAjrjNdjp9lDpum21jartgtolijX0VRgfyqxRQAUUUUAFFFFABRRRQAUUUUAFFFFABRRRQAUUUUAFFFFABRRRQAUUUUAFFFFABRRRQAUUUUAFFFFAGXoXiCy8QWkktlIPMhcxTxE/NE4OMH244PetSsvQvD9l4ftJIrKMeZM5lnlI+aVyc5PtzwO1alAHgl98UPFdtrlwE1BDDFcMBCbePbtDfdzjdjHvn3rdsPjRfXOo20Euk24SWVUYrK2QCccVgan8MvFsurXckOliSN5nZHFzEAwLEg8sD+dGmfDLxbFq1pJNpYjjSZGdzcxEKAwJPDE/lQB7hrGqQaJot5ql5u8izhaaQKOSFGcCuCvPiRe6hpN2mhLpDX9u1tIWtdVW5jEUkoQgssRw+eCuMANkMcYr0K/sbfU9PuLG9j8y3uI2jkTJG5SMHkdKyH8KC40i5sL/WtUvFnCBJZnj3wbG3KV2oFJBAOWDE45zS6j6Edv4j1K71CWO10aOe0tbhbS7mjvPnSUhSxRCg3ou4ZJZTwcKa6OsJPC0ceom5j1XUo0klSe4t45EWO4lUAb2wgYE7VyqsqnHI5NbtV0J6hRRRSGFFFFABRRRQAUVk+J9fh8L+G7vV7mJ5ktwP3acFiWCgZ7ckc1keBfiBY+N7WbyoTZ3sHMls0m/5T0YHAyO3Tg/hWbqwU1BvVnZDA4ieGliowvCLs32f5nW0UUVocYUUUUAFFFFABRRTXbZGzegJoAdRXzVoXxP8T2vieK7udSmu4J5x51rIcoVJ5Cj+H2xivpWubD4iNdNx6Ht5tk1fKpwjVafMtLeW4UUUV0niBRRRQAUUUUAFFFFABRRRQAUVzPgfVtV1XTLk6tbFEguHit7hjzOgJGce2MZ7/ga6agDOPiLRRd/ZTrFgLjf5fk/ak37s427c5zntWjXytq3/ACGr3/r4k/8AQjVzSNX1JdbsSNQus/aI/wDls394e9AH0rf39tpenXF9fSeVbW0bSyvtLbVAyTgZJ49KnBDKCOhGRWB4+/5J34g/7B0//oBrl9Ya90K+vrSx1LUjaSWlnPcySXDzPAjXBSaRC2SnyZJ24C4yAMUdbDeiv/XT/M9IorzCO5+3eIrHTtI1q/uvD82oqkdzFqEjmQ/ZZ2kjWfcWdQVjP3jgk4IxxPYJdWTWl0uqalNLH4gk09RPeySIbfe6hGUnDEYHzsC3HWjrb+ui/VCeiv8A11/yPSKK8x8EajrF74itTfahb/aykv8Aalm2qzTSqe2bYxBINrYAwQCO7da9Oo6B1aCiiigAooooAr39jbanp89lfRLNbzoUkRuhBr5x0d5fh/8AF1Ld5WWG3vPs8jNxvhc43H/gJDfhX0tXzx8cII4fiErxrhprKN3PqcsufyUflXm49WjGqt0z7ThKp7StVwU/gqRf3/8ADN/gfQ9FU9Hme40OwmkJZ5LaN2J7kqCauV6Kd1c+NnFwk4voFFFFMkKKKKACkdd8bL03DFLRQB8d2ziy1OJ51JEEwLqOvytyP0r600TXLDxFpMWo6VMJreUcHGCp7qR2Ir5j8X6T/ZnxA1PT52EEf2xirEZCxudyn/vlhXW/A7V7m28XzaYshNrdwM7Rk8B15DD3xkf/AKq8DB1XRqum+rsfrfEmBhmOXxxkHrCPN5NOzZ7/AEUUV75+SBRRRQAUUUUAFFFFABRRRQAiIsaKkahVUYVVGAB6UtIjrIivGwZWGVZTkEetLQBwN38HfD13eTXLXWoxtNIzlUlTaCTnAyhOPxotPg74etLyG5W61GRoZFcK8qbSQc4OEBx+NPm+L/h2DUns5Yb8eXKYmm8pdgwcFvvZx+Gfat2Dxx4ZubiOGHWbVpJGCou7GSegoA3qKo63qX9j6BqGp+V532O2kn8vdt37FLYzg4zjrism88Z2tjdWsd2kUEMt0LeWeW6jVYR9nM+48nHTGG2nnPTGQdv69DpKKhtLy21C0jurC4iubeUZjmhcOjj1BHBqagQUUUUAFFcj8UpriD4Z6vJaSvFIEjBZDg7TIoYZ9wTXKfAS/lm0XVbKSVnjtpo3jRjnZvDZx6DK1zyrpVlStuj2KWVyqZbUzBS0jK1remt/mj1G+1Gy0yAT6leW9pEWCiS4lWNc+mSeteL/ABO+Jl9PrP8AY3hS/eKCH5Zbi1bDyyZ+6rDnA6cdTmo/j5PMdf0q3LnyFtmdVzxuLEE/kBXl7wXVh9luGV4TMnnwODglQ5XcPT5kP5V5uMxc+Z0o6W6n2vDeQYf2VPHVnzOSdova/wCr0/qx6L8OPGviO28e22kavf3d3DcStBNDdyGRo3APILZIII6fWovjm27x/CMfdsIx/wCPuf61jeGJ3f4wWU8hLPLqm4nPXc55/Wtf44/8lAj/AOvGP/0J6wcm8LJN3sz1Y0KdPPaU4RUeam27d7nvOjDGhWA/6do//QRWdrHjfw5oGoJZavqsNvcvj93hmK56btoO38cVoWNxFD4ftrmVgkSWqyMx/hUICT+VfNdjp9z8SPiNOkTmH7fPJO8jDd5MfJ6d8DAH4V6mIrypKMYK7Z8JlGVUcfUrVcTJxp0022vn69n0PYvF3xc0zwtri6YllLfyIFa4eOQKIwwyAODuOCD2HPWu40+/t9U023v7N99vcxLLG2MZUjIrw343aFYaRe6PPZRFZ7iBo5nLZ8wRhFQkeuOM/Surg8SyeFPgLp99CwF28AhtiecOzHB/BQT+FRDETjVnGpslc6sTlGGq5fha2DT56j5Xfq9VfyV1925oeMvixp/hLXY9LWye/lUBrkxyhfJB6DoctjnHHUc13kEyXFvHNHnZIgdcjHBGa+U4NAvtU8M6r4nup/3NtKqF5Dlp5XZcj8A2Sfp749Y+At9LNoGp2kkzOtvOjIjHOwMp6egytZ4fFzqVeWa0ex05zkGFwuA9th5XlTdp76t2+61+nfXU9XoorwP4meM9fvfHM+haPeXNtBBIsEcVs5RppCBnJHJ5OAOnArtr140I8zPm8qyupmdd0oNRsrtvoib476LND4gstZSI/Z7iAQO4HAkUk8/VSMf7prlPhhqC6d8SNIlkOEklMBz6upUfqRUuo6B4/XSrk6tHqv2FE8ycXNwTHheckFscdq5fTrn7FqlrdHP7iZJOOvDA/wBK8CrO1dVLW1vqfrWBwyllbwXtFO0XG8ezWnzPsSio7eeK6tori3cSRSoHRx0ZSMg/lUlfTH4g007MKKKKBBRRRQAUUUUAFFFFAHM+B9J1XStMuRq1yXSe4eW3t2HMCEk4z75zjt+ddNRRQB8rat/yGr3/AK+JP/QjRpP/ACGrL/r4j/8AQhX0rL4Z0GeZ5Z9E06SR2LO72kZZiepJI5NEXhnQYJklg0TTo5EYMjpaRhlI6EEDg0AJ4os59R8IavZWcfmXFzYzRRJuA3MyEAZPA5PeuSuNA1i31+PUE0g3sUOrRXflrNEGZFsPKLDcwGRJwASORngc16FRQtHcd9Lev4mF4TsLqysb2W9tvsb3t9LdLa7lYwK2MKSpK5OCxwSMseT1rdoooEFFFFAGD45hSfwDrqSDIFhM4+qoWH6gV5R8A5mXxFqsAPyvaq5GepVwB/6Ea9wubaK8tJra5QPDMjRyKf4lIwR+Rr5s1TT9a+FPjhZ7QkojE20zKfLuIj1VsfkR2PPoa83F3p1YVraLc+24f5cZgMTlylactY362/4Zfn0HfF3UJb74k36SNmO1WOCIf3QFDH/x5mNY+v6lZajoegLas32mztGtrhGXGMSFlIPcHefyNaGkWt58R/iQstzbjbd3AluxCCFjiGN3PbgYB9TWf4z8Lz+EfE1xps254vv28pH+sjPQ/XsfcGvKqc8uaqtm/wDgn3+D9hRdDAydqlOKdl6cr/z/ABNH4Y2Fxq3xJ01kVnEEpuZnx90KM5P44H4iui+PNsU8X2Fz/DLZBPxV2/8AihXo3wo0qysfAGn3VtbRJcXcZeeZV+aQ7mxk+w7Vl/GbwneeINDtL/S4WnuNPZ98KDLPG2MkDuQVHHoTXf8AVnHBu2rep8l/bVOrxFFy92Ebw1+evzZrWN/F4t+Ec0ekTrPcyaWbZ0Q4KTeTgofQ5P614l4C8ZDwLrF1dTaZ9seaLySpl8to/mBP8J9OnHSvUfgdpl7YeG9QkvraW3We5BiEqFSwC4JAPbPGfauw1XwN4Z1q7N1qWjW0s7HLSAFGY+pKkZP1rV0qleEKsXaSOCOPwWWYjE4CtFzpSfR6+m6/NbHgfjbxjd/EXXLFLXTzCIx5Nvbq/mM7MRk5wOuBx7V2HxU0qXQvhj4Z0x23fZnCSkdC/lnOPbJavUdH8HeHtAn8/SNJt7ebGPNC7nA9mOSKoeP/AAb/AMJr4fjsUuhazQzCaOQruUnBBBHpg/pSeEqck5Sd5Mcc/wAI8VhqdGHJQptvXV6p69dr+Z4NqeuQH4Z6JodrKDKLme5u0Xsc7Uz+BP6VY+Gfir/hEfF0bXpMdjeKIbjcMbQeVf8AA/oTXcaJ8B1g1GObXdUS5toyCYIIyvmexYngfT9K0fil8NDrcK6v4egUX0EYSW2QAecijA2/7QHGO447AVyrD4iK9rbWNtPQ96ec5RVbwHNeFTmblsk5O63X49LLzt6grB1DIQykZBByCK+bvHD/ANifGi4u5gSkN7DddOowj8fyq94I+JHiLw/qFl4fvYDd23nLAIJkImiBOMKevGeAc+nFeteLvh3onjGRJ9QWaC7jXYtxbsAxX0IIII/DPvXXUf1yl+73TPAwlP8A1cxzWM1p1ItJrtda2/rfS5xvj34m+H9c8BX9lot8zXdwETynhZTt3gtyRjoCOteMvZMmkQX2Dslnkhz2yqof/Z69V174D3EUYk8N6kLgjrDdgK34MOPwIH1rdtvhMz/C3+wryWJdUE7XiSocqkpAXaT3BUAH355xXLVoYivNua1SPcwOaZPleHjHC1G4ynrfdXVr7LRWR0/wzuhd/DfRnEgkKQeUSD02krj8ABXU1812vhH4j6I72+m22q2qh+RaXBVGPr8rYPQV9CaAuop4esF1tg2oCBBcEY+/jnpxn6cV6OFrSnHklFqyPj8+y+lh6rxFKtGanJuyeqvr0NCiiiuw+aCiiigAooooAKKKKAMvQvEFl4gtJJbKQeZC5iniJ+aJwcYPtxwe9alZeheH7Lw/aSRWUY8yZzLPKR80rk5yfbngdq1KAPBL74oeK7bXLgJqCGGK4YCE28e3aG+7nG7GPfPvW7YfGi+udRtoJdJtwksqoxWVsgE44rA1P4ZeLZdWu5IdLEkbzOyOLmIBgWJB5YH86NM+GXi2LVrSSbSxHGkyM7m5iIUBgSeGJ/KgD2XxfPLbeCdbntpXhmi0+d45I2KsjCNiCCOQQe9cpd69qja/ZW+nmaeWLVkgMMt0I45Q2nmTBITIUEhiDvORkdgO51TT4tX0e8065Z1hvIHgkaMgMFZSpIyCM4PpWLc+CbOe6+1RX1/a3Au1u0lhdMpIsHkDAKEEbecEHJ9uKFo3/XUelrev4pWKs+s6hqekPOZrnRvsNxJBqCafb/bZ/MXG0Rfum3KQwJOzOMdOaoPqmt3Pg+21mfXVsE+yAx/Y4o5JLu4LEIjKysOfkG1MHcWGRittfB0MNvELTVdStryOWSVr+N4zLK0mN+8MhjOcL/BxtGMVDJ4GgD6e1hrOp2H9no4iEXkSAu5JeUiWJ/nOT8wxwSBgE0raf12F/X46HQ2LXL6dbNfoqXTRKZlT7qvgbgPbOanqK2ieC1jiluJLl0UK00oUNIfU7QFz9AB7VLVPcS0QVDd2Vrf25gvraG5hbrHNGHU/geKmopblJuLuivZ6fZadD5Wn2kFrGf4IIlQfkBXh/wAe7nf4p022/wCednv/AO+nYf8Aste8V87/ABvYt8QgD0WzjA/Nj/WvPx+lCyPruEk6maqUndpN/p+p6J8Eb03Xw98ljn7JdyRAegOH/m5r0SvJ/gG5Ph3VU7C6Uj8U/wDrV6xW+Ed6ETzOIKap5pXS73+/X9QooorpPDCiiigAooooAia1t3uEuHgiaZBhJCgLL9D1FS0UUDbb3CiiigQUUUUAFFFFABRRRQAUUUUAFFFFABRXOeDfEk3iKxuvtNs8UtnO0DS7cJNgnke/qO3410dABRXy1qdxMniK8uEldZluncSBjuDBjzn1rd0vx74nfWLNZNZuHRp0DK2CGBYZB4oA+hZ54ra3knuZUhhiUvJJIwVUUDJJJ4AA70xry2R4ke4iVpm2RKXAMjbS2F9TtBOB2GayfG3/ACIOv/8AYNuP/RbVxNy8tz4ptIEu0sGXXIo0uIoYw4zphPUrhmJJALbsZA6AChauw7aX9fwsepUV5ld3Oq69JY6HPfWtxCNSurd7q8h3R3YiUFFeOMoHPzMCoKgmMnHGKzfFviOTV/h7Pp8tndWlrHY3HnS6fYzvbytEzxoiOilUjJTedxGF2jkE0L+vzBK7t/W9j1+iq9hcJd6fBPEsipJGGUSxNGwGO6sAwPsQKsU3oyU7q4dKrWWpWOpK7adeW92sbbXMEquFPocHg03VbEapo95YNK0IuoHhMidU3KRkfnXzr4Ga88M/Fy306K4wUvXsp9vCyqGKnI+oyPfFclau6U4q2jPfyzKYZhh601O06aulbdep9K14N8d9Mkh8UWOpBD5Nza+WW7b0Y5H5Mte81j+J/DNh4s0V9N1RW8ssHSRDho3HRh+ZH408TRdak4rczyPMI5djo15/Ds/R/wCW5598Av8AkBav/wBfKf8AoNes1zvgzwbZeCtKls7GWWdppPMlllxljjAGB0AH9a6Kqw8JU6UYy3M85xVPGY+pXpfC3p9yQUUUVueSFFMlljghaWeRY40GWd2wFHqSayf+Ey8Mf9DHpP8A4HRf/FVLlFbs1p0atTWEW/RXNmivAF8b+J/FHxVgi0PUJo7c3eyC2jlxCYVJJLDo2VBJJz7dq9l17xfoXhlV/trUYrd2GViALuw9dqgnHv0rCliYVE5bJdT1sdkuJwc6dJ+9Oavyq7a+X9dTaorh7X4weDrqcRNqEsGTgNNAwU/iAcfjXaxSxzwpLBIskcihkdGyrA9CCOorWFSE/hdzz8Rg8Thbe3puN+6aH0UUVocgUUUUAFFFFABRRRQAUUUUAFFFFAEVtbQ2lukFtGscSDCqo6VLRRQB5ZffBRbvULi4TXjGs0rOENnuK5OcZ3jP5UWPwUW01C3uH14yLDKrlBZ7S2DnGd5x+Vda/wARfCkd+1m+rosyyeUQYpNobOPvbduM984rdTU7GWRUjvbd3Y4CrKpJP50ATTwRXNvJBcxJNDKpSSORQyupGCCDwQR2qncaFpF4rrd6XZTq7b3EtujBm2bMnI5Oz5c+nHSpdU1CLSNHvNRuVdobOB55FjALFVUsQMkDOB61UfxDax3tnatDdB7y4+zxsYSq7vJMucnAI2qRlc88etG49f6/Emk0LSJtJXS5tLspNPQALaNboYlx0wmMfpVhrG0ewNi1rC1oY/KNuYx5ZTGNu3pjHGKnrJvvFGkadqIsru5dZsqHKwSPHEWOFEkiqVjz23EZoEawGBgcCish/FWjx6sNNa6cTmUQbvIkMQkIyIzLt2B/9ndn2rXo8w8gr5t+JULeHfizcXlp8rGWK9j56NwT/wCPA19JV87/ABvUj4hAn+KzjI/Nq87MV+6T7M+y4Ol/woSg9pRd/vR9AzXttbWf2u6uI7e3ChjLM4RVB9SeBS2l5bX9stxY3EVzA/3ZYXDq30I4r5v+InjdvFFxaWFkzDTrCMKvP+ukxhnI9Ow9snvXW/ALUJ/P1fTixNuFSdVP8LZKkj6jH5CnDGqdb2aWncnE8MVMNlrxlSVpLXlt0bt9/X8D2mkZgqlmIAAyST0pa+bvG2r6142+INxo8Ds0cV29raWofanykjcc8ZOM5P0rfEV1Rina7Z5OT5TLM6so86hGKu2+i/A+kQQQCDkHoRRXhXwT8UXlt4hfw5dyu9rcI7Qxuc+VIoyQPQEA5HqB717rVUKyrQ50ZZtls8sxTw83fS6fdM8V+O/iC4W7sdAgkZIDF9pnCniQliFB+m0nHuPSsmw+CGtahpVpepqNlF9ohWUxSB8puGQDgHnmm/HUEePbYkddPjx/33JXtnhW/h1Pwlpd5bbvLktkwGGCCBgj8wa8+NKFfEzVTofYVcfiMpybCzwllzXu7X13/r0PP9F+Hi/DnRtV8Rz3q3mp2tlK1vtTEcR2nnnkk9O3BNeceDPCd58RfEVz9r1Ex7B51zcSZd2yccep+p4/SvePiKSPhzre3r9lYfyryP4PeJNG8Myaxda7fJaJIsKR5RnZjlycBQT6dqmtSpRrQpPSO5plmOxtfLsTjo+9Wuoqyu7aaJW82/xN3WvgPDHpbvoOpTS3qDIiuQoWT2BAG0/XI/nWP8JvFmpaJ4rj8Maizm0nleHyZOtvKM9PTJGCPU5+vsmk+LNA1ybytJ1a1uZcZ8pZMOR/unmvBrE+d8eyYhwddkIx6CU/0p1oU6M4To9XYjLsVi8xwuJwuYq/LHmV1Zp6+nyPpGiiivYPzkKKKKACiiigAooooAKKKKACiiigDl/An9t/2TP/AG1t8jz2+w7v9Z5WTjPt0298e2K6iiigD5W1b/kNXv8A18Sf+hGjSDjWrEjg/aI//QhX0BcfDXwldXMlxNpAMkrl3IuJVBJOTwGwPwot/hr4StbmO4h0gCSJw6E3ErAEHI4LYP40AaPi+CW58E63BbRPNNLp86RxxqWZ2MbAAAckk9q4bUdKc64JdU0e8u9PGsxSzIlo8oaMabsLFQDuUP8AKRg5PGCeK9RooWlx30t6/ieT3OjahLpKR6FpV/aj7TdSQIEaAppxxvt/mX5GkPKIcFeD8u3Fa/iLfdWS6dpOmanaqVha3tI7D/Rr9cJhJ32ZiC7dpDOhwOjDivQaKFp/X9f1fuL/AIP4/wBfl2OIvNQt7vxWunXGnahaafZXazfudIuHW9uc7g/mJGUEasQck5Zhk4A+bt6KKOlg63CvDPj5p5j13StQA4nt2hJ90bP/ALPXudef/GfR/wC0vAElyi5l0+VZxjrtPysP/Hs/hXJjIc9CS+Z9Bw5iVhs0pSezfL9+i/Gx4t4Qt45ItfuJUDG20edoyRnDMVj/AJOa7r4AxZ1TWpf7sMS/mzH+lcL4RDPbeIok5L6NKceyyRuf0U1vfB7xQ2h+LBppgSSHVnjidycNGw3bSO2CW5H0/Hx8NKMalNvzP0jOqVWtg8XCnq7R+5Wb/U+i6+Ub1tRn8f3r6N5/29r+Zofs+fM3b2PGOc19XV4V42+FPiGLxRdar4aj+0wXMxnURTBJIWY5I5I4yTjB6V6OPpznGLir27HxfCWMw+HrVYVpKPMtObb0Zb+FHw/1uy8ULr2u20lmlur+Usx/eSOylScdQME8nvXr8eq6dNfGyiv7V7sLuMCzKZAPXbnOK+ef+Fa/EDVH/wBMs52BPL3N4h/mxNLH8M/Heg6ta3OnWbfaFcNHPbTqQh98ngY654INY0a06MeWNN2/ryPUzLL8LmVd1a2NhzWskrWVvPmZ1Hx+07E2jakkZwVkt5H9MYZR+r11Pwa1tdU8Bx2pULLp0hgbH8Sn5lP64/Cun1vw9b+JvDTaVrmHMiKXki4KSD+Jc9Of04qr4M8GWPgrS5bSxllnaaTzJZZcZY4wBgdAB/WuqNGccS6i2aPn6uZ4erkkcFUv7SEtO1rvW/o2vuLvifTn1bwnqlhCMy3FpIkY/wBoqdv64r5b0a30qa+ktvEFzcWEZUhLiKLzPKcH+JOCR16c5xX1zXC+J/hJ4f8AEl9LfAz2F3Kd0j25G12/vFSOv0xmpxmGlValHdG/DudUcBGpQrtqMtU1un/Xk/Q8NvfD2lLKo0nxTYXqHgmWKW3YH6MuMe+a7b4WeCY18WW+qXOsaXOLTLR29rdLJI7EEAkDoBnP1FaU37P8ZX/R/ETBvR7PIP5PxWBq3wS8S6apm0ya31EJyBE5jk474bj8jmuCOHq0pKbp7dn/AMOfXVc2wONoSw1PGWcla8o23+UUfQdFfN+m+PfGngrVIrXWHvHiTBez1BSSyZx8rNyOhwQcfWvoqzuor6xgu7Zt0NxGssbeqsMj9DXrUMRGteys0fnua5NWyxxlOSlGWzWxNRRRXSeIFFFFABRRRQAUUUUAFFFFAFTTdTtdWsxc2Mokj3FG9UYcFT6EVbrC8LeF7fw1a3HlsZLm8lM1xJngsScAD0Gfx/QbtAHjN38ZdatdZnh+wWDW0U7Jt2vvKhsfe3Yzjvj8K3rP4zabd30FudLuoxNIqbt6nbk4zivNNW8KeITrN6V0LUXUzuQyWrspG48ggYIo0nwp4hGs2RbQtRRROhLPauqgbhySRgCgD6H1fU4dF0W81O6WR4bOF5pFjALFVGSACQM8etYM3jpIJriGTw/rIlt4BdOnlw58g5/e58zGPlPy53/7NbWv6X/bnh3UNL87yPttu8Hm7d2zcpGcZGevTNVLzw79rv725+1bPtWm/YNvl52cud+c8/f6e3Wpd+n9aP8AWw9NP67fpcgk8a6et1sitrye0WSKKa/jRfJgeUKUVssGOd6ZKqQNwyRWffeMZrjVNKi0u2vIrObUntnvZIozDcBIpdyr82/h0HJC52nBIqGP4aWcOrR3gXS5wxhadrzSUmn3Roq/u5S3yAhBwQ2DnBFW4/Bd3HdWcY1dDptjeyXlvb/ZP3gLrICrSb8EAytj5QfUnrVS8hR21/rcWPxvHb+H7HUbmw1C7gksY7y6vIbZY44EYZ3MGk+pKoXIHXtnrAQQCOhrzzUvhWNQ0mCwk1G0mSLTI7ASXmmid4SikeZDlwIic5PDE4HI616Ei7Y1XOcDGaqVru3cXYWqup2EOq6Vdafc/wCpuoWifHXDDH9atUVDV1Zlxk4SUo7o8k8A/CjUdA8SXlzrklvLZm3kt0WNiTMH4JIxwNuePes/Svgzq+lePLS6juoW0u1ukuEm34kKq24KVx97jHp39q9rork+p0Ukrban0L4lzB1Jzcl765Xppp1XnqwooorsPnAooooAKKKKACiiigAooooA4D4o/D+48ZWtrc6U8SX9pldspwJUPbPYg8j6mtzwFoeoeHfBtnpurXAmuYt2drFhGCchAT1wK6OisVRgqjqLdnozzLEVMHHBSacIu60169e2oUUUVsecFFFFABRRRQAUUUUAFFFFABRWF4W8UW/iW1uPLUx3NnKYbiPHAYE4IPocfh+p3aACivm/UfGHiODX7qSLW79fLuXKp9obYMMcDbnGPbGK3dN+LPiabVLWKZ7V45JkV18nGQSAec0Ae50Vl+J9Tm0Xwpqmp2ixvPZ2kk0ayAlSyqSAcEHHHrXOXmt+K7W9v7XztGLWunjUVf7LLgrlwYseb1+X/WZ/4BSbS3HZ/wBfL/NHb0VwQ8Ya5NFe6lCmnpp9neW0DQPE7TSJKkLHD7wFKmY/wnOMcdTq+CpNWkGs/wBs38N55epSxxeXC8ewDGQN0j/L0wOMc9c1Vnez7X/L/Mm+l/66/wCR1FFFFIYUUUUAFFFFABRRRQAUUUUAFFFFABRXnfxl8RX+heF7WPSrqS0nu7jY0sTbXCBSSARyOdvIrU+Fup6hq/w/s7vVp2uJmeRVlflmVWIGT3PBGawVaLqul1tc9WWWVY5fHHtrlcuW3Xrr+DOwooorc8oKKKKACiiigAooooAKKKKACiiigAooooAqabplrpNmLaxiEce4u3q7HksT3Jq3RRQB4vqHwb1641O5ngvdOMcsrOm+SQNgkkZAQ8/jRp/wb1631O2nnvdOEcUqu+ySQtgEE4BQc/jXoT/EXwpHftZvq6LMsnlEGKTaGzj723bjPfOK3U1OxlkVI723d2OAqyqST+dAC39jbapp1xY30fm21zG0Uqbiu5SMEZGCOPSoptHsbi4nmlg3SXFt9kkbew3RZJ29ePvHnrzV2ilZMLmUnhnSI7Ke0S0xBcSRyyp5j/M0YQIc5yMCNOnpz1NWbLSrPT7q7uLNHje8k82Yea5UvjG4KTtUnvgDPfNSXt/badFHJeSeWkkyQodpOXdgqjj1JAzVinvr/X9bB5BRRRQAUUUUAFFFFABRRRQAUUUUAFFFIzBVLMQABkk9qAPDvj3qqTaxpelxnLW0LzSYPdyAB+SZ/GvT/h9p76X8PtHtZV2uLcSMvoXJfH/j1eFfN8RPi93aC8vPygT+XyL+dfS4AVQFAAAwAO1ebhf3ladb5f1+B9tn6WCy7C5d1S5n6u/6uX3C0UUV6R8SFFFFABRRRQAUUUUAFFFFABRRRQAUUUUAcv4E/tv+yZ/7a2+R57fYd3+s8rJxn26be+PbFdRRRQB8rat/yGr3/r4k/wDQjRpBxrViRwftEf8A6EK+gLj4a+Erq5kuJtIBklcu5FxKoJJyeA2B+FFv8NfCVrcx3EOkASROHQm4lYAg5HBbB/GgDV8TQ31z4W1OHSGZb6S1kWAo+1t5U4wex96851mys49KvpNC0W703STbW8d3A9o9sZ5/tMeMKwBZwu8Fx13D5jjj1qq9/YW2p2jWt7H5sLMrFdxHKsGHI56gGl1uHS39f1oeX6j4e068W9ubHwxINEhvbCRLSTSnU7ll/wBIeOBk3YKFAcL8208HrXq6bRGuwbVwMDGMD6dqWiq6W/rZL9A63CiiikAUUUUAFFFFABRRRQAUUUUAFcZ8VteOg+AbswttnvSLSMg9NwO4/wDfIb8cV2deRfH6crpei2/aSaVz/wABVR/7NXNipuFGTR7WQ4eOIzOjTlte/wByv+hV+A/h8Fr/AF+Zfu/6LAT+DOf/AEEfnXs9cV8IbcQfDHTW7ytLIf8Av4w/kBXa0YSChRil6/eVn+JliczrSl0bivSOgUUUV0nhhRRRQAUUUUAFFFFABRRRQAUUUUAFFFFAEVtcw3duk9tIskTjKsvepa5zwb4bm8O2N19puXllvJ2naLdlIck8D39T3/CujoA8vufjVDbatLbPojmGKYxtKLkbtoOM7dvX2z+Nbtt8VvDF1dxW8c9wryuEUtAQAScDNeFayjR65fK6lWFxICCMEfMaNGRpNcsVRSzG4jAAGSfmFAH1BqF/baXptxf38nlW1tG0ssm0naqjJOBknj0rHPjjw+tvcTy3skKW5jEgmtZo2xI21GCsoLKzcBgCPejx9/yTvxB/2Dp//QDWReeGdc1y9iv9Q/s+3eA2qQxwTO4dI7hJnZiUGGIQAKAQO7HPAtWl0G9Ff+uhtzeMdEt5Yo57maNpESRt1pMBCr/dMp24iz/t7am/4SfSDrH9mC5b7R5nk58iTyvMxny/N27N+P4d2fasbWfDWr3M2uW2nNZGx19VW4lndlltj5QiYooUiTKqCAWXBz1qxpGi6xo901jb/YJdKa9ku/tEzu0+HYuU2bdudx4ff0/hoX9f1/VxPRaHT0UUUAFFFFABRRRQAUUUUAFFFFABXjP7QROPD47f6T/7Sr2avGP2gWG7w+ueQLkkf9+q48d/u8vl+Z9Jwt/yN6P/AG9/6Szu/hd/yTPRv+uT/wDoxq6yuU+GKbPhpowP/PFj+bsa6ut6P8KPojy8z/36t/jl+bCiiitTzwooooAKKKKACiiigAooooAKKKKACiiigAorL0LxBZeILSSWykHmQuYp4ifmicHGD7ccHvWpQAUV4JffFDxXba5cBNQQwxXDAQm3j27Q33c43Yx75963bD40X1zqNtBLpNuEllVGKytkAnHFAHr1FZ+v6r/Yfh3UNV8nz/sVu8/lb9u/apOM4OM464rBn8Z32m3Xkaxo0du2IZQ0N55qiB5BGznKLhkLKSvTByGOKN3YHornXUVw9x4p1q88TWMOm2ltHpck93A0kl0Q8whGGcL5Rxhg2MN82OcVW8P+NbzTPCmlS+IrJjDJoxvI7tbrzppzEiFt6lRhm3ZB3Nnvg0LVf15/5D62PQaK5C88aX+kwzLq2hpFeCGOe3ggvfMWZGlSMgsUXa6l1yMEc8N1xatfGNvb3l3Z+KXsNFubeSNU336tHMHUldrMqEtwQVx270E3Olorij8REj1q40+e2shKkVw8cMOppLcKYlLYmjUfu9wBIIZvfB4qnrnjbXrfw1dSx6VbWF5PpUmoWMv23zQFQKX3AxYDrvUhcFW/vCha7f1v/kykru39f1qeg0VBZPcSWML3sccVwyAyJFIZFU+zFVJHvgVPRsSndXCiiigYUUUUAFfPXxo1f+1/Hcem2oLiwiWHC87pG+Y4/NR9Qa951fUodG0a71G6P7q1haVh64GcfU9K+fPhtp0/i74oLqN8PMEMrX9w2OC2cqP++iOPQGvOx0nLloreTPs+F6caDrZjU+GnF29X/wADT5nv3h/Tf7H8N6dpxxutbaOJiO7BQCfzzWjRRXoJJKyPj6k5VJuct3qFFFFMgKKKKACiiigAooooAKKKKACiisPxf4otfCPh2bU7ob2HyQRZ/wBbIRwv6En2BqZSUU5PY1o0alepGlTV5N2SNDU9X0/RrQ3Oq3kNpCP45XC59h6n2FcdefGbwfauViuri6x3ht2x/wCPYryDS9H8S/FTxHcXDzCRl5muJiRHApPCqBn3wo/xNejWPwE0dIh/aWr308mOTbqkQz9CGrzliMRW1ox07s+znk+T5daGYVm6nWMen4P816FfQfit4J8PwSQWVhqm6aQyT3BgjzKxOcn58454Hat2L41+EZMb5LyLnHz2/T34JqH/AIUb4V2483Us46+ev/xNVpfgN4eP+p1LU04/jeNv/ZBT/wBtXYz5eGJaXmv6+Z47qN/azapdSwy743mdlbaRkEkg8ik0/Uba31O1mlkwkcyOx2ngAgmvSD8JPCIu/sp8ZRi43+X5Pmxb92cbduc5z2rUT4B6SG/eaxesvoqID/Wnz43+Vf18xfV+GE7+2qfd/wDajPFnxd8Nat4U1XTLIXrzXdpJDGxhAXcykDJJzjn0rm7v4maOLbUFSz1XV5r20NmJdSniTyYjn5VEa9MnJJyxwMtwK7OH4FeGIx+8u9TlOOczIB+iVq2fwh8G2jBm017hh0M87n9AQP0pcuNlpdIftOGaVnyTnb/gea7Hjb/EvVY7PR7fTre3tf7JUpHJzI0oZdrh88Hd1JABz0IqhP461i40uy0+Q2/2eysmsY18rrEyqrZPqQo5/KvpK28JeHbNQLbQtOjx3Fqmfzxmrtomnq8sdgtsGgby5FhC5jYgNtIHQ4IOPQim8NiJX5qm4LOsnpWVLBJ27v8A4DPmabWvGmtyCSQ6hdusKwhktskIrBwOF/vBST1OBnOKuRal8SI7i4vYk1wSTBVmmFq/zbc7QTt7ZP519L0UfUpveoxf6zYdaQwVNL0X+R8rv4g8U6bb20N21xFBarNHFHPb7VXzFKv1AySGPXpmtzw74+sZIZbLxol9eQy2LafHPFIv+iwsAGCoFBJOFyxLH5R9K+i2VXQq6hlYYIIyDXD+KPhN4e8QxvJawLpd6eRNbKApP+0nQ/hg+9T9XxFLWnO/qXDN8mxj5MXhVT/vR6eeiX6+h03h7UbHUtFt5dM1T+1IlQKbhiu9j/tBQoDe2B9K06+ar/wt40+HOoPeWZuEiX/l8siWjZf9sY4HswxXSaB8d72DZF4j05LpBwZ7U7H+pU8E/TbVxxyvy1lysxxHC1SUPbZdNVYeqv8A5fk/I9xorgdR+MPhu28OHU9PlN7NvEa2WfLkDEE856DAPIyOg71v+DvF1n4y0MahZoYXVjHNAzZaJvr3BHINdUa1OUuWLuzwK2WY2hRderTcYp217+m/z2N+iiitjzjgfjPem0+HFxEpwbqeKHj67/8A2Ssj4C6esXhrUtQKgPcXQi3dyqKD/NzUXx8vlTRNJsN3zS3DTbfZF25/8frofg9ZNZ/DWyZxhrmSSbB9CxA/RQa834sb6L+vzPtH+44YX/Tyf32//ZO5ooor0j4sKKKKACiiigAooooAKKKKACiiigArwn486o83iLT9LVj5VvbecV7b3Yj+Sj8692r5u+LLG6+LF7A5wq+RGD6Axqf/AGavPzCTVG3dn1/B9KM8y539mLf5L9T2/wABaDD4e8F6faQxhZZIlmuDjlpGALZ+nT6AVu3Pn/ZpPshjE+Pk80Ern0OOf896kACqAowAMADtS13RioRUV0PlsRWnXqyqz3k2/vOc8N6n4l1K5uP7c0qDTYIHKDDFmlPqvbb79+3t0dFFUYnytq3/ACGr3/r4k/8AQjVzSNX1JdbsSNQus/aI/wDls394e9ev3fwd8PXd5NctdajG00jOVSVNoJOcDKE4/Gi0+Dvh60vIblbrUZGhkVwryptJBzg4QHH40AdF42uJrXwHrk9rNJBNFYTNHLGxVkYIcEEcg1ymrtbaVqM9nrGvanYwRaekumudQlV7i4ZnMmDn964IjxEcgA8Lg16PRSY77f12/r5nlmoavfeTfSa3qV3p/iCKzgfSbCK4aJZ5TCpYLEDiYmYsrAhsADp1PQeC7a2s/FHiqLzpheNexyPBNeSSkI0ERDBXY8btwDY/h25woA7OiqvrcnpYKKKKQwooooAK5XxB8N/DPiJWa605Le4b/l4tQI3z6nHB/EGuqoqJQjNWkrm9DE1sNPnoycX5Ox43D8A1XUJTNrXmWmxvLAh2ybiDtzzjAOD747ZriNG1vXvhX4quYJrYbvuXFtLkJMoPDKfzw3ua+m6zNd8OaV4ksGtNYs47hMHaxHzxn1VuoNcNTAxVpUdGj6rC8UVpuVLMV7SnJJNaK3npb+ramd4O8caX4zsGlsCYbmLHnWshG+P39x7/AMq6SvmjXvD+v/C7xSl5YyyCFWzbXir8si/3H7Z9VP4V0Fx8b72/8KX1lcWKQalNH5cVzbkhMHhjgnIIGccnn0pU8aopxraSX4muK4XlWnGtlslKlO3XWN/zS+9dTE8e6pN46+Jn2PTT5kayrY2uDkHDYLfQsSc+mK+iNM0+LStJtNPtv9VawrCme4UYz+leOfA3wr513P4lu0+SHMFpkdXI+dvwBx+J9K9tqsFBtOtLeRhxNiKcJ08uofBRVvn/AF+LYUUUV6B8gFFFFABRRRQAUUUUAFFFFABRRRQAV82fFEbfjBfs3AMluc+3lR19J187/G60Nv8AELzscXNpHID9Mr/7LXnZiv3KfmfZcGySzGUX1g1+Kf6H0RRVXTLsX+k2d4pBFxAkoI77lB/rVqvQTurnx8ouMnF9AooopkiBgxIBBKnBweh60tYkNhf/APCYXN8JjHYmJUMZGfNbHX2xnr+HrW3QBz+teMtO0O/+yXUVzJJtDHykUgZ+pFSW/jHQp7dJft6RbhnZJwy+xFcJ8Qv+Rsf/AK4p/KuXoA98hnjuYEmgdZI5BuV1OQRUd3fWmnw+df3UNrFnG+aQIufTJrO8J/8AIp6f/wBcR/OmX8d42pWeopp0s624miNurx7zuIxIu5gvRe5Bw34UAaM2qafbNCtxfW0RuP8AUh5lXzP93J5/Clk1GyivVs3vLdbpl3LAZVEjD1C5zXJ6zpGrXFrLBZaebZJrLy1SzaDAbLHZI0g3beRjYOpPI61o21jd21xPbzaWLtbi6W4Fy0iBUAC9ed25dvGAR05FAGjo+u2er28RjngW5aISPbLMGeMH1HX8cVbtNQs7/wAz7DdwXPlttfyZQ+w+hweDXMnw7evoml2kcS280dtPFK4Yfu2eMgdOuWx0zVvw5pd1bXjXF6t8jJbrbgXDW+0gHPyiFRwOxbB56UAdHRRRQAUUUUANkjSWNklRXRhgqwyD+FfK3j2LTYPHmrRaJtFos5CqgwqtgbwvsG3AV9MeJdQOk+FtTv0ba9vaySIf9oKcfrivn74YeD7TxlrWoQ6oZPIhtSwdGwVkYgKffHzH8K8vHp1JRpR3Z95wnKOEpV8fVk+SKSt6/qtLep7F8K9T0q98BWFtpMnz2cYjuYjwySHliR6EkkH/AANdlXzNLHr3wm8bgq27byrDIju4c9D/AJ4NfROha1aeIdEttU0990Fwm4A9VPdT7g5Fb4Stzx9nJWlE8riDLPq9T65Rlz0qrun5vWz/AE/4BoUUUV2nzAUUUUAFFFFABRRRQAUUUUAFFFFABXkHx70lpLHS9XjXiJ2t5T/vDcv/AKC3516/WZ4j0SDxH4dvNKuuEuYyobGdjdVb8CAawxFP2tJwPUyjG/UcdTxD2T19Ho/wOZ+EOuprHgG2ty4Nxp5NvIvcAcofptwPwNdzXzj8N9YufBfxGOm6j+6juJTZXSE8K+7Ct+Dd/Qmvo6ssHV9pSSe60PQ4kwP1THSlD4KnvL57/j+FgooorsPmwoqjHq1s+sy6YzbLlFDqpP31I6j6elXqAKtzplheyCS8sba4cDAaWFWIHpkiof7A0f8A6BNj/wCAyf4Vx/jLxRq+l+IDa6fdCGJYlOBGrZJ75INVLf4lahHbok9pDNIow0mSu73wOKAPSY40ijWOJFRFGFVRgAegFOqnpF+dT0i2vSnlmaMMVBzg1FqOpTW11b2djbJc3U6s6rLN5aKq4ySwVj3AxigDRorDl1693MltpW+SCBZrqOWcIYwc4VcAhm+U+g6c1AviqWXzLiDT1ewjniiac3GHIkCEME2843jIJHtmgDo6K5DTtQuotTlu9URi0l/JaoI76Ro40VWb/V7QvG3rjJzWlYeILm7vrGKfTkgh1CJ5oJBcbmCqARuXaMEgjgE/WgDdooooAKKKKAON+LN19l+GWqYOGl8uIfjIuf0zXJfAC2C6frV1jmSWKMH/AHQx/wDZqsfHrVfI0DTdLQ/NdTmZsf3UGMfiXH5VtfBrS2074eQzSLte+me45644UfoufxrzX7+NX91f1+Z9pH/Z+GJX/wCXs9Plb/5Fml8Q/B0fjDwy9vGqi/t8y2jnj5u6k+jdPrg9q8n+E3jF/DHiCTQ9XdobK7k2ESceROOMn0zjafw9K+g68V+M/gbynPijS4vlchb6NR0PQSfj0Pvg9zTxdOUJKvT3W/oTw/jKWIpSynFv3J/C+0v+D08/U9qorzn4ReNz4i0U6VqMu7UbBAAzHmaLoG9yOAfwPevRq7aVSNWCnE+Zx2Dq4HESw9Xdfj2fzCiiitDjCiiigAooooAKKKKACiiigAooooA8F+OHh46f4kttctlKxX67ZCvaVBjP4rj/AL5Nes+BfEH/AAk3g2w1FmzOU8u4/wCui8N+fX8apfFDRf7b+H2oRou6a2X7VFx3Tk/+O7h+NcH8Bdb23GpaHK3DqLqEZ7jCv+hT8q81fucXbpL8/wCvzPt6n/Clw+pvWdB2/wC3f+Gt/wCAntVFFFekfEFGPSbZNZl1Nl33LqEViPuKB0H19avUUUAef+MvC+r6p4gN1p9qJomiUZ8xVwR2wSKwP+EG8Rf9A7/yPH/8VXr9FAGdoFnNYeH7O1uQFliiAcA5wfTNFzo4uWjkF9dRXETOY7iMpvVWPKYKlSvTqCeBzWjRkAgE8noKAMebw5DJjy729gLQiGZklBM6DPDFgTnk8jB561IPD1mtpPbRmRIp5o5iqkfKU24A46fIP1rUooAzf7CtdysWkbbdPd4JGC7KQQeOmGNY+kaNfR65azTR3cNrYwyRxpcTxSKN2ABHsG4qAOr89K6eKaOeJZIJFkjb7rowIP4in0AFFFFABRRRQB4F8eLkyeM7K3z8sVip/FnfP6AV7R4XthZ+EdIt1GPKsoV/HYM14X8biT8Q+e1nHj82r6BsFCabbKvRYkA/IV5uG1xFRn2mde5k+Cguqb/L/MsVHc20N5ay211GssMyFJEYcMpGCDUlFekfGJtO6PmjXdM1P4WeP457Fm8pHMtpI33ZYjwUb8OD+fcV9CeHdftPE2g22qWDfu5l+ZCeY2HVT7g/41mePvCcXi7wtPabB9shBltH7rIB0z6Hofz7V5N8GPEz6L4ok0O9YpBqB2qr8bJ16fTIyv1215cL4WvyfZlt5M+7xHLn2VvE2/f0V7396Pf836p9z3+iiivUPgwooooAKKKKACiiigAooooAKKKKAEdFkRkdQysMEEcEV82eFi3g/wCMkFrIdqQ3z2bE9CjEoD9OQa+lK+cfi7EdO+KU91CNrSJDcL9QoGfzWvNx/uqNRdGfacJv2tSvg5bVIP8ADT9WfR1FMhlWeCOVOVkUMv0IzT69I+MaadmY8Wsyf8JZPpDws6eUsqSqOE45De3ofWtimJDHHLJIiAPIRvbucDAp9Ajyn4hsT4qYEkhYUwCelZVv4l1m1t0gg1GdI4xhV3dB6V6D4i8EDXtV+2i/NuSgUp5O/p3zuFZX/Cr/APqL/wDkr/8AZ0Adb4dupr3w7ZXFy++WSIFmI6ms/wAS3slpPBLatGHS2unV9isVZUBGCQcc/n3rX0uwGmaVb2SuZBCgXeRjd74pl7pNtdafPbxxRQtLHIqyLEMoXHzN9T1PrQBz0+oarZ/6nUmvt1kL5gYo8qFZdyjao+VlLYzk8daaJrnV9X0jUBqEyW017N9mjjSPaY1jYA5KkndtPfo3HY1vLosVrp0sGkpa2U0ygSTpbD5+xJAIycZ5JP41Yj0qyjsbW0a2ilitQvkiRA2wqOCM9D70AcjZX2oaNoVhcxXLXEc0U+LVo1CqVV3Uggbs/LzknOe1WL7VNT0+3Cw6r9se4tVnWVoo/wByfMReAoAKkOcZyeOtdWtpbIsQS3iUQkmMBANmeDj06n86ih0nTreOVINPtYkmYNIqQqA5znJwOTmgCnpUt3Hq1/YXd292sKxSRySIisN+7K/KAMfLxxnnvWvTFhjWZ5VjUSOAGcKMsB0BPfGTT6ACiiigD51+Np/4uIf+vSL+tfQln/x4wf8AXNf5V85/EB/+Eg+MVzawfOHuobNQPUBUI/76zX0kBgYHSvOwmtarLz/zPtOIf3eX4Gk91G/3qIUUUV6J8WFfPvxd8NTeHPF6a9pwaK3vZBMsiceVcDk/TONw/H0r6CrM8RaDaeJdBudLv1/dzr8rAcxt2Ye4Nc2Jo+2p8vXoe3kmZvLcWqj1g9JLy/4G/wCBm+BPFsPjDwzFejat3H+7uoh/A4HUex6j8u1dLXzV4Z1i/wDhh4/lttSVhCr+RexjkOnUOvrjO4exI719JQTR3NvHPbuskUih0dTkMCMgipwtf2sLS+Jbm+f5WsBiFOjrSnrF/p8unlYfRRRXWfOhRRRQAUUUUAFFFFABRRRQAV4j8fNL2alpWqqP9bE9u59Np3L/AOhN+Ve3V558bbH7X8PTOFybO6jlJ9Acp/NxXJjI81CR9Bw5iHQzSk+7t9+n5m78OtV/tj4faTcs26RYBDIe+5Ds5+uM/jXTV5f8CL8TeEb6yLZe2uy2PRXUY/VWr1CtMPLnoxl5HJnOHWGzCtSWyk/ueq/BhRWHB/af/CZXXl4/s3yk8zd/z028bffGM+34VuVueUZWo+JdI0m6+z6heCKXaG2iNm4/AGrNvq+n3Vuk0F7C0bjKneB+h5FeafEL/kbH/wCuKfyrl6APfgQygqQQRkEd6a0wSaOIq5LgkEISox6noPxrL8KHPhPTs/8APEVn+Ig2o3NtDbRyeY9veRKsiFCW2Ad+xPQ9DQB09FcFrExvYfNNlepDHZwxP51s8WW8+PKjcBk/T8DUs1ullHe6tpOnyWtpYyRXEMDQGDewDCXajAEZVgOgyR+NAHZG6hF6toX/AH7RmQJg8qCATnp1IqauHbQXtbi2lhsgdSm06cC7WDJW5YhuXA+XqwBJHpVS30WWW2KLA3lPJbLPbxaZLbBiJVJZiztvYDOWHGO9AHodFMhhitoEht41iijUKiIMBQOwFc3468aReCNGhvZLNrySaYRRxK+wdCSS2Djp6VM5xhFylsb4fD1cTVjRoq8nsjp6pazqcWjaHe6lP/q7WFpSM/ewMgfieKx/BXjfT/GumPcWamC4hIE9s7ZaMnoc9wcda5b45a4bHwpbaVE2H1GbL/8AXNME/wDjxX8jWNStFUXUi9D0MJllapmMMFVjaV7NeW7/AAOC+EunS+IPiUNRuv3gtd95MxH3nPA/Hc2fwr6LrzX4IaF/Z/g+XU5FxLqUpKn/AKZplV/XcfxFelVlgqfJRTe71O/ifFrE5lKMfhh7q+W/43CiuT8P/Erw94l16XSdOlmFwm4xtKgVJwOpQ5yeOeQDiusrqhOM1eLueDiMNWw0+SvFxe9mFFFFWc55l8Y/BX9s6P8A27p8eb2wT98qjmWHqfxXr9M+1ZnwV8a+fAfDGoyfvIgXsnY/eXq0f4dR7Z9BXsBGRg8ivm74h+HpvAXjqK90ctBbzP8AarNl6RsD8yfgccehFeZiYuhUWIht1PuclqwzXByynEP3lrB9mun9dLn0jRWb4d1mHxD4dstVt+Euog5X+63Rl/Agj8K0q9JNSV0fE1KcqU3Cas07P1QUUUUyAooooAKKKKACiiigArJ8U6T/AG74U1LTVAL3Fuyx5/v4yv6gVrUUpJSTTNKVSVKpGpHdNNfI+fvgjrB07xpPpk3yrqEJUA8fvEyw/TeK+ga+avF8L+C/i9LdW6lUiu0vYgOAysQxUe2dy/hX0lFKk8KSxMGjkUMrDuCMg15+BbUZUn9ln13FdONSrRx1ParFP5r/AIDX3D6Kr/2hZ/8AP3B/38FWK9E+NMrUfDWkatdfaNQsxLLtC7vMZeB9CKqf8IN4d/6B3/keT/4qsrxV4zv9E1o2dnBbMixqxaVWJJP0IqG3+JsP2dPtWnv52PnMbjaT7Z5oA7a2tobO1jt7ZBHFGoVFHYUxrG3bUEvWVjOiGNWLthQeuFzgE+uM0mnXyalpsF5CrKkyBgrdRVDVtW/szVrMTS7LV4ZmkULkuw2BQO+ctgAdc0AaV1aw3sHk3Kb49ytjJHKkEdPcCm3djBfKi3Ss6I4cKHYAkdMgH5h7HIqjd6+tlGJJ9OvhGsYkncIu2BT/AHju5I7hd2Kjm8T20VyUFpdSQC4W2N0ip5fmMQNvLbuCeTjHvmgDaorDHieGaWKOO0u0S5Z0trllTy5Cqkkj5s4+U9QM9uKgs/E6x6TayXUNzdSLaRz3c0KLthDDO5uR6E4UE47UAdHXF/FrT47/AOGuol0DSW2yeMn+EhgCf++Sw/GuzBDKCpyCMg1X1Kwh1XSrqwuhmG6iaJ8ejDH9azqR54OPc68FX+rYqnW/lkn9zPmP4e+J/wDhFPGFteysRaSfubkD/nm3f8Dg/hXT/He5aXxjYRg5iXT1dCDkHc78j8hXEeJvDOoeFNZk0/U4yCDmKUD5Zk7Mp/zipPEGt/21p+ieaxa4srL7JIT3CuxT/wAdIH4V857SUaUqMj9oeEpVsfRzGjqmmm12tdP8180fS/hsWuleB9KEkscNvDYxFpHYKo+QZJJ9+a5TxJ8Z9A0hXh0jdq10OB5XyxA+7nr+AP1rybR/CvjDx1BG8IuLi0hAjjmu5iIkAGAFz1x/sg16N4e+BWn2wWXxJeveydTBbkpGPYt94/htr0o1sRVilSjZd3/X+Z8TWyzKMBVlUzCvzyu3yx/X/h4nE/CzSb3XfiNDqdvAILa1la4neNSETOcIPqTjHpn0r6Oqtp+m2ek2SWem20Vrbx/djiXaB7/X3qzXZhqHsIct7s+dzrNf7UxKqqPLFKyXl5hRRRXSeIFcB8ZNE/tXwFLdRrmbTpBOMDnZ91h9MHP/AAGu/qG8tIr+xntLld0NxG0Ug9VYYP6Gs6sFUg4PqdmBxTwmKp4hfZaf+f4HlfwH1zz9Hv8ARZWy1rIJ4gf7j8EfgRn/AIFXrVfNfgS+fwV8VEtb9tiCZ7C4PQYJwD9NwU/SvpSuXAz5qXK91oe9xVhVRzB1ofDUSkv1/wA/mFFFFdx8qFFFFABRRRQAUUUUAFFFFAHinx90zbdaRqqj76PbOfTB3L/6E1eg/DTU/wC1fh1pMxOXih+zt6gxkqP0AP41l/GbTvt3w6nmAy1lPHOPXGdh/R8/hWN8BdS87w9qenM2WtrlZVHs64/mh/OvNj+7xrX8y/r8j7Wr/tfDUZdaU7fJ/wD7S+49D/4R3TP7c/tb7OPtOP8AgO7+9j+97/1rUoor0j4o808daRqN14laa1sLmeNolAeKJnHH0Fc3/YGsf9Am+/8AAZ/8K9vooAy/DUEtr4asYbiNo5EiAZGGCPrUd9oC6pcwy6jMsohEqqFi2ld5G0g5OGXHX+Va7MqKWdgqgZJJwBUUd3bSuEiuInY9FVwSaAOc1TwfLqwJvL62ndoBE0k9kJGRhn54/mwhOeeDnHaqt5YXZ1JNOtDcfZzqEdyyPZNtADB2YTZ27cg/Ljdn2rs6KAOMtbC8l1jT7KM3H2OwkmIE1k0flKUZQPMztk+9xt7dasv4Ht2NuSbGdkt47eRruwWckIMBkyfkP13DpxXVUUAIqhVCqMADAAFLRRQBx3xQ8NJ4j8E3W1C13ZKbm3KjJJUcr+IyMeuPSvB/BvgrUvGepmCxAjtoiDcXL/djB/m3XA/lX1TTIoIoFIgiSMMxYhFAyT3471xVsHGtUU38/M+nyziOvl2Dnhqau27xb+z306/5jLS1isbKG0tl2QwRrGijsoGBU1FFdux8y25O7CiiigQUUUUAFFFFAHhXxy8NfY9ZttftkxFejypyB0lUcH8VH/jpr0z4c+JP+En8FWl1K+66hH2e59d6jr+Iwfxqfx7oq6/4H1OyK7pBCZYeOd6fMuPrjH4mvK/gPqzQeINQ0p2/d3MAmUH++hxx9Qx/KvM/g4vTaf5/1+Z9vf8AtPh983x0H/5L/wAN/wCknu1FFFemfEBRRRQAUUUUAFFFFABRRRQBR1vTU1jQb7TpMbbqB4snsSCAfwPNeCfCDVG0L4if2feZiF4j2rq38MgOVz75Ur/wKvomvnH4q6e3hz4nPe2J8prjy76IgfdfJyf++lJ/GvNxqcHCsujPtOGJRxMMRls9qkbr1X9J/I+jqKr2F2L/AE22u0GFuIUlA9AwB/rVivSTvqfGSi4txfQKKKKBGB4548GX3/bP/wBGLXmeh31nYzzPfRzEsn7mSAgPE4IIYE16l4ts7jUPC15bWcZlmcIVQdTh1J/QGvMf+ET13/oGT/kKAPVPDmoyat4ftb2fHmSBgxAxnDFc47Zxmsm71GWz8ZXEFsi+bdRW8ayyqTHHzJy2McnoBkZNaHhKzuNP8LWdteRmKZA5ZD1GXYj9CKu3GlWV21w1xBvNwixyncRkKSV6HggknI5oAxZPElzDr0duTDLbPcm3KxW0p2nB5M3+rzkcp1HrVd/E+pW9tZ39wlq9peRSzLCkbCSNUjLgFixBJwMnAx79a2x4e01bxbkQyeYsvnKPPk2K/wDeCbtoJycnHPesq38MTDVluJYrWKKES+WqTSyLIXGP9U3yxjk5Ck59qAKesajqht3stSa0dZbZLkNBEyFT5yDbyxz168Z9BVxPEt7LrTQw2zvbLdm2ZFsZ2OAcGTzgPLAB/h9O+eKXTPCu28ll1KGJYzAsCQxXc0wIDhs5fBUZAwo4HrWwdFsTqBvBE6ylt7BZnCM3TcUB2lvfGaAKWp311bavKtjbieZbAyIhZvmPmAYxnHfPTJ6ZqpBr2oTrFaxyWjXk1yYRI9tLEIwELkvCx3A8YA3YPXNXv7CWXUpPtMaNYraC2jQys7t824lieRggYOSe/FTDw7potmhMMjBpBIZWuJDLuAwD5hbeCBx16UAZcWtavdal/ZsBsYriITCaZ4nZCUKYKqGBwQ/Qng9zjnb0e+bUtGtbyRAjzRB2VTwD3xSWuj2NnJG9tBteNHRWLsSQxBbJJ5JIBycmrFraw2VrHbWqbIYl2ouScD6mgCWiiigAooooAKKKKADrXzb4AP8AZHxmtrdOFS6ntiPUYdR+uK+kq+bbQ/Zfj3hen9uuo+jSkf1rzcbpKnLzPtOGPfoYyl3h+j/zPpKiiivSPiwooooAKKKKACiiigAooooAK8O+P1ts1jR7rH+sgkjz/usD/wCz17jXl/x2043HhKyv1GWtLra3srqQf1Va48bHmoSPouGaypZrSb63X3p2/E6/wBc/a/h7okuc4s0j/wC+Rt/pXQ15J8EL/UbrTntkZTYWmVkVzyGJLKV9+fyH0r1utqEualF+R5+a0XQx9am+kn917r8DK1HxLpGk3X2fULwRS7Q20Rs3H4A1Zt9X0+6t0mgvYWjcZU7wP0PIrzT4hf8AI2P/ANcU/lXL1seae/AhlBUggjII71Xlvo4tQt7NlYyXCO6kAYAXGc/99CqPhQ58J6dn/niKz9ft73VL61OmrNFsiuEdmjZN2Cny7v4d2CA3pyKAOnorgLzTp7rUd8ds9pE8cIsc6XJLJbAAZVWV1WIhs53DB9SOKtT6WIdMu5n0vzZrjUZPOeS2kl/d72IJjXDSJ0+Ucc5oA7WivPBp0h0mJb2zmdYZ7gQxNpckkG0kFcQhi8f+y2cLzzXdab5n9l2vnRNDJ5K7o2cuUOOhY9cetAFmiiigAooooAKKKKACiiigAooooAKKKKACvm5F3fH0g/8AQeJ/KavpGvm3TsS/HonnB12Vh/39Y152O3h6n2nC2kcU/wC4/wBT6Sooor0T4sKKKKACiiigAooooAKKKKACsrxPoqeIvDF/pUhA+0xFUY9FccqfwYA1q0UpJSVmaUqkqVSNSDs07r1R86fCvxE3hHxvLpuq5ggvG+zTh+PKlUkKT9Dlf+BZ7V9F14/8WvhvcX9y/iLw/A00zAfa7aMZZscb1Hc46j8fWuX8P/GXxDoVrHZX0MOpRQjaDPlZQB23Dr+IJryqVb6o3Sq7dGffZhl64ghHH4Frntacb21X9dd1Y9z1Hw1pGrXX2jULMSy7Qu7zGXgfQiqn/CDeHf8AoHf+R5P/AIquR0r46eH7vauqWl3p7nqwAlQfiMH/AMdrqrT4h+Er1QYfEFkuf+e0nlf+h4rvjiKU/hkj5Gvk+YYd2qUZfddfero37a2hs7WO3tkEcUahUUdhUtZMfivw7Nnyte0x8ddt5GcfrT/+El0L/oNad/4Fp/jWvPHucTw1dbwf3M06KqLq2muwVNQtWY9AJlJP61ZR0kUNGyup6FTkU009jKUJR+JWHUUUUyQooooAKKKKACiiigAooooAKKKKACiiigAr5u0Ztvx5yf8AoNTD/wAiNX0Pqep2ej6bNf6lOkFtCu53c/p7k9h3r55+HUUniL4vQ32whfPmvZO+0ckf+PMo/GvNxjvOnFb3PteGouGFxlaS93kav52Z9IUUUV6R8UFFFFABRRRQAUUUUAFFFFABRRRQAVl6p4Y0PWsnVdKtLpj/AMtJIhv/AO+uo/OtSik4qSszSnUnSlzU20/LQ841T4IeGL0lrB7vT27COTen5Nk/rXM3PwAulf8A0TXoXX/prbFSPyY17bRXLLB0JbxPcocSZrQVo1m152f4tXPA5PgN4hC/utS0xjnozyD/ANkNR/8ACh/E/wDz/aT/AN/pf/jdfQFFZ/2fQ7HauLs0X2l9x89y/AzxVGPkuNMl4zhJ3/qgqk/wt8d6QTNZWjEjkvaXShvyyCfwr6RoqXl9HpdGkeMcxWk1GS81/kz5vW1+KlvJgHxISBj/AFsrj+ZFCX3xTibKp4lJ6fNbysP1WvpCij6j2myv9ar/ABYWm/kfNreIPiarFWfXQQcEG2fj/wAdo/4TD4lWgAe41VOcjzbPOfzSvpKil9Sn0qMf+s1B/Fg4fcv8j5u/4Wt48tSWuL8kZxiWyjUD8lFX7P45+JoGH2q20+5XvmJlb8w2P0r6C61nXnh7RtQUi+0mxuM/89bdG/mKPqtdfDVYf29ldTSrgYr0t/kvzPM9O+Ptk+Bq2izw+r20ok/Rtv8AOulg+MPguaLfJqUkDf3JLWQn/wAdUj9a5f4n+B/DmkaG19pulx205z80cjgf985x+leJ1zVMViMPLlk0/wCvke5gsiybN6Pt6EZwXa/+fMfR8nxm8HJjbd3Emf7ts3H54qnJ8dPCyY222pyf7sCcfm4r58rX0Wxt7tHNxHvIcAfMR/Ks1j68nZWOyXCOV0Y80uZ/Nf5I9dn+Pmkr/wAe2jXknH/LSRE/lmqcn7QKBv3XhtmX1a9x/wC0zU3hj4e+F9RkQXmmeYC7A/6RKOAuezV2Mfws8FxgBdCiOOm6WRv5tXXFYyaupL+vkfO158N4Wfs5UJt+v/2yOG/4aC/6ln/yf/8AtdIf2gjg48NYPbN//wDa672T4ZeDZGy2g24OMfKzr/I00fC/wYDn+wof+/kn/wAVVezxv86/r5GP13hn/oFn97/+TPEvEni/X/iXq1np8VttXfiCytySCx/iYnqcd+gGenNe0/D/AMA2vgrTSzMJ9SuFH2icdB32L7D9evoB0GmaBpGirjSdNtbPIwWhiCsw9z1P41oVrQwvJL2lR3kcWaZ4sRQWDwcPZ0l06v1/rfcKKKK7T5gKKKKACiiigD//2Q==)"
      ],
      "metadata": {
        "id": "pARXl3WbUHP3"
      },
      "id": "pARXl3WbUHP3"
    },
    {
      "cell_type": "code",
      "source": [
        "#=>Kaggle data API part I of II\n",
        "import kaggle\n",
        "# Load data into a pandas DataFrame\n",
        "df = pd.read_csv('covid19-variants.zip')\n",
        "# display a view of the imported data, function = pd.head()\n",
        "print(\"------------------------------\")\n",
        "print(\"> dataframe fields w pd.head <\")\n",
        "print(\"------------------------------\")\n",
        "print(df.head())\n",
        "\n",
        "# display descriptive statistics\n",
        "print(\"------------------------------\")\n",
        "print(\"==> descriptive statistics <==\")\n",
        "print(\"------------------------------\")\n",
        "print(round(df.describe()),1)"
      ],
      "metadata": {
        "colab": {
          "base_uri": "https://localhost:8080/"
        },
        "id": "S9ouy2J0z92o",
        "outputId": "fa151b96-b079-4701-e86d-535a797e0695"
      },
      "id": "S9ouy2J0z92o",
      "execution_count": 23,
      "outputs": [
        {
          "output_type": "stream",
          "name": "stdout",
          "text": [
            "------------------------------\n",
            "> dataframe fields w pd.head <\n",
            "------------------------------\n",
            "  location        date    variant  num_sequences  perc_sequences  \\\n",
            "0   Angola  2020-07-06      Alpha              0             0.0   \n",
            "1   Angola  2020-07-06  B.1.1.277              0             0.0   \n",
            "2   Angola  2020-07-06  B.1.1.302              0             0.0   \n",
            "3   Angola  2020-07-06  B.1.1.519              0             0.0   \n",
            "4   Angola  2020-07-06    B.1.160              0             0.0   \n",
            "\n",
            "   num_sequences_total  \n",
            "0                    3  \n",
            "1                    3  \n",
            "2                    3  \n",
            "3                    3  \n",
            "4                    3  \n",
            "------------------------------\n",
            "==> descriptive statistics <==\n",
            "------------------------------\n",
            "       num_sequences  perc_sequences  num_sequences_total\n",
            "count       100416.0        100416.0             100416.0\n",
            "mean            72.0             6.0               1510.0\n",
            "std           1669.0            22.0               8445.0\n",
            "min              0.0            -0.0                  1.0\n",
            "25%              0.0             0.0                 12.0\n",
            "50%              0.0             0.0                 59.0\n",
            "75%              0.0             0.0                394.0\n",
            "max         142280.0           100.0             146170.0 1\n"
          ]
        }
      ]
    },
    {
      "cell_type": "markdown",
      "id": "760c5a8f",
      "metadata": {
        "id": "760c5a8f"
      },
      "source": [
        "### **`Task.1`** - Find uncommon variants  "
      ]
    },
    {
      "cell_type": "markdown",
      "source": [
        "The U.S. experienced the COVID-19 `Alpha`, `Delta`, `Omicron`  \n",
        "\n",
        "**Tasks**  \n",
        "0. In whatever object you like, e.g. list, dataframe, etc  \n",
        "1. Get unique variant items for category: **`US_and_other`**  \n",
        "=> where variants == [US, `non_who`, `others`]  \n",
        "2. Get unique variant items for category: **`nonUS_and_other`**  \n",
        "=> where variants != [US, `non_who`, `others`]  \n",
        "3. Print your chosen objects to display unique variant categories.  \n",
        "4. Show a total unique count for each, and total for dataset,\n",
        "\n",
        "**Useful links**   \n",
        "- [len()](https://docs.python.org/3/library/functions.html#len)\n",
        "- [list comprehension w Bro Code](https://www.youtube.com/watch?v=fcLDzKH_5XM)  "
      ],
      "metadata": {
        "id": "ZGy_VBO4DDyd"
      },
      "id": "ZGy_VBO4DDyd"
    },
    {
      "cell_type": "code",
      "source": [
        "#=>Enter Your Solution\n"
      ],
      "metadata": {
        "id": "vxMduRg5Cj5u"
      },
      "id": "vxMduRg5Cj5u",
      "execution_count": null,
      "outputs": []
    },
    {
      "cell_type": "markdown",
      "source": [
        "#### **`Task.1 - Expected Outcome`**  \n",
        "```\n",
        "note: organization of output can vary widely!  \n",
        "\n",
        "['Alpha', 'Delta', 'Omicron', 'others', 'non_who']  \n",
        "\n",
        "total US + other =  5\n",
        "\n",
        "['B.1.1.277', 'B.1.1.302', 'B.1.1.519', 'B.1.160', 'B.1.177', 'B.1.221',  \n",
        " 'B.1.258', 'B.1.367', 'B.1.620', 'Beta', 'Epsilon', 'Eta', 'Gamma', 'Iota',  \n",
        "  'Kappa', 'Lambda', 'Mu', 'S:677H.Robin1', 'S:677P.Pelican']   \n",
        "  \n",
        "total nonUS+other =  19   \n",
        "\n",
        "total unique variants =  24 \n",
        "```"
      ],
      "metadata": {
        "id": "jBOVMJ0zck9a"
      },
      "id": "jBOVMJ0zck9a"
    },
    {
      "cell_type": "markdown",
      "source": [
        "#### **`Task.1 solution`**   "
      ],
      "metadata": {
        "id": "KQKF_R5Ufrid"
      },
      "id": "KQKF_R5Ufrid"
    },
    {
      "cell_type": "code",
      "source": [
        "#Task.1.solution - as a list\n",
        "import pandas as pd\n",
        "\n",
        "#1. Get unique variant items: US_and_other where variants == [US, on_who, others]\n",
        "mylist_US_and_other =[\"Alpha\", \"Delta\", \"Omicron\", \"others\", \"non_who\"]\n",
        "\n",
        "#2. Get unique variant items: nonUS_and_other where variants != [US, on_who, others]\n",
        "mylist_nonUS_and_other = []\n",
        "mylist_all_variants = df[\"variant\"].unique().tolist()\n",
        "\n",
        "#use of list comprehension method\n",
        "mylist_nonUS_and_other = ([x for x in mylist_all_variants \\\n",
        "          if x not in [\"Alpha\", \"Delta\", \"Omicron\", \"others\", \"non_who\"]])\n",
        "\n",
        "print(mylist_US_and_other, \"\\n total US + other = \",len(mylist_US_and_other),\"\\n\")\n",
        "print(mylist_nonUS_and_other,\"\\n total nonUS+other = \",len(mylist_nonUS_and_other))\n",
        "print(\"\\n total unique variants = \", len(mylist_US_and_other)+len(mylist_nonUS_and_other))\n",
        "\n",
        "#df_nonUS_and_other = pd.DataFrame ([x for x in mylist_all_variants if x not in [\"Alpha\", \"Delta\", \"Omicron\", \"others\", \"non_who\"]])\n"
      ],
      "metadata": {
        "colab": {
          "base_uri": "https://localhost:8080/"
        },
        "id": "onPyaE4Eez5s",
        "outputId": "34dbaf41-0165-4a3a-a9ac-777c7f50636f"
      },
      "id": "onPyaE4Eez5s",
      "execution_count": 48,
      "outputs": [
        {
          "output_type": "stream",
          "name": "stdout",
          "text": [
            "['Alpha', 'Delta', 'Omicron', 'others', 'non_who'] \n",
            " total US + other =  5 \n",
            "\n",
            "['B.1.1.277', 'B.1.1.302', 'B.1.1.519', 'B.1.160', 'B.1.177', 'B.1.221', 'B.1.258', 'B.1.367', 'B.1.620', 'Beta', 'Epsilon', 'Eta', 'Gamma', 'Iota', 'Kappa', 'Lambda', 'Mu', 'S:677H.Robin1', 'S:677P.Pelican'] \n",
            " total nonUS+other =  19\n",
            "\n",
            " total unique variants =  24\n"
          ]
        }
      ]
    },
    {
      "cell_type": "markdown",
      "source": [
        "### **`Task.2`** - Find the most processed variant  "
      ],
      "metadata": {
        "id": "aB6-dtiH5OSq"
      },
      "id": "aB6-dtiH5OSq"
    },
    {
      "cell_type": "markdown",
      "source": [
        "**Tasks**  \n",
        "1. Which variant of COVID-19 has the most sequences processed?  \n",
        "2. Store and print the result in a string called **`variant_most_proc`**  \n",
        "\n",
        "**Useful links**  \n",
        "[pd.DataFrame.groupby](https://pandas.pydata.org/docs/reference/api/pandas.DataFrame.groupby.html#pandas-dataframe-groupby), [pd.DataFrame.aggregate](https://pandas.pydata.org/docs/reference/api/pandas.DataFrame.aggregate.html#pandas-dataframe-aggregate)"
      ],
      "metadata": {
        "id": "bRbxoQb9rbN9"
      },
      "id": "bRbxoQb9rbN9"
    },
    {
      "cell_type": "code",
      "source": [
        "#=>Enter Your Solution\n"
      ],
      "metadata": {
        "id": "JoFZ2N-WFDH1"
      },
      "id": "JoFZ2N-WFDH1",
      "execution_count": null,
      "outputs": []
    },
    {
      "cell_type": "markdown",
      "source": [
        "#### **`Task.2 - Expected Outcome`**  \n",
        "```\n",
        "Delta  \n",
        "```"
      ],
      "metadata": {
        "id": "5uAWiinsdBi2"
      },
      "id": "5uAWiinsdBi2"
    },
    {
      "cell_type": "markdown",
      "source": [
        "#### **`Task.2 - Solution`**  "
      ],
      "metadata": {
        "id": "oXgL86LGdBjE"
      },
      "id": "oXgL86LGdBjE"
    },
    {
      "cell_type": "code",
      "source": [
        "#Task.2.solution\n",
        "variant_most_proc = \"\"\n",
        "df2 = df.groupby(\"variant\").aggregate({\"num_sequences\": \"sum\"})\n",
        "df2 = df2.sort_values(\"num_sequences\", ascending=False)\n",
        "variant_most_proc = df2.index[0]\n",
        "print(variant_most_proc)"
      ],
      "metadata": {
        "id": "x_E8CNg3dBjE",
        "colab": {
          "base_uri": "https://localhost:8080/"
        },
        "outputId": "d2851cac-96db-46f7-9b27-a9b6f1c3ddfc"
      },
      "execution_count": 59,
      "outputs": [
        {
          "output_type": "stream",
          "name": "stdout",
          "text": [
            "Delta\n"
          ]
        }
      ],
      "id": "x_E8CNg3dBjE"
    },
    {
      "cell_type": "markdown",
      "id": "663db8ac",
      "metadata": {
        "id": "663db8ac"
      },
      "source": [
        "### **`Task.3`** - Find the best country at processing ALL variant sequences  \n",
        "\n",
        "\n"
      ]
    },
    {
      "cell_type": "markdown",
      "source": [
        "**Tasks**  \n",
        "1. Which country did the best processing **all** categories.    \n",
        "2. Store the result in a string called **`best_proc_country`**  \n",
        "3. The outcome is a single country.  \n",
        "4. **consider** df.groupby(\"location\").aggregate({\"num_sequences\": \"sum\", \"num_sequences_total\": \"sum\"})\n",
        "\n",
        "**Useful links**  \n",
        "[youtube: aggregate with groupby and .agg or .aggregate](https://www.youtube.com/watch?v=PNzlx3CjqAE)\n"
      ],
      "metadata": {
        "id": "ny95wr5_sQhK"
      },
      "id": "ny95wr5_sQhK"
    },
    {
      "cell_type": "code",
      "execution_count": null,
      "id": "75c31b41",
      "metadata": {
        "id": "75c31b41"
      },
      "outputs": [],
      "source": [
        "#=>Enter Your Solution\n"
      ]
    },
    {
      "cell_type": "markdown",
      "source": [
        "#### **`Task.3 - Expected Outcome`**\n",
        "```\n",
        "Total percent performed by country \n",
        "\n",
        "location                percent\n",
        "Cyprus                  8.19\n",
        "Hungary                 7.96\n",
        "Egypt                   7.77\n",
        "United Arab Emirates    7.58\n",
        "Uruguay                 7.26\n",
        "                        ... \n",
        "Seychelles              4.25\n",
        "Fiji                    4.23\n",
        "Slovakia                4.23\n",
        "Brunei                  4.22\n",
        "Vietnam                 4.18\n",
        "Name: perc_sequences, Length: 121, dtype: float64 \n",
        "\n",
        "the best country is =>  Cyprus\n",
        "```"
      ],
      "metadata": {
        "id": "y0bRJhZLdKBu"
      },
      "id": "y0bRJhZLdKBu"
    },
    {
      "cell_type": "markdown",
      "source": [
        "#### **`Task.3 - Solution`**  "
      ],
      "metadata": {
        "id": "oyCfsZyXdKB_"
      },
      "id": "oyCfsZyXdKB_"
    },
    {
      "cell_type": "code",
      "source": [
        "best_proc_country = \"\"\n",
        "### BEGIN SOLUTION\n",
        "df3 = df.groupby(\"location\").aggregate({\"num_sequences\": \"sum\", \"num_sequences_total\": \"sum\"})\n",
        "df3[\"perc_sequences\"] = round((df3[\"num_sequences\"] / df3[\"num_sequences_total\"]) * 100,2)\n",
        "df4 = df3[\"perc_sequences\"].sort_values(ascending=False)\n",
        "print(\"Total percent performed by country \\n \\n\",df4, \"\\n\")\n",
        "best_proc_country = df4.index[0]  #list is sorted so country in first position\n",
        "print(\"the best country is => \",best_proc_country)\n",
        "### END SOLUTION"
      ],
      "metadata": {
        "id": "LO8dZlLSdKB_",
        "colab": {
          "base_uri": "https://localhost:8080/"
        },
        "outputId": "8e0c95c6-fb5c-4e47-96c9-bd5aedbfb274"
      },
      "execution_count": 57,
      "outputs": [
        {
          "output_type": "stream",
          "name": "stdout",
          "text": [
            "Total percent performed by country \n",
            " \n",
            " location\n",
            "Cyprus                  8.19\n",
            "Hungary                 7.96\n",
            "Egypt                   7.77\n",
            "United Arab Emirates    7.58\n",
            "Uruguay                 7.26\n",
            "                        ... \n",
            "Seychelles              4.25\n",
            "Fiji                    4.23\n",
            "Slovakia                4.23\n",
            "Brunei                  4.22\n",
            "Vietnam                 4.18\n",
            "Name: perc_sequences, Length: 121, dtype: float64 \n",
            "\n",
            "the best country is =  Cyprus\n"
          ]
        }
      ],
      "id": "LO8dZlLSdKB_"
    },
    {
      "cell_type": "markdown",
      "id": "11d1d3a0",
      "metadata": {
        "id": "11d1d3a0"
      },
      "source": [
        "### **`Task.4a`** - Find the best country at processing specific variant sequences  "
      ]
    },
    {
      "cell_type": "markdown",
      "source": [
        "**Tasks**  \n",
        "1. Which country is best at processing sequences for Alpha, Delta, and Omicron variants?    \n",
        "2. Store and print the result in a string called **`best_proc_country_ADO`** \n",
        "3. The final output is a single country.  \n",
        "\n",
        "**Useful links** \n",
        "- ibid  \n",
        "\n"
      ],
      "metadata": {
        "id": "Jxd-0IN00go_"
      },
      "id": "Jxd-0IN00go_"
    },
    {
      "cell_type": "code",
      "execution_count": null,
      "id": "fcafdd2e",
      "metadata": {
        "id": "fcafdd2e"
      },
      "outputs": [],
      "source": [
        "#=>Enter Your Solution\n"
      ]
    },
    {
      "cell_type": "markdown",
      "source": [
        "#### **`Task.4a - Expected Outcome`**  \n",
        "```\n",
        "best_proc_country_ADO = Vietnam  \n",
        "```"
      ],
      "metadata": {
        "id": "fvANdWH2kOqc"
      },
      "id": "fvANdWH2kOqc"
    },
    {
      "cell_type": "markdown",
      "source": [
        "#### **`Task.4a - Solution`**  "
      ],
      "metadata": {
        "id": "NKymCxF456PE"
      },
      "id": "NKymCxF456PE"
    },
    {
      "cell_type": "code",
      "source": [
        "best_proc_country_ado = \"\"\n",
        "### BEGIN SOLUTION\n",
        "df5 = df.loc[df[\"variant\"].isin([\"Alpha\", \"Delta\", \"Omicron\"])]\n",
        "df5 = df5.groupby(\"location\").aggregate({\"num_sequences\": \"sum\", \"num_sequences_total\": \"sum\"})\n",
        "df5[\"perc_sequences\"] = (df5[\"num_sequences\"] / df5[\"num_sequences_total\"]) * 100\n",
        "df5 = df5[\"perc_sequences\"].sort_values(ascending=False)\n",
        "best_proc_country_ADO = df5.index[0]\n",
        "print(best_proc_country_ADO)\n",
        "### END SOLUTION"
      ],
      "metadata": {
        "colab": {
          "base_uri": "https://localhost:8080/"
        },
        "id": "6Am8KR7p56ul",
        "outputId": "00517c80-30b1-4d4c-eefd-49f35da0222d"
      },
      "id": "6Am8KR7p56ul",
      "execution_count": 61,
      "outputs": [
        {
          "output_type": "stream",
          "name": "stdout",
          "text": [
            "Vietnam\n"
          ]
        }
      ]
    },
    {
      "cell_type": "markdown",
      "id": "9ccb8782",
      "metadata": {
        "id": "9ccb8782"
      },
      "source": [
        "### **`Task.4b`** - Find the United States ranking for processing Alpha, Delta, and Omicron  "
      ]
    },
    {
      "cell_type": "markdown",
      "source": [
        "**Tasks**  \n",
        "Given the outcome in 4a\n",
        "1. Find the positional index value for the US ranking for processing sequences for Alpha, Delta, an Omicron variants.   \n",
        "2. Store and print the ranking as an integer in a **us_ranking** variable.  \n",
        "3. Ensure your ranking scale reflects a scale starting at 1.  \n",
        "4. As a refresher, Python indexing starts at 0.  \n",
        "\n",
        "**Useful links** \n",
        "- [enumerate](https://docs.python.org/3/library/functions.html#enumerate)  "
      ],
      "metadata": {
        "id": "uS-CWHXDFnlB"
      },
      "id": "uS-CWHXDFnlB"
    },
    {
      "cell_type": "code",
      "execution_count": null,
      "id": "038e81b5",
      "metadata": {
        "id": "038e81b5"
      },
      "outputs": [],
      "source": [
        "#=>Enter Your Solution\n"
      ]
    },
    {
      "cell_type": "markdown",
      "source": [
        "#### **`Task.4b - Expected Outcome`**  \n",
        "```\n",
        "United States ranking = 57  \n",
        "```"
      ],
      "metadata": {
        "id": "G5SUmnTckQBM"
      },
      "id": "G5SUmnTckQBM"
    },
    {
      "cell_type": "markdown",
      "source": [
        "#### **`Task.4b.solution`**  "
      ],
      "metadata": {
        "id": "njAcLcNo9W9F"
      },
      "id": "njAcLcNo9W9F"
    },
    {
      "cell_type": "code",
      "source": [
        "us_ranking = -1\n",
        "country_rankings = df5.index.tolist()\n",
        "us_ranking = country_rankings.index(\"United States\") + 1\n",
        "print(\"US ranking via .index method =\",us_ranking)\n",
        "\n",
        "#using enumerate  \n",
        "for index, country in enumerate(country_rankings):\n",
        "  if country == \"United States\":\n",
        "    print(\"US ranking via enumerate = \", index+1)\n",
        "    break"
      ],
      "metadata": {
        "colab": {
          "base_uri": "https://localhost:8080/"
        },
        "id": "FqgQcHcC9da4",
        "outputId": "e2eb5477-fed6-482b-bb62-6c471b542ca6"
      },
      "id": "FqgQcHcC9da4",
      "execution_count": 82,
      "outputs": [
        {
          "output_type": "stream",
          "name": "stdout",
          "text": [
            "US ranking via .index method = 57\n",
            "US ranking via enumerate =  57\n"
          ]
        }
      ]
    },
    {
      "cell_type": "markdown",
      "id": "283e46d3",
      "metadata": {
        "id": "283e46d3"
      },
      "source": [
        "### **`Task.5`** - Train the trainee  \n",
        "#### **`Write a work order memo to a junior data sciencist`**\n",
        "=> final task for assignment.M.1  \n"
      ]
    },
    {
      "cell_type": "markdown",
      "source": [
        "Data science isn't only about crafting clever solutions. Its also involves explaining what you did and writing what you need to help accomplish an analysis task.\n",
        "\n",
        "In this scenario you are senior data scientist tasked with training a junior data scientist called \"Jr.\" Jr. has quality skills but prefers specific rather than general task instructions.\n",
        "\n",
        "Given the provided code blocks, that is what you need your junior analyst to create, generate a work order request with two to three more levels of detail than the **original instruction tasks.** enabling your staff to complete the task successfully. \n",
        "\n",
        "**Other specific Task.5 requirements**  \n",
        "1. For each line of the code, explain in plain language the mechanics being performed.  \n",
        "2. Plain language involves looking up both Pandas and Python methods to effectively explain code components. \n",
        "3. Considering the original instructions, generate a list of the \"useful links\" necessary to guide a novice coder to reverse engineer the solution provided.  \n",
        "\n",
        "#### **`Task.x`** - Find the number of processed sequences per country on a specified date\n",
        "\n",
        "--------------------\n",
        "#### **`Original - Instruction Tasks`**  \n",
        "---------------------\n",
        "**Goal** -  Find the number of processed sequences per country on a specified date\n",
        "**Part I of II**\n",
        "1. Determine each country's total number of processed sequences for the Omicron variant on December 27, 2021.  \n",
        "2. Output should include both country name and number of processed sequences.  \n",
        "3. Sort the output from the high to low.  \n",
        "4. Store the result as a list of tuples, with each tuple containing the country name first and number processed sequences second.  \n",
        "5. Save and print the result in a variable called `total_omicron_2021`\n",
        "\n",
        "**Useful links** \n",
        "- None  \n",
        "- your assignment is to source and list them ! "
      ],
      "metadata": {
        "id": "2mN_TFHdT1Vg"
      },
      "id": "2mN_TFHdT1Vg"
    },
    {
      "cell_type": "code",
      "source": [
        "#### **Write your work order here))"
      ],
      "metadata": {
        "id": "sMFoLYaXlRGZ"
      },
      "id": "sMFoLYaXlRGZ",
      "execution_count": null,
      "outputs": []
    },
    {
      "cell_type": "markdown",
      "source": [
        "```\n",
        "total_omicron_2021 = []\n",
        "#5.1\n",
        "df6 = df.set_index(\"location\")\n",
        "#5.2\n",
        "df6 = df6.loc[df6[\"date\"] == \"2021-12-27\"]\n",
        "#5.3\n",
        "df6 = df6.loc[df6[\"variant\"] == \"Omicron\"]\n",
        "#5.3\n",
        "df6 = df6[\"num_sequences\"]\n",
        "#5.4\n",
        "total_omicron_2021 = list(zip(df6.index, df6))\n",
        "#5.5\n",
        "df7 = pd.DataFrame(sorted(total_omicron_2021, key=lambda x: x[1], reverse=True))\n",
        "print(df7)\n",
        "---------------------\n",
        "[out]\n",
        "---------------------\n",
        "0\t                1\n",
        "0\tUnited Kingdom\t52456\n",
        "1\tUnited States\t  24681\n",
        "2\tDenmark\t        3331\n",
        "3\tGermany\t        1701\n",
        "4\tIsrael\t        1578\n",
        "...\t...\t...\n",
        "59\tVietnam\t      1\n",
        "60\tMoldova\t      0\n",
        "61\tMonaco\t      0\n",
        "62\tNepal\t        0\n",
        "63\tSouth Korea \t0\n",
        "64 rows × 2 columns\n",
        "```\n"
      ],
      "metadata": {
        "id": "uV6K5AkAfDET"
      },
      "id": "uV6K5AkAfDET"
    },
    {
      "cell_type": "markdown",
      "source": [
        "#### END - assignment.M.1\n",
        "#### **Reference Only**  \n",
        "#### DataFrame.groupby and positional calculations using pd.DataFrames.loc  \n",
        "\n",
        "1. Determine the percentage of processed sequences for the Alpha, Delta, and Omicron variants in the US.  \n",
        "2. Store the result as a dictionary where keys are variant names and values are percentages.  \n",
        "3. Save the result in a variable called proc_seq_us.  \n",
        "\n",
        "```\n",
        "proc_seq_us = {}\n",
        "### BEGIN SOLUTION\n",
        "df2 = df.groupby([\"location\", \"variant\"]).aggregate({\n",
        "    \"num_sequences\": \"sum\",\n",
        "    \"num_sequences_total\": \"sum\",\n",
        "})\n",
        "df2[\"perc_sequences\"] = (df2[\"num_sequences\"] / df2[\"num_sequences_total\"]) * 100\n",
        "df2 = df2.loc[(\"United States\", [\"Alpha\", \"Delta\", \"Omicron\"]), :].loc[\"United States\"]\n",
        "df2 = df2[\"perc_sequences\"]\n",
        "proc_seq_us = df2.to_dict()\n",
        "print(proc_seq_us)\n",
        "[out]\n",
        "{'Alpha': 11.520951617373877, 'Delta': 63.76796208057254, 'Omicron': 1.370817855027461}\n",
        "```"
      ],
      "metadata": {
        "id": "bNT7RtkthosA"
      },
      "id": "bNT7RtkthosA"
    },
    {
      "cell_type": "code",
      "source": [
        "total_omicron_2021 = []\n",
        "#5.1\n",
        "df6 = df.set_index(\"location\")\n",
        "#5.2\n",
        "df6 = df6.loc[df6[\"date\"] == \"2021-12-27\"]\n",
        "#5.3\n",
        "df6 = df6.loc[df6[\"variant\"] == \"Omicron\"]\n",
        "#5.3\n",
        "df6 = df6[\"num_sequences\"]\n",
        "#5.4\n",
        "total_omicron_2021 = list(zip(df6.index, df6))\n",
        "#5.5\n",
        "df7 = pd.DataFrame(sorted(total_omicron_2021, key=lambda x: x[1], reverse=True))\n",
        "print(df7)\n",
        "total_omicron_2021 = sorted(total_omicron_2021, key=lambda x: x[1], reverse=True)\n",
        "print(total_omicron_2021)\n",
        "\"\"\"\n",
        "#[('United Kingdom', 52456), ('United States', 24681), ('Denmark', 3331),\n",
        " ('Germany', 1701), ('Israel', 1578), ('Australia', 1319), ('Switzerland', 514),\n",
        "  ('France', 509), ('Italy', 486), ('Belgium', 464), ('Spain', 461), \n",
        "  ('Sweden', 434), ('Chile', 260), ('Netherlands', 254), ('Singapore', 249),\n",
        "  ('Mexico', 240), ('Turkey', 202), ('India', 174), ('Brazil', 147),\n",
        "   ('Botswana', 142), ('Indonesia', 128), ('Japan', 118), ('Portugal', 118),\n",
        "    ('Argentina', 80), ('New Zealand', 63), ('South Africa', 61), \n",
        "    ('Lithuania', 50), ('Czechia', 49), ('Georgia', 46), ('Russia', 45), \n",
        "    ('Colombia', 37), ('Sri Lanka', 37), ('Hong Kong', 35), ('Malta', 34),\n",
        "     ('Poland', 28), ('Ecuador', 26), ('Canada', 25), ('Jordan', 22), \n",
        "     ('Malawi', 21), ('Cambodia', 18), ('Norway', 17), ('Morocco', 15), \n",
        "     ('Senegal', 15), ('Costa Rica', 14), ('Pakistan', 11), ('Nigeria', 10),\n",
        "      ('Peru', 10), ('Brunei', 8), ('Slovakia', 8), ('Trinidad and Tobago', 8),\n",
        "       ('Maldives', 7), ('Zambia', 7), ('Thailand', 6), ('Malaysia', 5), \n",
        "       ('Bangladesh', 4), ('Romania', 3), ('Iran', 1), ('Oman', 1),\n",
        "        ('Ukraine', 1), ('Vietnam', 1), ('Moldova', 0), ('Monaco', 0), \n",
        "        ('Nepal', 0), ('South Korea', 0)]\n",
        "\"\"\""
      ],
      "metadata": {
        "colab": {
          "base_uri": "https://localhost:8080/"
        },
        "id": "ilcLFMXTW9jG",
        "outputId": "2b827e05-e959-4580-861d-518facb7c1c3"
      },
      "id": "ilcLFMXTW9jG",
      "execution_count": 85,
      "outputs": [
        {
          "output_type": "stream",
          "name": "stdout",
          "text": [
            "                 0      1\n",
            "0   United Kingdom  52456\n",
            "1    United States  24681\n",
            "2          Denmark   3331\n",
            "3          Germany   1701\n",
            "4           Israel   1578\n",
            "..             ...    ...\n",
            "59         Vietnam      1\n",
            "60         Moldova      0\n",
            "61          Monaco      0\n",
            "62           Nepal      0\n",
            "63     South Korea      0\n",
            "\n",
            "[64 rows x 2 columns]\n",
            "[('United Kingdom', 52456), ('United States', 24681), ('Denmark', 3331), ('Germany', 1701), ('Israel', 1578), ('Australia', 1319), ('Switzerland', 514), ('France', 509), ('Italy', 486), ('Belgium', 464), ('Spain', 461), ('Sweden', 434), ('Chile', 260), ('Netherlands', 254), ('Singapore', 249), ('Mexico', 240), ('Turkey', 202), ('India', 174), ('Brazil', 147), ('Botswana', 142), ('Indonesia', 128), ('Japan', 118), ('Portugal', 118), ('Argentina', 80), ('New Zealand', 63), ('South Africa', 61), ('Lithuania', 50), ('Czechia', 49), ('Georgia', 46), ('Russia', 45), ('Colombia', 37), ('Sri Lanka', 37), ('Hong Kong', 35), ('Malta', 34), ('Poland', 28), ('Ecuador', 26), ('Canada', 25), ('Jordan', 22), ('Malawi', 21), ('Cambodia', 18), ('Norway', 17), ('Morocco', 15), ('Senegal', 15), ('Costa Rica', 14), ('Pakistan', 11), ('Nigeria', 10), ('Peru', 10), ('Brunei', 8), ('Slovakia', 8), ('Trinidad and Tobago', 8), ('Maldives', 7), ('Zambia', 7), ('Thailand', 6), ('Malaysia', 5), ('Bangladesh', 4), ('Romania', 3), ('Iran', 1), ('Oman', 1), ('Ukraine', 1), ('Vietnam', 1), ('Moldova', 0), ('Monaco', 0), ('Nepal', 0), ('South Korea', 0)]\n"
          ]
        }
      ]
    },
    {
      "cell_type": "code",
      "execution_count": null,
      "id": "6cf6efa9",
      "metadata": {
        "id": "6cf6efa9"
      },
      "outputs": [],
      "source": [
        "#=>Enter Your Solution\n",
        "proc_seq_us = {}\n",
        "### BEGIN SOLUTION\n",
        "df2 = df.groupby([\"location\", \"variant\"]).aggregate({\n",
        "    \"num_sequences\": \"sum\",\n",
        "    \"num_sequences_total\": \"sum\",\n",
        "})\n",
        "df2[\"perc_sequences\"] = (df2[\"num_sequences\"] / df2[\"num_sequences_total\"]) * 100\n",
        "df2 = df2.loc[(\"United States\", [\"Alpha\", \"Delta\", \"Omicron\"]), :].loc[\"United States\"]\n",
        "df2 = df2[\"perc_sequences\"]\n",
        "proc_seq_us = df2.to_dict()\n",
        "print(proc_seq_us)\n",
        "### END SOLUTION\n",
        "#[out]\n",
        "#{'Alpha': 11.520951617373877, 'Delta': 63.76796208057254, 'Omicron': 1.370817855027461}"
      ]
    },
    {
      "cell_type": "markdown",
      "source": [
        "#### **`Task. - Expected Outcome`**  \n",
        "```\n",
        "#5.1\n",
        "df6 = df.set_index(\"location\")\n",
        "#5.2\n",
        "df6 = df6.loc[df6[\"date\"] == \"2021-12-27\"]\n",
        "#5.3\n",
        "df6 = df6.loc[df6[\"variant\"] == \"Omicron\"]\n",
        "#5.3\n",
        "df6 = df6[\"num_sequences\"]\n",
        "#5.4\n",
        "total_omicron_2021 = list(zip(df6.index, df6))\n",
        "#5.5\n",
        "```"
      ],
      "metadata": {
        "id": "vWSim_rykQeP"
      },
      "id": "vWSim_rykQeP"
    },
    {
      "cell_type": "markdown",
      "source": [
        "#### **`Task.5.solution`**  "
      ],
      "metadata": {
        "id": "0yTFAH2WFhHd"
      },
      "id": "0yTFAH2WFhHd"
    },
    {
      "cell_type": "markdown",
      "source": [
        "### Housekeeping, unmount drive"
      ],
      "metadata": {
        "id": "kjA00fVqPjEm"
      },
      "id": "kjA00fVqPjEm"
    },
    {
      "cell_type": "code",
      "source": [
        "from google.colab import drive\n",
        "drive.flush_and_unmount()"
      ],
      "metadata": {
        "id": "2DzgneXkPhuC"
      },
      "id": "2DzgneXkPhuC",
      "execution_count": null,
      "outputs": []
    },
    {
      "cell_type": "markdown",
      "source": [
        "# `end.M1`\n",
        "-------------"
      ],
      "metadata": {
        "id": "QuEPQ9tfwvRH"
      },
      "id": "QuEPQ9tfwvRH"
    },
    {
      "cell_type": "markdown",
      "source": [
        "# Tempalte Level.2 category: exercise or assignment\n",
        "=> change this indent to ##"
      ],
      "metadata": {
        "id": "IGEBKdcJEq4m"
      },
      "id": "IGEBKdcJEq4m"
    },
    {
      "cell_type": "markdown",
      "source": [
        "### **`Overview and Directions`**"
      ],
      "metadata": {
        "id": "ea7scL-NEmCR"
      },
      "id": "ea7scL-NEmCR"
    },
    {
      "cell_type": "markdown",
      "source": [
        "* Practice importing and parsing information. \n",
        "* Focus on learning and solving versus coding perfectly.  \n",
        "* Perform tasks without assistance from clever sources.\n",
        "  \n",
        "#### **`Desired outcomes`**  \n",
        "- Experience open, read, and writing of external delimited files.  \n",
        "- Navigate basic text mining preprocessing like white space stripping.  \n",
        "- Refresh expereience with iterator, conditionals, and functions.  \n",
        "\n",
        "#### **`Additional Resources`**  \n",
        "- course "
      ],
      "metadata": {
        "id": "UuJMluyeEmCt"
      },
      "id": "UuJMluyeEmCt"
    },
    {
      "cell_type": "markdown",
      "metadata": {
        "id": "h6DHf8eXEmCu"
      },
      "source": [
        "### **`Task.1`**  - level.3 title"
      ],
      "id": "h6DHf8eXEmCu"
    },
    {
      "cell_type": "markdown",
      "source": [
        "Reading and p\n",
        "- *.csv* files s  \n",
        "\n",
        "**Tasks**  \n",
        "0. [data.exercise.M.1.csv](h    \n",
        "1. Generate a single value for the total number of rows of data.\n",
        "\n",
        "**Useful links**  \n",
        "- [Python.Crash.Course, Matthes](https://github.com/cosc-526/cosc.526.home.page/blob/main/textbook.Python.crash.course.matthes.pdf)  "
      ],
      "metadata": {
        "id": "ciBAppU0EmCu"
      },
      "id": "ciBAppU0EmCu"
    },
    {
      "cell_type": "code",
      "source": [
        "#=>Enter Your Solution\n"
      ],
      "metadata": {
        "id": "grwEiYPQEmCu"
      },
      "execution_count": null,
      "outputs": [],
      "id": "grwEiYPQEmCu"
    },
    {
      "cell_type": "markdown",
      "metadata": {
        "id": "ydAaFt27EmCv"
      },
      "source": [
        "**Task.1 Expected Ouput**\n",
        "```\n",
        "Number of rows of data: 8\n",
        "Number of cols: 3\n",
        "Average Age: 70.875\n",
        "```"
      ],
      "id": "ydAaFt27EmCv"
    },
    {
      "cell_type": "markdown",
      "source": [
        "#### **`Task.1.solution`**"
      ],
      "metadata": {
        "id": "zl_trypLEmCv"
      },
      "id": "zl_trypLEmCv"
    },
    {
      "cell_type": "code",
      "source": [
        "#Task.1 solution\n",
        "parse_delimited_file('data.exercise.M.1.csv')"
      ],
      "metadata": {
        "colab": {
          "base_uri": "https://localhost:8080/"
        },
        "outputId": "b8bf667f-ed32-4180-803c-f4597a413a27",
        "id": "CjqjT5w3EmCv"
      },
      "execution_count": null,
      "outputs": [
        {
          "output_type": "stream",
          "name": "stdout",
          "text": [
            "Number of rows of data: 8\n",
            "Number of cols: 3\n",
            "Average Age: 70.875\n"
          ]
        }
      ],
      "id": "CjqjT5w3EmCv"
    },
    {
      "cell_type": "markdown",
      "metadata": {
        "id": "TRzsydJjKB7b"
      },
      "source": [
        "### **`Task.2`** - level.3 title"
      ],
      "id": "TRzsydJjKB7b"
    },
    {
      "cell_type": "markdown",
      "source": [
        "Reading and p\n",
        "- *.csv* files s  \n",
        "\n",
        "**Tasks**  \n",
        "0. [data.exercise.M.1.csv](h    \n",
        "1. Generate a single value for the total number of rows of data.\n",
        "\n",
        "**Useful links**  \n",
        "- [Python.Crash.Course, Matthes](https://github.com/cosc-526/cosc.526.home.page/blob/main/textbook.Python.crash.course.matthes.pdf)  "
      ],
      "metadata": {
        "id": "N3Q8b0gzKB8G"
      },
      "id": "N3Q8b0gzKB8G"
    },
    {
      "cell_type": "code",
      "source": [
        "#=>Enter Your Solution\n"
      ],
      "metadata": {
        "id": "tiruWOtSKB8H"
      },
      "execution_count": null,
      "outputs": [],
      "id": "tiruWOtSKB8H"
    },
    {
      "cell_type": "markdown",
      "metadata": {
        "id": "hzZbyFWqKB8H"
      },
      "source": [
        "**Task.2 Expected Ouput**\n",
        "```\n",
        "Number of rows of data: 8\n",
        "Number of cols: 3\n",
        "Average Age: 70.875\n",
        "```"
      ],
      "id": "hzZbyFWqKB8H"
    },
    {
      "cell_type": "markdown",
      "source": [
        "#### **`Task.2.solution`**"
      ],
      "metadata": {
        "id": "P03F4bohKB8I"
      },
      "id": "P03F4bohKB8I"
    },
    {
      "cell_type": "code",
      "source": [
        "#Task.1 solution\n",
        "parse_delimited_file('data.exercise.M.1.csv')"
      ],
      "metadata": {
        "colab": {
          "base_uri": "https://localhost:8080/"
        },
        "outputId": "b8bf667f-ed32-4180-803c-f4597a413a27",
        "id": "CV9wMotRKB8I"
      },
      "execution_count": null,
      "outputs": [
        {
          "output_type": "stream",
          "name": "stdout",
          "text": [
            "Number of rows of data: 8\n",
            "Number of cols: 3\n",
            "Average Age: 70.875\n"
          ]
        }
      ],
      "id": "CV9wMotRKB8I"
    },
    {
      "cell_type": "markdown",
      "source": [
        "# **`M2 - Data preprocessing`**\n",
        "\n"
      ],
      "metadata": {
        "id": "Hn4Iuwq2L36e"
      },
      "id": "Hn4Iuwq2L36e"
    },
    {
      "cell_type": "markdown",
      "source": [
        "## **`exercise.M.2.exercise.1`**"
      ],
      "metadata": {
        "id": "pTx8Ht06x-XZ"
      },
      "id": "pTx8Ht06x-XZ"
    },
    {
      "cell_type": "markdown",
      "metadata": {
        "id": "64Lv80jSgfet"
      },
      "source": [
        "## **`assignment.M.2`** - Titanic"
      ],
      "id": "64Lv80jSgfet"
    },
    {
      "cell_type": "markdown",
      "source": [
        "### **`Overview and Directions`**\n"
      ],
      "metadata": {
        "id": "XUoNyI0_gfe2"
      },
      "id": "XUoNyI0_gfe2"
    },
    {
      "cell_type": "markdown",
      "source": [
        "* Modify any code and write new code to solve the questions. \n",
        "* Save and submit work ONLY associated with this module.  \n",
        "* https://github.com/cosc-526/cosc.526.home.page/blob/main/assign.M.1.assignment.1.covid.data.pdf  \n",
        "\n",
        "#### **`Desired Outcomes`**\n",
        "1. Import and manipulate a .csv file  \n",
        "2. Assess your Python Programming Skills  \n",
        "3. Other assignments are more challenging. Use this one to assess your skills.\n",
        "4. Attempt to solve the problems without searching for online assistance.\n",
        "5. Prepare resource questions for the class discussion to help source additional tools.  \n",
        "\n",
        "#### **`Additional Resources`**\n",
        "1. Import and mani"
      ],
      "metadata": {
        "id": "jZ2bdM0bgfe3"
      },
      "id": "jZ2bdM0bgfe3"
    },
    {
      "cell_type": "markdown",
      "source": [
        "### **`Task.0`** Import and view dataframe head and descriptive statistics   \n"
      ],
      "metadata": {
        "id": "uhbZDSjugfe3"
      },
      "id": "uhbZDSjugfe3"
    },
    {
      "cell_type": "markdown",
      "source": [
        "data => COVID-19 sequences by different countries over time.    \n",
        "1. `location`: the country for which the information is provided  \n",
        "2. `date`: th. \n",
        "* [Kaggle](https://www.kaggle.com/yamqwe/omicron-covid19-variant-daily-cases?select=covid-variants.csv) home, use your kaggle API (or get one if you like), URL via class GitHub, or the .csv file.   "
      ],
      "metadata": {
        "id": "qPP2ThyCgfe3"
      },
      "id": "qPP2ThyCgfe3"
    },
    {
      "cell_type": "markdown",
      "source": [
        "* [Kaggle](https://www.kaggle.com/yamqwe/omicron-covid19-variant-daily-cases?select=covid-variants.csv) home, use your kaggle API (or get one if you like), URL via class GitHub, or the .csv file.\n"
      ],
      "metadata": {
        "id": "gIDc5gohgfe3"
      },
      "id": "gIDc5gohgfe3"
    },
    {
      "cell_type": "code",
      "source": [
        "## Enter solution here\n"
      ],
      "metadata": {
        "id": "Au5scy9ygfe3"
      },
      "execution_count": null,
      "outputs": [],
      "id": "Au5scy9ygfe3"
    },
    {
      "cell_type": "markdown",
      "source": [
        "#### **`Task.0 - Expected Outcome`**  "
      ],
      "metadata": {
        "id": "r_s1XRpbgfe4"
      },
      "id": "r_s1XRpbgfe4"
    },
    {
      "cell_type": "code",
      "source": [],
      "metadata": {
        "id": "Q4VigbmFgfe4"
      },
      "execution_count": null,
      "outputs": [],
      "id": "Q4VigbmFgfe4"
    },
    {
      "cell_type": "markdown",
      "source": [
        "##### **`Task.0 Solution`**  "
      ],
      "metadata": {
        "id": "spLMqdmpgfe4"
      },
      "id": "spLMqdmpgfe4"
    },
    {
      "cell_type": "code",
      "source": [
        "#=> Read Data w URL\n",
        "#=> from a url into pandas or once loaded in notebook\n",
        "import pandas as pd\n",
        "\n",
        "url = \"https://raw.githubusercontent.com/cosc-526/cosc.526.home.page/main/d.data.M.1.assignment.1.covid.data.csv\"\n",
        "df = pd.read_csv(url)\n",
        "print(\"done\")"
      ],
      "metadata": {
        "colab": {
          "base_uri": "https://localhost:8080/"
        },
        "outputId": "2f958e0b-2c7d-4a76-8ba0-68db20f26f4d",
        "id": "rZT3pPXNgfe4"
      },
      "execution_count": null,
      "outputs": [
        {
          "output_type": "stream",
          "name": "stdout",
          "text": [
            "done\n"
          ]
        }
      ],
      "id": "rZT3pPXNgfe4"
    },
    {
      "cell_type": "markdown",
      "source": [
        "Optional kaggle via API key"
      ],
      "metadata": {
        "id": "bKxonlpVgfe5"
      },
      "id": "bKxonlpVgfe5"
    },
    {
      "cell_type": "code",
      "source": [
        "#=>Kaggle data API part I of II\n",
        "from google.colab import drive\n",
        "drive.mount('/content/drive') #mount drive and connect key\n",
        "                              #copies you api from google colab folder\n",
        "!cp /content/drive/MyDrive/Colab Notebooks/kaggle.json ~/.kaggle/\n",
        "import kaggle                         #open library\n",
        "kaggle.api.authenticate()             #authenticae your key\n",
        "!chmod 600 /root/.kaggle/kaggle.json  #hide your key\n",
        "print(\"==> api key connect success <==\")\n",
        "!kaggle datasets download -d gpreda/covid19-variants  #read the dataset\n",
        "print(\"==> data import success <==\")\n",
        "\n",
        "#test is all packages installed\n",
        "#!pip install kaggle,  #!mkdir ~/.kaggle)\n",
        "#!pip freeze | grep kaggle\n",
        "#!pip freeze | grep pandas\n",
        "#!pip freeze | grep numpy\n",
        "#!pip freeze | grep matplotlib"
      ],
      "metadata": {
        "colab": {
          "base_uri": "https://localhost:8080/"
        },
        "outputId": "9af45e28-8c88-4a36-9531-be22c10d9af8",
        "id": "WhNxg982gfe5"
      },
      "execution_count": null,
      "outputs": [
        {
          "output_type": "stream",
          "name": "stdout",
          "text": [
            "Drive already mounted at /content/drive; to attempt to forcibly remount, call drive.mount(\"/content/drive\", force_remount=True).\n",
            "cp: cannot stat '/content/drive/MyDrive/Colab': No such file or directory\n",
            "cp: cannot stat 'Notebooks/kaggle.json': No such file or directory\n",
            "Warning: Your Kaggle API key is readable by other users on this system! To fix this, you can run 'chmod 600 /root/.kaggle/kaggle.json'\n",
            "==> api key connect success <==\n",
            "covid19-variants.zip: Skipping, found more recently modified local copy (use --force to force download)\n",
            "kaggle import and read done\n"
          ]
        }
      ],
      "id": "WhNxg982gfe5"
    },
    {
      "cell_type": "code",
      "source": [
        "#=>Kaggle data API part I of II\n",
        "import kaggle\n",
        "# Load data into a pandas DataFrame\n",
        "df = pd.read_csv('covid19-variants.zip')\n",
        "# display a view of the imported data, function = pd.head()\n",
        "print(\"------------------------------\")\n",
        "print(\"> dataframe fields w pd.head <\")\n",
        "print(\"------------------------------\")\n",
        "print(df.head())\n",
        "\n",
        "# display descriptive statistics\n",
        "print(\"------------------------------\")\n",
        "print(\"==> descriptive statistics <==\")\n",
        "print(\"------------------------------\")\n",
        "print(round(df.describe()),1)"
      ],
      "metadata": {
        "colab": {
          "base_uri": "https://localhost:8080/"
        },
        "outputId": "e492e028-2faf-4583-d417-41316cc3c8df",
        "id": "DdgV2qd9gfe5"
      },
      "execution_count": null,
      "outputs": [
        {
          "output_type": "stream",
          "name": "stdout",
          "text": [
            "------------------------------\n",
            "> dataframe fields w pd.head <\n",
            "------------------------------\n",
            "  location        date    variant  num_sequences  perc_sequences  \\\n",
            "0   Angola  2020-07-06      Alpha              0             0.0   \n",
            "1   Angola  2020-07-06  B.1.1.277              0             0.0   \n",
            "2   Angola  2020-07-06  B.1.1.302              0             0.0   \n",
            "3   Angola  2020-07-06  B.1.1.519              0             0.0   \n",
            "4   Angola  2020-07-06    B.1.160              0             0.0   \n",
            "\n",
            "   num_sequences_total  \n",
            "0                    3  \n",
            "1                    3  \n",
            "2                    3  \n",
            "3                    3  \n",
            "4                    3  \n",
            "------------------------------\n",
            "==> descriptive statistics <==\n",
            "------------------------------\n",
            "       num_sequences  perc_sequences  num_sequences_total\n",
            "count       100416.0        100416.0             100416.0\n",
            "mean            72.0             6.0               1510.0\n",
            "std           1669.0            22.0               8445.0\n",
            "min              0.0            -0.0                  1.0\n",
            "25%              0.0             0.0                 12.0\n",
            "50%              0.0             0.0                 59.0\n",
            "75%              0.0             0.0                394.0\n",
            "max         142280.0           100.0             146170.0 1\n"
          ]
        }
      ],
      "id": "DdgV2qd9gfe5"
    },
    {
      "cell_type": "markdown",
      "source": [
        "# `end.M.2`\n",
        "--------------"
      ],
      "metadata": {
        "id": "kxjO_-MWynbZ"
      },
      "id": "kxjO_-MWynbZ"
    },
    {
      "cell_type": "markdown",
      "source": [
        "# **`M3 - Algorithms: Unsupervised`**"
      ],
      "metadata": {
        "id": "a4PeBkYJ6L95"
      },
      "id": "a4PeBkYJ6L95"
    },
    {
      "cell_type": "markdown",
      "source": [
        "### **`Directions`**\n",
        "* Modify any code and write new code to solve the questions. \n",
        "* Save and submit work ONLY associated with this module.  "
      ],
      "metadata": {
        "id": "HFCpvEXewdWw"
      },
      "id": "HFCpvEXewdWw"
    },
    {
      "cell_type": "markdown",
      "source": [
        "## **`exercise.M.3.exercise.1`**"
      ],
      "metadata": {
        "id": "Ht61pbViyC7D"
      },
      "id": "Ht61pbViyC7D"
    },
    {
      "cell_type": "markdown",
      "source": [
        "# `end.M.3`\n",
        "----------"
      ],
      "metadata": {
        "id": "7BhZHUd5yn83"
      },
      "id": "7BhZHUd5yn83"
    },
    {
      "cell_type": "markdown",
      "source": [
        "# **`M4 - Algorithms: Supervised`**"
      ],
      "metadata": {
        "id": "ogwwvpsJ6MGI"
      },
      "id": "ogwwvpsJ6MGI"
    },
    {
      "cell_type": "markdown",
      "source": [
        "### **`Directions`**\n",
        "* Modify any code and write new code to solve the questions. \n",
        "* Save and submit work ONLY associated with this module.  "
      ],
      "metadata": {
        "id": "uiwZD-99wdof"
      },
      "id": "uiwZD-99wdof"
    },
    {
      "cell_type": "markdown",
      "source": [
        "## **`exercise.M.4.exercise.1`**"
      ],
      "metadata": {
        "id": "2hvVJvS3yGD6"
      },
      "id": "2hvVJvS3yGD6"
    },
    {
      "cell_type": "markdown",
      "source": [
        "# `end.M.4`\n",
        "----------"
      ],
      "metadata": {
        "id": "rqHy8vYTyoVW"
      },
      "id": "rqHy8vYTyoVW"
    },
    {
      "cell_type": "markdown",
      "source": [
        "# **`M5 - Part I of III: Apache Spark`**"
      ],
      "metadata": {
        "id": "LE3iVztj6MLp"
      },
      "id": "LE3iVztj6MLp"
    },
    {
      "cell_type": "markdown",
      "source": [
        "### **`Directions`**\n",
        "* Modify any code and write new code to solve the questions. \n",
        "* Save and submit work ONLY associated with this module.  "
      ],
      "metadata": {
        "id": "rxShzaQSwd6w"
      },
      "id": "rxShzaQSwd6w"
    },
    {
      "cell_type": "markdown",
      "source": [
        "# `end.M5`\n",
        "---------"
      ],
      "metadata": {
        "id": "wb3uMs-1yoss"
      },
      "id": "wb3uMs-1yoss"
    },
    {
      "cell_type": "markdown",
      "source": [
        "# **`M6 - Part II of III: Apache Spark`**"
      ],
      "metadata": {
        "id": "zuvgtcMS6MSB"
      },
      "id": "zuvgtcMS6MSB"
    },
    {
      "cell_type": "markdown",
      "source": [
        "### **`Directions`**\n",
        "* Modify any code and write new code to solve the questions. \n",
        "* Save and submit work ONLY associated with this module.  "
      ],
      "metadata": {
        "id": "6qFV_SbxweLo"
      },
      "id": "6qFV_SbxweLo"
    },
    {
      "cell_type": "markdown",
      "source": [
        "## **`exercise.M.6.exercise.1`**"
      ],
      "metadata": {
        "id": "e7eqdg4iyJoS"
      },
      "id": "e7eqdg4iyJoS"
    },
    {
      "cell_type": "markdown",
      "source": [
        "# `end.M6`\n",
        "---------"
      ],
      "metadata": {
        "id": "IQOBZ6X4wIAo"
      },
      "id": "IQOBZ6X4wIAo"
    },
    {
      "cell_type": "markdown",
      "source": [
        "# **`M7 - Part III of III: Apache Spark`**"
      ],
      "metadata": {
        "id": "m_o-TAG56MWo"
      },
      "id": "m_o-TAG56MWo"
    },
    {
      "cell_type": "markdown",
      "source": [
        "### **`Directions`**\n",
        "* Modify any code and write new code to solve the questions. \n",
        "* Save and submit work ONLY associated with this module.  "
      ],
      "metadata": {
        "id": "wdoWawgNwefc"
      },
      "id": "wdoWawgNwefc"
    },
    {
      "cell_type": "markdown",
      "source": [
        "## **`exercise.M.7.exercise.1`**"
      ],
      "metadata": {
        "id": "2rLhsAwcyLlR"
      },
      "id": "2rLhsAwcyLlR"
    },
    {
      "cell_type": "markdown",
      "source": [
        "# `end.M.7`\n",
        "-----------"
      ],
      "metadata": {
        "id": "dohy5un6ypVh"
      },
      "id": "dohy5un6ypVh"
    },
    {
      "cell_type": "markdown",
      "source": [
        "# **`M8 - Data science interviewing`**"
      ],
      "metadata": {
        "id": "rG70DXQn6MZ8"
      },
      "id": "rG70DXQn6MZ8"
    },
    {
      "cell_type": "markdown",
      "source": [],
      "metadata": {
        "id": "SqznYRE3yXnp"
      },
      "id": "SqznYRE3yXnp"
    },
    {
      "cell_type": "markdown",
      "source": [
        "### **`Directions`**\n",
        "* Modify any code and write new code to solve the questions. \n",
        "* Save and submit work ONLY associated with this module.  "
      ],
      "metadata": {
        "id": "XyOqB6D7wezg"
      },
      "id": "XyOqB6D7wezg"
    },
    {
      "cell_type": "markdown",
      "source": [
        "# `end.M.8`\n",
        "-----------"
      ],
      "metadata": {
        "id": "c32bw5A_yprC"
      },
      "id": "c32bw5A_yprC"
    },
    {
      "cell_type": "markdown",
      "source": [
        "# **`M9 - Recommender Systems`**"
      ],
      "metadata": {
        "id": "iBNcMUha6MdA"
      },
      "id": "iBNcMUha6MdA"
    },
    {
      "cell_type": "markdown",
      "source": [
        "### **`Directions`**\n",
        "* Modify any code and write new code to solve the questions. \n",
        "* Save and submit work ONLY associated with this module.  "
      ],
      "metadata": {
        "id": "yHcbMEBdwfs8"
      },
      "id": "yHcbMEBdwfs8"
    },
    {
      "cell_type": "markdown",
      "source": [
        "Brian.scratch pad.\n",
        "\n"
      ],
      "metadata": {
        "id": "CiZUBAHNdKaH"
      },
      "id": "CiZUBAHNdKaH"
    },
    {
      "cell_type": "markdown",
      "source": [
        "# `end.M.9`\n",
        "-----------"
      ],
      "metadata": {
        "id": "t-QRd5MCrtdE"
      },
      "id": "t-QRd5MCrtdE"
    },
    {
      "cell_type": "markdown",
      "source": [
        " ---------------"
      ],
      "metadata": {
        "id": "dUiT1h-Lz1DL"
      },
      "id": "dUiT1h-Lz1DL"
    },
    {
      "cell_type": "markdown",
      "source": [
        "## Tempalte Level.2 category: exercise or assignment\n",
        "=> this is a ## level template, no matter what happens on row aboce!"
      ],
      "metadata": {
        "id": "5_2pMZkZLGRk"
      },
      "id": "5_2pMZkZLGRk"
    },
    {
      "cell_type": "markdown",
      "source": [
        "### **`Overview and Directions`**"
      ],
      "metadata": {
        "id": "JCMjunlhLGSF"
      },
      "id": "JCMjunlhLGSF"
    },
    {
      "cell_type": "markdown",
      "source": [
        "* Practice importing and parsing information. \n",
        "* Focus on learning and solving versus coding perfectly.  \n",
        "* Perform tasks without assistance from clever sources.\n",
        "  \n",
        "#### **`Desired outcomes`**  \n",
        "- Experience open, read, and writing of external delimited files.  \n",
        "- Navigate basic text mining preprocessing like white space stripping.  \n",
        "- Refresh expereience with iterator, conditionals, and functions.  \n",
        "\n",
        "#### **`Additional Resources`**  \n",
        "- course "
      ],
      "metadata": {
        "id": "NKe-cV0YLGSG"
      },
      "id": "NKe-cV0YLGSG"
    },
    {
      "cell_type": "markdown",
      "metadata": {
        "id": "lMnLmuCsLGSH"
      },
      "source": [
        "### **`Task.1`**  - level.3 title"
      ],
      "id": "lMnLmuCsLGSH"
    },
    {
      "cell_type": "markdown",
      "source": [
        "Reading and p\n",
        "- *.csv* files s  \n",
        "\n",
        "**Tasks**  \n",
        "0. [data.exercise.M.1.csv](h    \n",
        "1. Generate a single value for the total number of rows of data.\n",
        "\n",
        "**Useful links**  \n",
        "- [Python.Crash.Course, Matthes](https://github.com/cosc-526/cosc.526.home.page/blob/main/textbook.Python.crash.course.matthes.pdf)  "
      ],
      "metadata": {
        "id": "OjfOTDBZLGSI"
      },
      "id": "OjfOTDBZLGSI"
    },
    {
      "cell_type": "code",
      "source": [
        "#=>Enter Your Solution\n"
      ],
      "metadata": {
        "id": "d7aD8OhDLGSJ"
      },
      "execution_count": null,
      "outputs": [],
      "id": "d7aD8OhDLGSJ"
    },
    {
      "cell_type": "markdown",
      "metadata": {
        "id": "hprtVYt9LGSK"
      },
      "source": [
        "**Task.1 Expected Ouput**\n",
        "```\n",
        "Number of rows of data: 8\n",
        "Number of cols: 3\n",
        "Average Age: 70.875\n",
        "```"
      ],
      "id": "hprtVYt9LGSK"
    },
    {
      "cell_type": "markdown",
      "source": [
        "#### **`Task.1.solution`**"
      ],
      "metadata": {
        "id": "OLCAqU4dLGSL"
      },
      "id": "OLCAqU4dLGSL"
    },
    {
      "cell_type": "code",
      "source": [
        "#Task.1 solution\n",
        "parse_delimited_file('data.exercise.M.1.csv')"
      ],
      "metadata": {
        "colab": {
          "base_uri": "https://localhost:8080/"
        },
        "outputId": "b8bf667f-ed32-4180-803c-f4597a413a27",
        "id": "isDRy_9wLGSM"
      },
      "execution_count": null,
      "outputs": [
        {
          "output_type": "stream",
          "name": "stdout",
          "text": [
            "Number of rows of data: 8\n",
            "Number of cols: 3\n",
            "Average Age: 70.875\n"
          ]
        }
      ],
      "id": "isDRy_9wLGSM"
    },
    {
      "cell_type": "markdown",
      "metadata": {
        "id": "ALowwGJILGSN"
      },
      "source": [
        "### **`Task.2`** - level.3 title"
      ],
      "id": "ALowwGJILGSN"
    },
    {
      "cell_type": "markdown",
      "source": [
        "Reading and p\n",
        "- *.csv* files s  \n",
        "\n",
        "**Tasks**  \n",
        "0. [data.exercise.M.1.csv](h    \n",
        "1. Generate a single value for the total number of rows of data.\n",
        "\n",
        "**Useful links**  \n",
        "- [Python.Crash.Course, Matthes](https://github.com/cosc-526/cosc.526.home.page/blob/main/textbook.Python.crash.course.matthes.pdf)  "
      ],
      "metadata": {
        "id": "ssdW1aHXLGSO"
      },
      "id": "ssdW1aHXLGSO"
    },
    {
      "cell_type": "code",
      "source": [
        "#=>Enter Your Solution\n"
      ],
      "metadata": {
        "id": "_RvUcU8uLGSP"
      },
      "execution_count": null,
      "outputs": [],
      "id": "_RvUcU8uLGSP"
    },
    {
      "cell_type": "markdown",
      "metadata": {
        "id": "F8pGcv7wLGSQ"
      },
      "source": [
        "**Task.2 Expected Ouput**\n",
        "```\n",
        "Number of rows of data: 8\n",
        "Number of cols: 3\n",
        "Average Age: 70.875\n",
        "```"
      ],
      "id": "F8pGcv7wLGSQ"
    },
    {
      "cell_type": "markdown",
      "source": [
        "#### **`Task.2.solution`**"
      ],
      "metadata": {
        "id": "AfGbMU4FLGSQ"
      },
      "id": "AfGbMU4FLGSQ"
    },
    {
      "cell_type": "code",
      "source": [
        "#Task.1 solution\n",
        "parse_delimited_file('data.exercise.M.1.csv')"
      ],
      "metadata": {
        "colab": {
          "base_uri": "https://localhost:8080/"
        },
        "outputId": "b8bf667f-ed32-4180-803c-f4597a413a27",
        "id": "x9tmZGf4LGSR"
      },
      "execution_count": null,
      "outputs": [
        {
          "output_type": "stream",
          "name": "stdout",
          "text": [
            "Number of rows of data: 8\n",
            "Number of cols: 3\n",
            "Average Age: 70.875\n"
          ]
        }
      ],
      "id": "x9tmZGf4LGSR"
    },
    {
      "cell_type": "markdown",
      "source": [
        "# ==================================================="
      ],
      "metadata": {
        "id": "URzkKK8Xzq6b"
      },
      "id": "URzkKK8Xzq6b"
    },
    {
      "cell_type": "markdown",
      "source": [
        "# prof.hogan's scratch pad\n"
      ],
      "metadata": {
        "id": "IkUXuPexCope"
      },
      "id": "IkUXuPexCope"
    },
    {
      "cell_type": "markdown",
      "source": [
        "## picture"
      ],
      "metadata": {
        "id": "btx0kRpyuqQB"
      },
      "id": "btx0kRpyuqQB"
    },
    {
      "cell_type": "code",
      "source": [
        "![It doesn't matter what you write here](http://upload.wikimedia.org/wikipedia/commons/thumb/b/b7/South_African_Giraffe,_head.jpg/877px-South_African_Giraffe,_head.jpg \"Picture of a Giraffe)"
      ],
      "metadata": {
        "id": "qq-W2ojQFc_S"
      },
      "execution_count": null,
      "outputs": [],
      "id": "qq-W2ojQFc_S"
    },
    {
      "cell_type": "markdown",
      "source": [
        "## **`Nice header`**\n",
        "```\n",
        "nice block (three single quotes)\n",
        "```\n",
        "```\n",
        "super nice giraffe!\n",
        "```"
      ],
      "metadata": {
        "id": "ptfMC0AonnEN"
      },
      "id": "ptfMC0AonnEN"
    },
    {
      "cell_type": "markdown",
      "source": [
        "formatting misc  \n",
        "**`COSC.526 Introduction to Data Mining`**\n",
        "\n"
      ],
      "metadata": {
        "id": "V_Z6BaBrLzFr"
      },
      "id": "V_Z6BaBrLzFr"
    },
    {
      "cell_type": "markdown",
      "source": [
        "![It doesn't matter what you write here](http://upload.wikimedia.org/wikipedia/commons/thumb/b/b7/South_African_Giraffe,_head.jpg/877px-South_African_Giraffe,_head.jpg \"Picture of a Giraffe\")"
      ],
      "metadata": {
        "id": "SBCJJzlGryBL"
      },
      "id": "SBCJJzlGryBL"
    },
    {
      "cell_type": "markdown",
      "source": [
        "## assignment.M2.technices"
      ],
      "metadata": {
        "id": "YsERDkCmn5i3"
      },
      "id": "YsERDkCmn5i3"
    },
    {
      "cell_type": "code",
      "source": [
        "#Technique => Drop missing data using pandas\n",
        "import pandas as pd\n",
        "import numpy as np\n",
        "\n",
        "# Drop rows with missing data\n",
        "df.dropna(axis=0, inplace=True)\n",
        "\n",
        "# Drop columns with missing data\n",
        "df.dropna(axis=1, inplace=True)\n",
        "\n",
        "# Drop specific observations or variables\n",
        "df.drop([1, 2], axis=0, inplace=True) # Drop rows 1 and 2\n",
        "df.drop('VariableName', axis=1, inplace=True) # Drop column 'VariableName'"
      ],
      "metadata": {
        "id": "j6Enim-Mi2Vq"
      },
      "id": "j6Enim-Mi2Vq",
      "execution_count": null,
      "outputs": []
    },
    {
      "cell_type": "code",
      "source": [
        "#Technique => imputing missing data using pandas and numpy\n",
        "import pandas as pd\n",
        "import numpy as np\n",
        "\n",
        "# Forward-fill or backward-fill missing values\n",
        "df.fillna(method='ffill', inplace=True) # Forward-fill\n",
        "df.fillna(method='bfill', inplace=True) # Backward-fill\n",
        "\n",
        "# Mean, median, or mode imputation\n",
        "df.fillna(df.mean(), inplace=True) # Mean imputation\n",
        "df.fillna(df.median(), inplace=True) # Median imputation\n",
        "df.fillna(df.mode().iloc[0], inplace=True) # Mode imputation\n",
        "\n",
        "# Interpolation\n",
        "df.interpolate(inplace=True) # Default method is linear interpolatio\n",
        "# Replace missing values in a specific column with a specific value\n",
        "df['ColumnName'].fillna(0, inplace=True) # Replace missing values with 0\n"
      ],
      "metadata": {
        "id": "hRvwZHfgt2Y1"
      },
      "id": "hRvwZHfgt2Y1",
      "execution_count": null,
      "outputs": []
    },
    {
      "cell_type": "code",
      "source": [
        "#Technique => Predicting missing data using Scikit-learn:\n",
        "import pandas as pd\n",
        "import numpy as np\n",
        "\n",
        "# Split data into complete and incomplete sets\n",
        "complete_data = df.dropna()\n",
        "incomplete_data = df[df.isnull().any(axis=1)]\n",
        "\n",
        "# Select features and target variable\n",
        "X_complete = complete_data.drop('TargetVariable', axis=1)\n",
        "y_complete = complete_data['TargetVariable']\n",
        "X_incomplete = incomplete_data.drop('TargetVariable', axis=1)\n",
        "\n",
        "# Train machine learning model\n",
        "model = RandomForestRegressor()\n",
        "model.fit(X_complete, y_complete)\n",
        "\n",
        "# Predict missing values\n",
        "y_pred = model.predict(X_incomplete)\n",
        "\n",
        "# Fill in missing values in original data set\n",
        "df.loc[df['TargetVariable'].isnull(), 'TargetVariable'] = y_pred\n"
      ],
      "metadata": {
        "id": "CeBlQFdm-ga6"
      },
      "id": "CeBlQFdm-ga6",
      "execution_count": null,
      "outputs": []
    },
    {
      "cell_type": "code",
      "source": [
        "#Technique => Multiple imputation using Scikit-learn:\n",
        "import pandas as pd\n",
        "import numpy as np\n",
        "\n",
        "# Create multiple imputed data sets\n",
        "imputer = IterativeImputer(random_state=0)\n",
        "imputed_data = imputer.fit_transform(df)\n",
        "\n",
        "# Analyze each imputed data set separately\n",
        "for i in range(imputed_data.shape[0]):\n",
        "    data_set = imputed_data[i, :]\n",
        "    # Perform analysis on data_set\n",
        "\n",
        "\n",
        "#Handling missing data in time series using Pandas:\n",
        "\n",
        "# Fill in missing values using linear interpolation\n",
        "df['ColumnName'].interpolate(method='linear', inplace=True)\n",
        "\n",
        "# Fill in missing values using spline interpolation\n",
        "df['ColumnName'].interpolate(method='spline', order=3, inplace=True)\n"
      ],
      "metadata": {
        "id": "P3FiWGnC_EfC"
      },
      "id": "P3FiWGnC_EfC",
      "execution_count": null,
      "outputs": []
    },
    {
      "cell_type": "markdown",
      "source": [
        "# prof.hogan - SVM graphic exploration"
      ],
      "metadata": {
        "id": "s2SPQ2NZkpah"
      },
      "id": "s2SPQ2NZkpah"
    },
    {
      "cell_type": "markdown",
      "source": [
        "## Model.0 SVM - Affine space"
      ],
      "metadata": {
        "id": "d8AJ5RmRXCEG"
      },
      "id": "d8AJ5RmRXCEG"
    },
    {
      "cell_type": "markdown",
      "source": [
        "### 0.0 svm affine hyperplane definition"
      ],
      "metadata": {
        "id": "2hOqgvofnvUO"
      },
      "id": "2hOqgvofnvUO"
    },
    {
      "cell_type": "markdown",
      "source": [
        "In mathematics, an affine space is a geometric structure that generalizes the concept of Euclidean space. It is a set of points where the notion of linear combinations and parallelism is defined, but it does not have a fixed origin or coordinate system.\n",
        "\n",
        "The term \"affine\" in affine space comes from the Latin word \"affinis,\" which means \"related\" or \"connected.\" An affine space captures the idea of a space that preserves certain geometric properties even after translations and parallel transformations.\n",
        "\n",
        "In an affine space, any two points can be connected by a vector called a displacement vector. Affine combinations of points and vectors in an affine space are used to describe the relative positions and directions between points. These combinations allow for the definition of concepts such as lines, planes, and higher-dimensional analogs.\n",
        "\n",
        "The term \"affine\" is used to emphasize the relationship and connection between points in the space, regardless of a specific origin or coordinate system. It characterizes a space where linear operations, such as vector addition and scalar multiplication, are defined but without the strict geometric properties, such as distances and angles, of Euclidean space."
      ],
      "metadata": {
        "id": "pgw_KjZRnqeY"
      },
      "id": "pgw_KjZRnqeY"
    },
    {
      "cell_type": "markdown",
      "source": [
        "### 0.1 SVM - affine space\n"
      ],
      "metadata": {
        "id": "OWn5Rm62W6Sf"
      },
      "id": "OWn5Rm62W6Sf"
    },
    {
      "cell_type": "markdown",
      "source": [
        "User  \n",
        "can you make a model and plot me an example?"
      ],
      "metadata": {
        "id": "PB4Lq1usokaQ"
      },
      "id": "PB4Lq1usokaQ"
    },
    {
      "cell_type": "markdown",
      "source": [
        "Chatgpt  \n",
        "Certainly! I can provide you with a simple example of an affine space and plot it for you. Let's consider a two-dimensional affine space.\n",
        "\n",
        "In a two-dimensional affine space, we can define points using coordinates (x, y) and displacement vectors as (dx, dy). The affine combinations of points and displacement vectors are given by:\n",
        "\n",
        "P + λV,\n",
        "\n",
        "where P represents a point, V represents a displacement vector, and λ is a scalar parameter.\n",
        "\n",
        "Let's consider three points in the affine space:  \n",
        "\n",
        "P1 = (2, 3)  \n",
        "P2 = (5, 1)  \n",
        "P3 = (4, 6)  \n",
        "\n",
        "To demonstrate affine combinations, we can take P1 as the base point and define a displacement vector V as (1, -1). We can vary the scalar parameter λ to obtain different points in the affine space.  \n",
        "\n",
        "Here's an example code snippet in Python that demonstrates this:"
      ],
      "metadata": {
        "id": "mw0mC3NMmd6n"
      },
      "id": "mw0mC3NMmd6n"
    },
    {
      "cell_type": "markdown",
      "source": [
        "-----------\n",
        "When you run this code, it will generate a plot showing the base point P1, the displacement vector V, and three affine combinations of P1 and V.\n",
        "\n",
        "You can experiment with different base points, displacement vectors, and scalar parameters to explore different affine spaces."
      ],
      "metadata": {
        "id": "LzZx2yQqlneC"
      },
      "id": "LzZx2yQqlneC"
    },
    {
      "cell_type": "code",
      "source": [
        "import matplotlib.pyplot as plt\n",
        "\n",
        "# Base point\n",
        "P1 = [2, 3]\n",
        "\n",
        "# Displacement vector\n",
        "V = [1, -1]\n",
        "\n",
        "# Scalars for affine combinations\n",
        "lambdas = [0.2, 0.5, 0.8]\n",
        "\n",
        "# Affine combinations of P1 and V\n",
        "points = [list(map(sum, zip(P1, [l * v for v in V]))) for l in lambdas]\n",
        "\n",
        "# Plotting the points\n",
        "plt.plot(*zip(*points), 'ro')\n",
        "plt.text(P1[0], P1[1], 'P1', ha='right')\n",
        "plt.text(points[0][0], points[0][1], 'P1 + 0.2V', ha='right')\n",
        "plt.text(points[1][0], points[1][1], 'P1 + 0.5V', ha='right')\n",
        "plt.text(points[2][0], points[2][1], 'P1 + 0.8V', ha='left')\n",
        "\n",
        "# Adding labels and gridlines\n",
        "plt.xlabel('X-axis')\n",
        "plt.ylabel('Y-axis')\n",
        "plt.grid(True)\n",
        "\n",
        "# Setting axis limits\n",
        "plt.xlim(0, 5)\n",
        "plt.ylim(0, 5)\n",
        "\n",
        "# Displaying the plot\n",
        "plt.show()\n"
      ],
      "metadata": {
        "colab": {
          "base_uri": "https://localhost:8080/",
          "height": 455
        },
        "id": "GNIjMr3iW3wg",
        "outputId": "4eebd23c-4149-4f66-a542-ce8e5a8df4f0"
      },
      "id": "GNIjMr3iW3wg",
      "execution_count": null,
      "outputs": [
        {
          "output_type": "display_data",
          "data": {
            "text/plain": [
              "<Figure size 640x480 with 1 Axes>"
            ],
            "image/png": "[encoded data removed]"
          },
          "metadata": {}
        }
      ]
    },
    {
      "cell_type": "markdown",
      "source": [
        "=end 0.1"
      ],
      "metadata": {
        "id": "cjxRwMsdo_On"
      },
      "id": "cjxRwMsdo_On"
    },
    {
      "cell_type": "markdown",
      "source": [
        "### 0.2 Topic deepen with SVG and `Magic graphics`"
      ],
      "metadata": {
        "id": "bcPoiL6clwMX"
      },
      "id": "bcPoiL6clwMX"
    },
    {
      "cell_type": "markdown",
      "source": [
        "This code combines the SVG code for rectangles with the affine space plot. The rectangles defined in the SVG code represent the base point, P1, and the three affine combinations P1 + 0.2V, P1 + 0.5V, and P1 + 0.8V. The resulting SVG image will show these rectangles along with the scatter plot of points in the affine space.\n",
        "\n",
        "When you run this code in Jupyter Notebook or Colab, it will display the SVG image with the rectangles and the scatter plot of points. You can adjust the SVG code or customize the attributes to modify the appearance of the rectangles in the image."
      ],
      "metadata": {
        "id": "HB_Zy_igmoRt"
      },
      "id": "HB_Zy_igmoRt"
    },
    {
      "cell_type": "markdown",
      "source": [
        "User  \n",
        "dont i want to see the plotting of the points in the svg code image?\n",
        "\n",
        "ChatGPT  \n",
        "I apologize for the confusion. The SVG code is primarily for vector graphics, and combining it with the plot would require additional steps beyond the scope of standard SVG capabilities.\n",
        "\n",
        "However, I can provide an alternative approach where we generate the plot separately and then overlay it onto the SVG image using an image editing software. Here's an example that generates the plot and saves it as an image, which can be overlaid onto the SVG image:"
      ],
      "metadata": {
        "id": "ZGqJkadxpSdc"
      },
      "id": "ZGqJkadxpSdc"
    },
    {
      "cell_type": "markdown",
      "source": [
        "After running this code, you will have an image file named affine_space_plot.png, which contains the scatter plot of points. You can then use an image editing software to overlay this plot onto the SVG image generated separately. In the image editing software, you can open the SVG image and place the plot image on top of it to create the desired visualization."
      ],
      "metadata": {
        "id": "NARewapfnFdW"
      },
      "id": "NARewapfnFdW"
    },
    {
      "cell_type": "markdown",
      "source": [
        "note: i combined to the plt.savefig were it asked to overalay"
      ],
      "metadata": {
        "id": "t9WyAF4rpYcQ"
      },
      "id": "t9WyAF4rpYcQ"
    },
    {
      "cell_type": "code",
      "source": [
        "from IPython.display import display, SVG\n",
        "import matplotlib.pyplot as plt\n",
        "\n",
        "# Base point\n",
        "P1 = [2, 3]\n",
        "\n",
        "# Displacement vector\n",
        "V = [1, -1]\n",
        "\n",
        "# Scalars for affine combinations\n",
        "lambdas = [0.2, 0.5, 0.8]\n",
        "\n",
        "# Affine combinations of P1 and V\n",
        "points = [list(map(sum, zip(P1, [l * v for v in V]))) for l in lambdas]\n",
        "\n",
        "# SVG code for a rectangle\n",
        "svg_code = f'''\n",
        "<svg xmlns=\"http://www.w3.org/2000/svg\" viewBox=\"0 0 8 8\" width=\"300\" height=\"300\">\n",
        "  <rect x=\"2\" y=\"2\" width=\"4\" height=\"4\" rx=\"0.5\" style=\"fill:red; stroke:black; fill-opacity:0.7\" />\n",
        "  <rect x=\"{points[0][0] - 0.5}\" y=\"{points[0][1] - 0.5}\" width=\"4\" height=\"4\" rx=\"0.5\" style=\"fill:white; stroke:black; fill-opacity:0.5\" />\n",
        "  <rect x=\"{points[1][0] - 0.5}\" y=\"{points[1][1] - 0.5}\" width=\"4\" height=\"4\" rx=\"0.5\" style=\"fill:yellow; stroke:black; fill-opacity:0.5\" />\n",
        "  <rect x=\"{points[2][0] - 0.5}\" y=\"{points[2][1] - 0.5}\" width=\"4\" height=\"4\" rx=\"0.5\" style=\"fill:blue; stroke:black; fill-opacity:0.5\" />\n",
        "</svg>\n",
        "'''\n",
        "\n",
        "# Display SVG image\n",
        "display(SVG(svg_code))\n",
        "\n",
        "# Plotting the points\n",
        "plt.plot(*zip(*points), 'ro')\n",
        "plt.text(P1[0], P1[1], 'P1', ha='right')\n",
        "plt.text(points[0][0], points[0][1], 'P1 + 0.2V', ha='right')\n",
        "plt.text(points[1][0], points[1][1], 'P1 + 0.5V', ha='right')\n",
        "plt.text(points[2][0], points[2][1], 'P1 + 0.8V', ha='left')\n",
        "\n",
        "# Adding labels and gridlines\n",
        "plt.xlabel('X-axis')\n",
        "plt.ylabel('Y-axis')\n",
        "plt.grid(True)\n",
        "\n",
        "# Setting axis limits\n",
        "plt.xlim(0, 8)\n",
        "plt.ylim(0, 8)\n",
        "\n",
        "# Saving the plot as an image\n",
        "plt.savefig('affine_space_plot.png')\n",
        "\n",
        "# Displaying the plot\n",
        "plt.show()\n"
      ],
      "metadata": {
        "colab": {
          "base_uri": "https://localhost:8080/",
          "height": 759
        },
        "id": "g35ocH6AYjxW",
        "outputId": "690e1b36-97e3-4ada-c8bf-3082fb7c8a80"
      },
      "id": "g35ocH6AYjxW",
      "execution_count": null,
      "outputs": [
        {
          "output_type": "display_data",
          "data": {
            "text/plain": [
              "<IPython.core.display.SVG object>"
            ],
            "image/svg+xml": "<svg xmlns=\"http://www.w3.org/2000/svg\" viewBox=\"0 0 8 8\" width=\"300\" height=\"300\">\n  <rect x=\"2\" y=\"2\" width=\"4\" height=\"4\" rx=\"0.5\" style=\"fill:red; stroke:black; fill-opacity:0.7\"/>\n  <rect x=\"1.7000000000000002\" y=\"2.3\" width=\"4\" height=\"4\" rx=\"0.5\" style=\"fill:white; stroke:black; fill-opacity:0.5\"/>\n  <rect x=\"2.0\" y=\"2.0\" width=\"4\" height=\"4\" rx=\"0.5\" style=\"fill:yellow; stroke:black; fill-opacity:0.5\"/>\n  <rect x=\"2.3\" y=\"1.7000000000000002\" width=\"4\" height=\"4\" rx=\"0.5\" style=\"fill:blue; stroke:black; fill-opacity:0.5\"/>\n</svg>"
          },
          "metadata": {}
        },
        {
          "output_type": "display_data",
          "data": {
            "text/plain": [
              "<Figure size 640x480 with 1 Axes>"
            ],
            "image/png": "[encoded data removed]"
          },
          "metadata": {}
        }
      ]
    },
    {
      "cell_type": "markdown",
      "source": [
        "### 0.3 Confirmation of Interpreation"
      ],
      "metadata": {
        "id": "ds7q2xQmnP5t"
      },
      "id": "ds7q2xQmnP5t"
    },
    {
      "cell_type": "markdown",
      "source": [
        "Q: i understand. so i can say with teh svg graphic i'm visualizign three hyperplanes, that is 3 affine subspaces or p-1  \n",
        "\n",
        "ChatGPT\n",
        "1. Yes, that's correct! In the context of the example we discussed earlier, you can interpret the rectangles in the SVG graphic as representing three hyperplanes or affine subspaces within the larger affine space.  \n",
        "\n",
        "2. In a two-dimensional affine space, each of these rectangles can be considered as a one-dimensional affine subspace, as they are defined by a base point (P1) and a displacement vector (V) scaled by different scalar parameters (λ). These affine subspaces, or hyperplanes, are formed by the affine combinations P1 + λV.  \n",
        "\n",
        "3. By visualizing these rectangles in the SVG graphic and considering their positions and orientations, you can gain insights into how the points in the affine space relate to each of these hyperplanes. It helps in understanding the concept of affine combinations and the structure of affine spaces.  \n",
        "\n",
        "4. So, you can indeed interpret the rectangles in the SVG graphic as visualizations of three hyperplanes or affine subspaces within the two-dimensional affine space.  \n",
        "\n"
      ],
      "metadata": {
        "id": "y_0KPp6unO4g"
      },
      "id": "y_0KPp6unO4g"
    },
    {
      "cell_type": "markdown",
      "source": [
        "#### 0.3.1 revisualize of 0.2 learnings (redundant!)"
      ],
      "metadata": {
        "id": "4ibLZdl_qfm9"
      },
      "id": "4ibLZdl_qfm9"
    },
    {
      "cell_type": "code",
      "source": [
        "from IPython.display import display, SVG\n",
        "import matplotlib.pyplot as plt\n",
        "\n",
        "# Base point\n",
        "P1 = [2, 3]\n",
        "\n",
        "# Displacement vector\n",
        "V = [1, -1]\n",
        "\n",
        "# Scalars for affine combinations\n",
        "lambdas = [0.2, 0.5, 0.8]\n",
        "\n",
        "# Affine combinations of P1 and V\n",
        "points = [list(map(sum, zip(P1, [l * v for v in V]))) for l in lambdas]\n",
        "\n",
        "# SVG code for a rectangle\n",
        "svg_code = f'''\n",
        "<svg xmlns=\"http://www.w3.org/2000/svg\" viewBox=\"0 0 8 8\" width=\"300\" height=\"300\">\n",
        "  <rect x=\"2\" y=\"2\" width=\"4\" height=\"4\" rx=\"0.5\" style=\"fill:red; stroke:black; fill-opacity:0.7\" />\n",
        "  <rect x=\"{points[0][0] - 0.5}\" y=\"{points[0][1] - 0.5}\" width=\"4\" height=\"4\" rx=\"0.5\" style=\"fill:white; stroke:black; fill-opacity:0.5\" />\n",
        "  <rect x=\"{points[1][0] - 0.5}\" y=\"{points[1][1] - 0.5}\" width=\"4\" height=\"4\" rx=\"0.5\" style=\"fill:yellow; stroke:black; fill-opacity:0.5\" />\n",
        "  <rect x=\"{points[2][0] - 0.5}\" y=\"{points[2][1] - 0.5}\" width=\"4\" height=\"4\" rx=\"0.5\" style=\"fill:blue; stroke:black; fill-opacity:0.5\" />\n",
        "</svg>\n",
        "'''\n",
        "\n",
        "# Display SVG image\n",
        "display(SVG(svg_code))\n",
        "\n",
        "# Plotting the points\n",
        "plt.plot(*zip(*points), 'ro')\n",
        "plt.text(P1[0], P1[1], 'P1', ha='right')\n",
        "plt.text(points[0][0], points[0][1], 'P1 + 0.2V', ha='right')\n",
        "plt.text(points[1][0], points[1][1], 'P1 + 0.5V', ha='right')\n",
        "plt.text(points[2][0], points[2][1], 'P1 + 0.8V', ha='left')\n",
        "\n",
        "# Adding labels and gridlines\n",
        "plt.xlabel('X-axis')\n",
        "plt.ylabel('Y-axis')\n",
        "plt.grid(True)\n",
        "\n",
        "# Setting axis limits\n",
        "plt.xlim(0, 8)\n",
        "plt.ylim(0, 8)\n",
        "\n",
        "# Saving the plot as an image\n",
        "plt.savefig('affine_space_plot.png')\n",
        "\n",
        "# Displaying the plot\n",
        "plt.show()"
      ],
      "metadata": {
        "colab": {
          "base_uri": "https://localhost:8080/",
          "height": 759
        },
        "id": "_HyvKtcIqnV8",
        "outputId": "015a0f59-ce4c-4518-e4bc-51e81618ae1b"
      },
      "id": "_HyvKtcIqnV8",
      "execution_count": null,
      "outputs": [
        {
          "output_type": "display_data",
          "data": {
            "text/plain": [
              "<IPython.core.display.SVG object>"
            ],
            "image/svg+xml": "<svg xmlns=\"http://www.w3.org/2000/svg\" viewBox=\"0 0 8 8\" width=\"300\" height=\"300\">\n  <rect x=\"2\" y=\"2\" width=\"4\" height=\"4\" rx=\"0.5\" style=\"fill:red; stroke:black; fill-opacity:0.7\"/>\n  <rect x=\"1.7000000000000002\" y=\"2.3\" width=\"4\" height=\"4\" rx=\"0.5\" style=\"fill:white; stroke:black; fill-opacity:0.5\"/>\n  <rect x=\"2.0\" y=\"2.0\" width=\"4\" height=\"4\" rx=\"0.5\" style=\"fill:yellow; stroke:black; fill-opacity:0.5\"/>\n  <rect x=\"2.3\" y=\"1.7000000000000002\" width=\"4\" height=\"4\" rx=\"0.5\" style=\"fill:blue; stroke:black; fill-opacity:0.5\"/>\n</svg>"
          },
          "metadata": {}
        },
        {
          "output_type": "display_data",
          "data": {
            "text/plain": [
              "<Figure size 640x480 with 1 Axes>"
            ],
            "image/png": "[encoded data removed]"
          },
          "metadata": {}
        }
      ]
    },
    {
      "cell_type": "markdown",
      "source": [
        "### 0.4 Extend confirmation to 3 classes of fruit"
      ],
      "metadata": {
        "id": "kFPFbUc0qaZ7"
      },
      "id": "kFPFbUc0qaZ7"
    },
    {
      "cell_type": "markdown",
      "source": [
        "User \n",
        "- to help me connect the dots, how about a simple example of what these features of space could be? can we use the example of apples, oranges, and bananas? i think this is what you have told me but if wrong it is me not you  \n",
        "\n",
        "ChatGPT  \n",
        "- Certainly! We can use the example of apples, oranges, and bananas to illustrate the concept of affine spaces and hyperplanes. Let's consider a two-dimensional space where the x-axis represents the sweetness of a fruit and the y-axis represents the acidity of a fruit.\n",
        "\n",
        "In this space, we can define three points:  \n",
        "\n",
        "1. Point A: (sweetness = 3, acidity = 4) representing an apple.  \n",
        "2. Point B: (sweetness = 6, acidity = 2) representing an orange.  \n",
        "3. Point C: (sweetness = 5, acidity = 6) representing a banana.  \n",
        "\n",
        "Now, let's choose Point A (apple) as our base point in the affine space. We can define a displacement vector V that represents the difference between an orange and an apple. In this case, V = (6 - 3, 2 - 4) = (3, -2).  \n",
        "\n",
        "- We can create three affine combinations of the base point (A) and the displacement vector (V) using different scalar parameters:  \n",
        "\n",
        "1. A + 0.2V: (3, 4) + 0.2 * (3, -2) = (3.6, 3.6)  \n",
        "2. A + 0.5V: (3, 4) + 0.5 * (3, -2) = (4.5, 3.0)  \n",
        "3. A + 0.8V: (3, 4) + 0.8 * (3, -2) = (5.4, 2.4)  \n",
        "\n",
        "- These three points represent affine combinations of the apple (A) and the difference between an orange and an apple (V). They lie on a hyperplane within the affine space.  \n",
        "\n",
        "In the context of fruit, this hyperplane can be interpreted as a linear relationship between sweetness and acidity that connects the apple (A) and the orange (B). The points on this hyperplane represent fruit that shares characteristics between an apple and an orange in terms of sweetness and acidity.  \n",
        "\n",
        "- Similarly, you can visualize another hyperplane connecting the apple (A) and the banana (C) using the displacement vector between them. The affine combinations on this hyperplane would represent fruit with characteristics intermediate to an apple and a banana.  \n",
        "\n",
        "- By using this example, we can see how affine spaces and hyperplanes allow us to visualize and explore relationships between different objects or entities based on their attributes or features.  \n",
        "\n"
      ],
      "metadata": {
        "id": "87ii0BwfqA0j"
      },
      "id": "87ii0BwfqA0j"
    },
    {
      "cell_type": "markdown",
      "source": [
        "User   \n",
        "this is a remarkable learning experience, thank you!  \n",
        "ChatGPT  \n",
        "- You're very welcome! I'm glad to hear that you found this learning experience remarkable. I'm here to help and provide information on a wide range of topics. If you have any more questions or need further assistance, feel free to ask. Happy learning!\n",
        "----"
      ],
      "metadata": {
        "id": "4Z7brjlCr4Ml"
      },
      "id": "4Z7brjlCr4Ml"
    },
    {
      "cell_type": "markdown",
      "source": [
        "### 0.5 now making apples, organzes, bananeas\n"
      ],
      "metadata": {
        "id": "5OQl4IjEnZLz"
      },
      "id": "5OQl4IjEnZLz"
    },
    {
      "cell_type": "markdown",
      "source": [
        "- i dont want to tax your mellon too much, but I am thinking it wuld be super incredible to extend this svg example and also include a visualization of a two-dimensional subspace in effect visulizing your example one step back of sweetness to acidity. is thsi acheivable without heavy code lifting? "
      ],
      "metadata": {
        "id": "oTQfCuEZr-QS"
      },
      "id": "oTQfCuEZr-QS"
    },
    {
      "cell_type": "markdown",
      "source": [
        "chatgpt  \n",
        "- In this modified SVG code, we've added two line segments to represent the two-dimensional subspace connecting the apple, orange, and banana. The line segment connecting the apple (red rectangle) and the orange (orange rectangle) represents the relationship between sweetness and acidity for those fruits. Similarly, the line segment connecting the apple and the banana (yellow rectangle) represents their relationship.\n",
        "\n",
        "- When you run this code in Jupyter Notebook or Colab, it will display the updated SVG image with the rectangles representing the fruits and the line segments representing the two-dimensional subspace. You can adjust the SVG code or customize the attributes to modify the appearance of the rectangles and the line segments as per your preference."
      ],
      "metadata": {
        "id": "Wsxo9wvClHPj"
      },
      "id": "Wsxo9wvClHPj"
    },
    {
      "cell_type": "code",
      "source": [
        "from IPython.display import display, SVG\n",
        "\n",
        "# SVG code for rectangles representing fruits\n",
        "svg_code = '''\n",
        "<svg xmlns=\"http://www.w3.org/2000/svg\" viewBox=\"0 0 10 10\" width=\"400\" height=\"400\">\n",
        "  <!-- Rectangle for apple -->\n",
        "  <rect x=\"3\" y=\"4\" width=\"0.5\" height=\"0.5\" style=\"fill:red; stroke:red; fill-opacity:0.7\" />\n",
        "  <!-- Rectangle for orange -->\n",
        "  <rect x=\"6\" y=\"2\" width=\"0.5\" height=\"0.5\" style=\"fill:orange; stroke:orange; fill-opacity:0.7\" />\n",
        "  <!-- Rectangle for banana -->\n",
        "  <rect x=\"5\" y=\"6\" width=\"0.5\" height=\"0.5\" style=\"fill:yellow; stroke:yellow; fill-opacity:0.7\" />\n",
        "  \n",
        "  <!-- Two-dimensional subspace visualization -->\n",
        "  <!-- Line segment connecting apple and orange -->\n",
        "  <line x1=\"3.25\" y1=\"4.25\" x2=\"6.25\" y2=\"2.25\" style=\"stroke:blue; stroke-width:0.1\" />\n",
        "  <!-- Line segment connecting apple and banana -->\n",
        "  <line x1=\"3.25\" y1=\"4.25\" x2=\"5.25\" y2=\"6.25\" style=\"stroke:blue; stroke-width:0.1\" />\n",
        "</svg>\n",
        "'''\n",
        "\n",
        "# Display SVG image\n",
        "display(SVG(svg_code))\n"
      ],
      "metadata": {
        "colab": {
          "base_uri": "https://localhost:8080/",
          "height": 421
        },
        "id": "06YeA5JKafDW",
        "outputId": "27c1a9d7-1cfa-487c-a46c-96b725b7d79d"
      },
      "id": "06YeA5JKafDW",
      "execution_count": null,
      "outputs": [
        {
          "output_type": "display_data",
          "data": {
            "text/plain": [
              "<IPython.core.display.SVG object>"
            ],
            "image/svg+xml": "<svg xmlns=\"http://www.w3.org/2000/svg\" viewBox=\"0 0 10 10\" width=\"400\" height=\"400\">\n  <!-- Rectangle for apple -->\n  <rect x=\"3\" y=\"4\" width=\"0.5\" height=\"0.5\" style=\"fill:red; stroke:red; fill-opacity:0.7\"/>\n  <!-- Rectangle for orange -->\n  <rect x=\"6\" y=\"2\" width=\"0.5\" height=\"0.5\" style=\"fill:orange; stroke:orange; fill-opacity:0.7\"/>\n  <!-- Rectangle for banana -->\n  <rect x=\"5\" y=\"6\" width=\"0.5\" height=\"0.5\" style=\"fill:yellow; stroke:yellow; fill-opacity:0.7\"/>\n  \n  <!-- Two-dimensional subspace visualization -->\n  <!-- Line segment connecting apple and orange -->\n  <line x1=\"3.25\" y1=\"4.25\" x2=\"6.25\" y2=\"2.25\" style=\"stroke:blue; stroke-width:0.1\"/>\n  <!-- Line segment connecting apple and banana -->\n  <line x1=\"3.25\" y1=\"4.25\" x2=\"5.25\" y2=\"6.25\" style=\"stroke:blue; stroke-width:0.1\"/>\n</svg>"
          },
          "metadata": {}
        }
      ]
    },
    {
      "cell_type": "markdown",
      "source": [
        "### 0.5.1 What new comparison means"
      ],
      "metadata": {
        "id": "UtEKPHyQt_9R"
      },
      "id": "UtEKPHyQt_9R"
    },
    {
      "cell_type": "markdown",
      "source": [
        "User  \n",
        "so if i put the first image on the left and this new on the right I would be able to say the 1st svg image is like the layering of three different fruit spaces but in the second image we are now visualizing sweetness and acidity as a blue line amongst the three fruits? \n",
        "- Using the phrase \"poor man perspective\" in the seond image it basically says 2 fruits are more similar on 2 planes with each other but two other fruits are essentially not linearly seperatable. thank you for improving on the quality of my interpretation  \n",
        "\n",
        "ChatGPT  \n",
        "- You're absolutely correct! By placing the first SVG image on the left and the modified SVG image on the right, you can visually represent the different perspectives and relationships within the fruit space.\n",
        "\n",
        "- The first SVG image, with the rectangles representing the fruits and the affine combinations, shows how the three fruits (apple, orange, and banana) are related in terms of their sweetness and acidity. Each rectangle represents a fruit, and the affine combinations represent points that lie on hyperplanes connecting the fruits.\n",
        "\n",
        "- The second SVG image, with the rectangles and the blue line segments representing the two-dimensional subspace, provides a different perspective on the relationship between sweetness and acidity among the fruits. The blue line segments represent the two-dimensional subspace or relationship between sweetness and acidity, and they connect the fruits in a visual way.\n",
        "\n",
        "- By juxtaposing these two images, you can observe that the first image showcases the fruit spaces and their affine combinations, whereas the second image focuses on the relationship between sweetness and acidity through a two-dimensional subspace. It indeed highlights how some fruits may be more similar or linearly separable in this particular perspective.  \n",
        "\n",
        "ChatGPT  \n",
        "Your interpretation of the second image as a \"poor man's perspective\" is quite accurate. It illustrates that certain fruits may exhibit similar trends or relationships in terms of sweetness and acidity, while others may not be as easily separable in this particular context.  \n",
        "\n",
        "- I'm glad to hear that the improved interpretation and the visual representations have been helpful to you. If you have any further questions or need additional assistance, feel free to ask!"
      ],
      "metadata": {
        "id": "UHGYTklolLTp"
      },
      "id": "UHGYTklolLTp"
    },
    {
      "cell_type": "markdown",
      "source": [
        "### 0.6 New Idea - compare the 2 images togehter"
      ],
      "metadata": {
        "id": "ZIrZKxkck5P_"
      },
      "id": "ZIrZKxkck5P_"
    },
    {
      "cell_type": "markdown",
      "source": [
        "User  \n",
        "thats great! now made me think of this. \n",
        "- i tool the last piece of code and change the colors to match the fruit, red, orange, and yellow. i think it still stands form the poor man perspective that an organe and a banana are not related in terms of sweetness and acidity if the values you provided for them are represent these fruits\n",
        "\n",
        "ChatGPT  \n",
        "That's a great observation! If you changed the colors in the SVG code to match the colors of the fruits, representing the apple as red, the orange as orange, and the banana as yellow, it would still reflect the \"poor man perspective\" that an orange and a banana are not directly related in terms of sweetness and acidity.\n",
        "\n",
        "- In the modified SVG code, the line segment connecting the apple (red rectangle) and the orange (orange rectangle) represents their relationship in terms of sweetness and acidity. It suggests that there may be some similarity or trend between these two fruits in that specific context.\n",
        "\n",
        "- On the other hand, the line segment connecting the apple (red rectangle) and the banana (yellow rectangle) represents their relationship. Since the colors of the orange and the banana are distinct and the line segments don't connect them directly, it reinforces the notion that they may not be linearly related or easily separable in terms of sweetness and acidity.\n",
        "\n",
        "- By visually representing the fruits with their corresponding colors and observing the line segments, one can still interpret that the poor man's perspective aligns with the idea that certain fruits (e.g., apple and orange) may have more similarity in terms of sweetness and acidity, while others (e.g., orange and banana) may not exhibit a direct relationship.\n",
        "\n",
        "- I appreciate your attention to detail and the thoughtful interpretation. If you have any more questions or need further clarification, feel free to ask!"
      ],
      "metadata": {
        "id": "FJGCfkEPs6Yl"
      },
      "id": "FJGCfkEPs6Yl"
    },
    {
      "cell_type": "markdown",
      "source": [
        "chatgpt  \n",
        "Yes, you have correctly connected the dots and made the necessary modifications to the SVG code. The code you provided will display the SVG image with the rectangles representing the fruits (apple, orange, and banana) in their respective colors (red, orange, and yellow). The line segments representing the two-dimensional subspace connecting the fruits are still depicted in blue.\n",
        "\n",
        "- When you run this code in Jupyter Notebook or Colab, it will render the SVG image with the updated colors. The apple will appear as a red rectangle, the orange as an orange rectangle, and the banana as a yellow rectangle. The line segments connecting the fruits will remain blue, illustrating the two-dimensional subspace or relationship between sweetness and acidity.\n",
        "\n",
        "- You can now observe the visual representation of the fruits and their relationships based on their colors. If you have any further questions or need additional assistance, please let me know!"
      ],
      "metadata": {
        "id": "QcXfqz7TkUM1"
      },
      "id": "QcXfqz7TkUM1"
    },
    {
      "cell_type": "markdown",
      "source": [
        "### 0.7 now create 300 fruit"
      ],
      "metadata": {
        "id": "X20FZYjUkEvV"
      },
      "id": "X20FZYjUkEvV"
    },
    {
      "cell_type": "markdown",
      "source": [
        "User  \n",
        "so we were to extend this analogy to 3 buckets of 100 fruit where one is different apples, another is different banana types, and the final is different oranges, i would then have three hundred samples with different scores for sweetness and acidity. \n",
        "- this type view would then be aggregated and probably visualized in a different library package like plotpy?\n",
        "\n",
        "ChatGPT  \n",
        "Yes, if you were to extend the analogy to three buckets of 100 fruits each, representing different types of apples, bananas, and oranges, you would have a total of 300 samples with different scores for sweetness and acidity.\n",
        "\n",
        "- To analyze and visualize this dataset, you can aggregate the data and use a different library package like Plotly, which provides interactive and customizable data visualization capabilities.\n",
        "\n",
        "- You can organize your data in a tabular format, where each row represents a fruit sample and each column represents a variable (e.g., sweetness, acidity). You can then use Plotly to create various visualizations such as scatter plots, bar charts, or heatmaps to explore the relationships between sweetness, acidity, and different fruit types.\n",
        "\n",
        "- For example, you could create a scatter plot where the x-axis represents sweetness, the y-axis represents acidity, and each data point represents a fruit sample. You can assign different colors or markers to represent different fruit types (apples, bananas, oranges) within the scatter plot.\n",
        "\n",
        "- Additionally, you can leverage the interactive features of Plotly to add tooltips, hover effects, or zooming capabilities to explore the data more interactively. Plotly also supports annotations, labels, and legends, allowing you to add context and additional information to your visualizations.\n",
        "\n",
        "- By using Plotly or other data visualization libraries, you can gain deeper insights into the relationships between sweetness, acidity, and different fruit types, and effectively communicate your findings to others.\n",
        "\n",
        "- Remember to preprocess and aggregate your data appropriately before visualizing it to ensure meaningful and accurate representations."
      ],
      "metadata": {
        "id": "GK6x32W2kJ40"
      },
      "id": "GK6x32W2kJ40"
    },
    {
      "cell_type": "markdown",
      "source": [
        "User  \n",
        "well i would use 2 lognormal distributions, one for sweetness and the other acidity with a mean of 4.67 for sweetness lognormal and 4 for acidity lognormal. \n",
        "- I would allow the standard devition to be 2.25 of the means (i didn't calculate this jsut giving the st.dev table value). \n",
        "- Then I would simply use the same distributions to genearte the 3 classes of fruit data with labels, apple, orange, and fruit.\n",
        "- finally, run and svm algorithm and generate the visualization in plotly\n",
        "\n",
        "chatgpt  \n",
        "Thank you for providing the details for generating the dataset. I will create a sample dataset with two lognormal distributions representing sweetness and acidity, and then use those distributions to generate three classes of fruit data (apple, orange, and banana) with labels.   \n",
        "- Finally, I will assist you in running an SVM algorithm and visualizing the results using Plotly.  \n",
        "\n",
        "- Here's the Python code to generate the dataset, run the SVM algorithm, and visualize the results using Plotly:\n",
        "\n",
        "- This code uses the NumPy library to generate random numbers from lognormal distributions, the pandas library to create a DataFrame, the scikit-learn library to train the SVM classifier, and the Plotly Express library to create the scatter plot with decision boundaries."
      ],
      "metadata": {
        "id": "437QiUA2j6tO"
      },
      "id": "437QiUA2j6tO"
    },
    {
      "cell_type": "markdown",
      "source": [
        "- Reduce the size of the dataset: Instead of generating 300 samples, you can try generating a smaller number of samples, such as 100 or 200, to see if it helps avoid running out of memory.\n",
        "\n",
        "- Use a more memory-efficient algorithm: SVM with a linear kernel is generally memory-efficient, but if you still encounter memory issues, you can try using algorithms that are specifically designed for large datasets, such as stochastic gradient descent (SGD) or kernel approximation methods like Nystroem or random Fourier features.\n",
        "\n",
        "- Use a cloud-based environment: As you mentioned, Colab Pro offers access to high-RAM runtimes, which can provide more memory to run your code without crashing. Alternatively, you can consider using other cloud-based platforms like Kaggle or AWS (Amazon Web Services) to run your code on more powerful machines with higher memory capacity."
      ],
      "metadata": {
        "id": "c4DuyLYwv_DJ"
      },
      "id": "c4DuyLYwv_DJ"
    },
    {
      "cell_type": "code",
      "source": [
        "import numpy as np\n",
        "import pandas as pd\n",
        "from sklearn.svm import SVC\n",
        "import plotly.express as px\n",
        "\n",
        "# Set random seed for reproducibility\n",
        "np.random.seed(42)\n",
        "\n",
        "# Generate sweetness and acidity data using lognormal distributions\n",
        "num_samples = 100  #300 wont run\n",
        "mean_sweetness = 4.67\n",
        "mean_acidity = 4.0\n",
        "std_dev = 2.25\n",
        "\n",
        "sweetness = np.random.lognormal(mean=np.log(mean_sweetness), sigma=std_dev, size=num_samples)\n",
        "acidity = np.random.lognormal(mean=np.log(mean_acidity), sigma=std_dev, size=num_samples)\n",
        "\n",
        "# Generate fruit labels\n",
        "labels = np.repeat(['Apple', 'Orange', 'Banana'], num_samples // 3)\n",
        "\n",
        "# Ensure all arrays have the same length\n",
        "min_length = min(len(sweetness), len(acidity), len(labels))\n",
        "sweetness = sweetness[:min_length]\n",
        "acidity = acidity[:min_length]\n",
        "labels = labels[:min_length]\n",
        "\n",
        "# Create a DataFrame with the generated data\n",
        "data = pd.DataFrame({'Sweetness': sweetness, 'Acidity': acidity, 'Fruit': labels})\n",
        "\n",
        "# Split the data into features and target\n",
        "X = data[['Sweetness', 'Acidity']]\n",
        "y = data['Fruit']\n",
        "\n",
        "# Train an SVM classifier\n",
        "svm = SVC(kernel='linear')\n",
        "svm.fit(X, y)\n",
        "\n",
        "# Generate predictions for the entire feature space\n",
        "x_min, x_max = X['Sweetness'].min() - 1, X['Sweetness'].max() + 1\n",
        "y_min, y_max = X['Acidity'].min() - 1, X['Acidity'].max() + 1\n",
        "xx, yy = np.meshgrid(np.arange(x_min, x_max, 0.1), np.arange(y_min, y_max, 0.1))\n",
        "Z = svm.predict(np.c_[xx.ravel(), yy.ravel()])\n",
        "Z = Z.reshape(xx.shape)\n",
        "\n",
        "# Create a scatter plot of the data with decision boundaries\n",
        "fig = px.scatter(data, x='Sweetness', y='Acidity', color='Fruit')\n",
        "fig.update_traces(marker=dict(size=8))\n",
        "fig.add_contour(x=np.arange(x_min, x_max, 0.1), y=np.arange(y_min, y_max, 0.1), z=Z,\n",
        "                colorscale='Viridis', opacity=0.3, showscale=False)\n",
        "\n",
        "# Display the plot\n",
        "fig.show()"
      ],
      "metadata": {
        "colab": {
          "base_uri": "https://localhost:8080/"
        },
        "id": "nb3x-XxYjzM4",
        "outputId": "d87f818b-5d71-4fa8-b57c-4e8439013058"
      },
      "id": "nb3x-XxYjzM4",
      "execution_count": null,
      "outputs": [
        {
          "output_type": "stream",
          "name": "stderr",
          "text": [
            "/usr/local/lib/python3.10/dist-packages/sklearn/base.py:439: UserWarning: X does not have valid feature names, but SVC was fitted with feature names\n",
            "  warnings.warn(\n"
          ]
        }
      ]
    },
    {
      "cell_type": "code",
      "source": [
        "import plotly.express as px\n",
        "\n",
        "# Create a scatter plot\n",
        "fig = px.scatter(data, x='Sweetness', y='Acidity', color='Fruit')\n",
        "\n",
        "# Add layout\n",
        "fig.update_layout(\n",
        "    title=\"Fruit Data Visualization\",\n",
        "    xaxis=dict(title=\"Sweetness\"),\n",
        "    yaxis=dict(title=\"Acidity\"),\n",
        "    showlegend=True\n",
        ")\n",
        "\n",
        "# Display the plot\n",
        "fig.show()\n",
        "\n"
      ],
      "metadata": {
        "colab": {
          "base_uri": "https://localhost:8080/",
          "height": 542
        },
        "id": "gVsRPBKOyuH7",
        "outputId": "3f145ca3-bb15-4ee1-ddd9-0aabd55f4be5"
      },
      "id": "gVsRPBKOyuH7",
      "execution_count": null,
      "outputs": [
        {
          "output_type": "display_data",
          "data": {
            "text/html": [
              "<html>\n",
              "<head><meta charset=\"utf-8\" /></head>\n",
              "<body>\n",
              "    <div>            <script src=\"https://cdnjs.cloudflare.com/ajax/libs/mathjax/2.7.5/MathJax.js?config=TeX-AMS-MML_SVG\"></script><script type=\"text/javascript\">if (window.MathJax && window.MathJax.Hub && window.MathJax.Hub.Config) {window.MathJax.Hub.Config({SVG: {font: \"STIX-Web\"}});}</script>                <script type=\"text/javascript\">window.PlotlyConfig = {MathJaxConfig: 'local'};</script>\n",
              "        <script src=\"https://cdn.plot.ly/plotly-2.18.2.min.js\"></script>                <div id=\"91acda83-527e-4128-9b7a-a4e7ba8caa04\" class=\"plotly-graph-div\" style=\"height:525px; width:100%;\"></div>            <script type=\"text/javascript\">                                    window.PLOTLYENV=window.PLOTLYENV || {};                                    if (document.getElementById(\"91acda83-527e-4128-9b7a-a4e7ba8caa04\")) {                    Plotly.newPlot(                        \"91acda83-527e-4128-9b7a-a4e7ba8caa04\",                        [{\"hovertemplate\":\"Fruit=Apple<br>Sweetness=%{x}<br>Acidity=%{y}<extra></extra>\",\"legendgroup\":\"Apple\",\"marker\":{\"color\":\"#636efa\",\"symbol\":\"circle\"},\"mode\":\"markers\",\"name\":\"Apple\",\"orientation\":\"v\",\"showlegend\":true,\"x\":[14.278657158299527,3.421449850193955,20.05459455588056,143.7357074930231,2.757471064071273,2.7575729269113003,163.1039791903458,26.25580775235817,1.6239179276923077,15.830194644601978,1.646199442426161,1.6376579242182956,8.049211873337848,0.06305666711899957,0.09633668849528713,1.3178638507899232,0.4782073045063996,9.470820732489077,0.605382312984356,0.194655440271417,126.3263707064914,2.809937934081105,5.436293747304796,0.18928066843452626,1.37203898208594,5.9938557239597925,0.3504362480919065,10.87514176724808,1.208913496401386,2.4226164520423725,1.2060121756682227,301.504513687377,4.530309756250476],\"xaxis\":\"x\",\"y\":[0.16558182284348427,1.5524625076900218,1.8500019607132268,0.6578163469267608,2.7826438748403866,9.928493841429333,278.7213783238231,5.924489008385296,7.140499559682936,3.383095269488328,0.05334682192480458,3.768353397113848,4.580519105369809,1021.0523746074022,2.594729287488468,7.883530853518179,3.6994822568692096,0.28845066192289176,52.33397060536764,21.71804940569206,23.71520116659443,0.5169405444408992,93.93298107738501,0.17069609426122717,14.980102524690597,552.7022994319555,0.43067033289745027,1.1186520900615544,5.005362974759766,1.2884940577714556,0.12212644228526102,4.66720809434193,0.36645153830405386],\"yaxis\":\"y\",\"type\":\"scatter\"},{\"hovertemplate\":\"Fruit=Orange<br>Sweetness=%{x}<br>Acidity=%{y}<extra></extra>\",\"legendgroup\":\"Orange\",\"marker\":{\"color\":\"#EF553B\",\"symbol\":\"circle\"},\"mode\":\"markers\",\"name\":\"Orange\",\"orientation\":\"v\",\"showlegend\":true,\"x\":[0.4322762106835014,29.721929011364594,0.29947056678781714,7.471547655188537,0.05680683039517653,0.23521400060660522,7.272476298954679,24.599075887169043,6.867071243569746,3.6000597275381856,2.371863081365301,0.16771059956309656,0.9245109377758219,1.656524672531178,50.38452481833303,10.117840211128879,0.0884178613846823,9.682769859027854,1.9634908613192519,1.0182490870843128,18.493710874781797,47.50846935212684,37.960241652251135,0.706748534794492,2.328981915649248,9.840453450190381,41.935620947453764,1.5888604108518163,3.075373551943629,0.38747861460307303,0.31653994637062555,29.059404680776264,98.76063912624062],\"xaxis\":\"x\",\"y\":[11.610122304322877,0.5053974316253227,130.79703524052292,0.6865847928860276,1.9379989073337103,24.94586557879452,0.25078723946184406,6.673064595337757,75.74447907654185,0.10747006700608318,6.0600651013319755,7.178070742793307,23.22886816525645,0.24737627069531998,0.20500251772788025,12.944395101460223,7.803012490739769,7.028007759431169,8.721601091597325,0.8660944926724568,6.7454296032191206,7.7346282804327915,0.8017196230452254,266.21041001698734,11.616406277738257,0.2741339269322291,17.523449940688543,0.44631093915027503,23.50550665724719,54.22458556932279,0.6311316158855439,34.94902781775238,10.125443826288102],\"yaxis\":\"y\",\"type\":\"scatter\"},{\"hovertemplate\":\"Fruit=Banana<br>Sweetness=%{x}<br>Acidity=%{y}<extra></extra>\",\"legendgroup\":\"Banana\",\"marker\":{\"color\":\"#00cc96\",\"symbol\":\"circle\"},\"mode\":\"markers\",\"name\":\"Banana\",\"orientation\":\"v\",\"showlegend\":true,\"x\":[3.9714699796800126,44.661332921075164,10.53644424502344,1.093780040398018,10.530746160426204,148.67182294383935,4.308330541349116,157.84401479794911,0.012864709520936263,29.678999451409343,5.680362068846486,2.383077055588916,5.740927708061932,0.05335055031145845,2.8487984931702943,10.429750606762138,129.85528944885377,1.4550657383001062,0.7573335249238007,1.510145076879895,36.628031546427536,9.784985005155134,1.4179307821542018,14.820491681187558,5.810017353624863,41.2895854703747,0.9622698199320293,2.2342804766211364,1.93269562847752,0.1734701810320609,9.092316307870139,8.402534899590988,4.724039921706441],\"xaxis\":\"x\",\"y\":[25.43000360275647,285.45333683894586,2.3029043797551823,0.7337315824864012,0.5405797492882802,0.6380881876375435,3.3629397429112586,8.618286684810803,7.454729473363727,25.72482995138766,4.118745463514462,105.29290466004748,2.2051962039744084,1820.1514409940633,16.347024509436473,0.5814035756446094,0.3594379349162421,11.844425031670951,2.4193601252127803,19.94135014907813,11.600857483948836,3.3954262575701937,0.5951204216813704,0.13237560636324627,1.464678433369599,27.472668791799222,6.475366999331695,0.2425329040555818,5.905897596537154,9.518701719579768,0.5475043509772438,5.652940484422295,4.559732582524302],\"yaxis\":\"y\",\"type\":\"scatter\"}],                        {\"template\":{\"data\":{\"histogram2dcontour\":[{\"type\":\"histogram2dcontour\",\"colorbar\":{\"outlinewidth\":0,\"ticks\":\"\"},\"colorscale\":[[0.0,\"#0d0887\"],[0.1111111111111111,\"#46039f\"],[0.2222222222222222,\"#7201a8\"],[0.3333333333333333,\"#9c179e\"],[0.4444444444444444,\"#bd3786\"],[0.5555555555555556,\"#d8576b\"],[0.6666666666666666,\"#ed7953\"],[0.7777777777777778,\"#fb9f3a\"],[0.8888888888888888,\"#fdca26\"],[1.0,\"#f0f921\"]]}],\"choropleth\":[{\"type\":\"choropleth\",\"colorbar\":{\"outlinewidth\":0,\"ticks\":\"\"}}],\"histogram2d\":[{\"type\":\"histogram2d\",\"colorbar\":{\"outlinewidth\":0,\"ticks\":\"\"},\"colorscale\":[[0.0,\"#0d0887\"],[0.1111111111111111,\"#46039f\"],[0.2222222222222222,\"#7201a8\"],[0.3333333333333333,\"#9c179e\"],[0.4444444444444444,\"#bd3786\"],[0.5555555555555556,\"#d8576b\"],[0.6666666666666666,\"#ed7953\"],[0.7777777777777778,\"#fb9f3a\"],[0.8888888888888888,\"#fdca26\"],[1.0,\"#f0f921\"]]}],\"heatmap\":[{\"type\":\"heatmap\",\"colorbar\":{\"outlinewidth\":0,\"ticks\":\"\"},\"colorscale\":[[0.0,\"#0d0887\"],[0.1111111111111111,\"#46039f\"],[0.2222222222222222,\"#7201a8\"],[0.3333333333333333,\"#9c179e\"],[0.4444444444444444,\"#bd3786\"],[0.5555555555555556,\"#d8576b\"],[0.6666666666666666,\"#ed7953\"],[0.7777777777777778,\"#fb9f3a\"],[0.8888888888888888,\"#fdca26\"],[1.0,\"#f0f921\"]]}],\"heatmapgl\":[{\"type\":\"heatmapgl\",\"colorbar\":{\"outlinewidth\":0,\"ticks\":\"\"},\"colorscale\":[[0.0,\"#0d0887\"],[0.1111111111111111,\"#46039f\"],[0.2222222222222222,\"#7201a8\"],[0.3333333333333333,\"#9c179e\"],[0.4444444444444444,\"#bd3786\"],[0.5555555555555556,\"#d8576b\"],[0.6666666666666666,\"#ed7953\"],[0.7777777777777778,\"#fb9f3a\"],[0.8888888888888888,\"#fdca26\"],[1.0,\"#f0f921\"]]}],\"contourcarpet\":[{\"type\":\"contourcarpet\",\"colorbar\":{\"outlinewidth\":0,\"ticks\":\"\"}}],\"contour\":[{\"type\":\"contour\",\"colorbar\":{\"outlinewidth\":0,\"ticks\":\"\"},\"colorscale\":[[0.0,\"#0d0887\"],[0.1111111111111111,\"#46039f\"],[0.2222222222222222,\"#7201a8\"],[0.3333333333333333,\"#9c179e\"],[0.4444444444444444,\"#bd3786\"],[0.5555555555555556,\"#d8576b\"],[0.6666666666666666,\"#ed7953\"],[0.7777777777777778,\"#fb9f3a\"],[0.8888888888888888,\"#fdca26\"],[1.0,\"#f0f921\"]]}],\"surface\":[{\"type\":\"surface\",\"colorbar\":{\"outlinewidth\":0,\"ticks\":\"\"},\"colorscale\":[[0.0,\"#0d0887\"],[0.1111111111111111,\"#46039f\"],[0.2222222222222222,\"#7201a8\"],[0.3333333333333333,\"#9c179e\"],[0.4444444444444444,\"#bd3786\"],[0.5555555555555556,\"#d8576b\"],[0.6666666666666666,\"#ed7953\"],[0.7777777777777778,\"#fb9f3a\"],[0.8888888888888888,\"#fdca26\"],[1.0,\"#f0f921\"]]}],\"mesh3d\":[{\"type\":\"mesh3d\",\"colorbar\":{\"outlinewidth\":0,\"ticks\":\"\"}}],\"scatter\":[{\"fillpattern\":{\"fillmode\":\"overlay\",\"size\":10,\"solidity\":0.2},\"type\":\"scatter\"}],\"parcoords\":[{\"type\":\"parcoords\",\"line\":{\"colorbar\":{\"outlinewidth\":0,\"ticks\":\"\"}}}],\"scatterpolargl\":[{\"type\":\"scatterpolargl\",\"marker\":{\"colorbar\":{\"outlinewidth\":0,\"ticks\":\"\"}}}],\"bar\":[{\"error_x\":{\"color\":\"#2a3f5f\"},\"error_y\":{\"color\":\"#2a3f5f\"},\"marker\":{\"line\":{\"color\":\"#E5ECF6\",\"width\":0.5},\"pattern\":{\"fillmode\":\"overlay\",\"size\":10,\"solidity\":0.2}},\"type\":\"bar\"}],\"scattergeo\":[{\"type\":\"scattergeo\",\"marker\":{\"colorbar\":{\"outlinewidth\":0,\"ticks\":\"\"}}}],\"scatterpolar\":[{\"type\":\"scatterpolar\",\"marker\":{\"colorbar\":{\"outlinewidth\":0,\"ticks\":\"\"}}}],\"histogram\":[{\"marker\":{\"pattern\":{\"fillmode\":\"overlay\",\"size\":10,\"solidity\":0.2}},\"type\":\"histogram\"}],\"scattergl\":[{\"type\":\"scattergl\",\"marker\":{\"colorbar\":{\"outlinewidth\":0,\"ticks\":\"\"}}}],\"scatter3d\":[{\"type\":\"scatter3d\",\"line\":{\"colorbar\":{\"outlinewidth\":0,\"ticks\":\"\"}},\"marker\":{\"colorbar\":{\"outlinewidth\":0,\"ticks\":\"\"}}}],\"scattermapbox\":[{\"type\":\"scattermapbox\",\"marker\":{\"colorbar\":{\"outlinewidth\":0,\"ticks\":\"\"}}}],\"scatterternary\":[{\"type\":\"scatterternary\",\"marker\":{\"colorbar\":{\"outlinewidth\":0,\"ticks\":\"\"}}}],\"scattercarpet\":[{\"type\":\"scattercarpet\",\"marker\":{\"colorbar\":{\"outlinewidth\":0,\"ticks\":\"\"}}}],\"carpet\":[{\"aaxis\":{\"endlinecolor\":\"#2a3f5f\",\"gridcolor\":\"white\",\"linecolor\":\"white\",\"minorgridcolor\":\"white\",\"startlinecolor\":\"#2a3f5f\"},\"baxis\":{\"endlinecolor\":\"#2a3f5f\",\"gridcolor\":\"white\",\"linecolor\":\"white\",\"minorgridcolor\":\"white\",\"startlinecolor\":\"#2a3f5f\"},\"type\":\"carpet\"}],\"table\":[{\"cells\":{\"fill\":{\"color\":\"#EBF0F8\"},\"line\":{\"color\":\"white\"}},\"header\":{\"fill\":{\"color\":\"#C8D4E3\"},\"line\":{\"color\":\"white\"}},\"type\":\"table\"}],\"barpolar\":[{\"marker\":{\"line\":{\"color\":\"#E5ECF6\",\"width\":0.5},\"pattern\":{\"fillmode\":\"overlay\",\"size\":10,\"solidity\":0.2}},\"type\":\"barpolar\"}],\"pie\":[{\"automargin\":true,\"type\":\"pie\"}]},\"layout\":{\"autotypenumbers\":\"strict\",\"colorway\":[\"#636efa\",\"#EF553B\",\"#00cc96\",\"#ab63fa\",\"#FFA15A\",\"#19d3f3\",\"#FF6692\",\"#B6E880\",\"#FF97FF\",\"#FECB52\"],\"font\":{\"color\":\"#2a3f5f\"},\"hovermode\":\"closest\",\"hoverlabel\":{\"align\":\"left\"},\"paper_bgcolor\":\"white\",\"plot_bgcolor\":\"#E5ECF6\",\"polar\":{\"bgcolor\":\"#E5ECF6\",\"angularaxis\":{\"gridcolor\":\"white\",\"linecolor\":\"white\",\"ticks\":\"\"},\"radialaxis\":{\"gridcolor\":\"white\",\"linecolor\":\"white\",\"ticks\":\"\"}},\"ternary\":{\"bgcolor\":\"#E5ECF6\",\"aaxis\":{\"gridcolor\":\"white\",\"linecolor\":\"white\",\"ticks\":\"\"},\"baxis\":{\"gridcolor\":\"white\",\"linecolor\":\"white\",\"ticks\":\"\"},\"caxis\":{\"gridcolor\":\"white\",\"linecolor\":\"white\",\"ticks\":\"\"}},\"coloraxis\":{\"colorbar\":{\"outlinewidth\":0,\"ticks\":\"\"}},\"colorscale\":{\"sequential\":[[0.0,\"#0d0887\"],[0.1111111111111111,\"#46039f\"],[0.2222222222222222,\"#7201a8\"],[0.3333333333333333,\"#9c179e\"],[0.4444444444444444,\"#bd3786\"],[0.5555555555555556,\"#d8576b\"],[0.6666666666666666,\"#ed7953\"],[0.7777777777777778,\"#fb9f3a\"],[0.8888888888888888,\"#fdca26\"],[1.0,\"#f0f921\"]],\"sequentialminus\":[[0.0,\"#0d0887\"],[0.1111111111111111,\"#46039f\"],[0.2222222222222222,\"#7201a8\"],[0.3333333333333333,\"#9c179e\"],[0.4444444444444444,\"#bd3786\"],[0.5555555555555556,\"#d8576b\"],[0.6666666666666666,\"#ed7953\"],[0.7777777777777778,\"#fb9f3a\"],[0.8888888888888888,\"#fdca26\"],[1.0,\"#f0f921\"]],\"diverging\":[[0,\"#8e0152\"],[0.1,\"#c51b7d\"],[0.2,\"#de77ae\"],[0.3,\"#f1b6da\"],[0.4,\"#fde0ef\"],[0.5,\"#f7f7f7\"],[0.6,\"#e6f5d0\"],[0.7,\"#b8e186\"],[0.8,\"#7fbc41\"],[0.9,\"#4d9221\"],[1,\"#276419\"]]},\"xaxis\":{\"gridcolor\":\"white\",\"linecolor\":\"white\",\"ticks\":\"\",\"title\":{\"standoff\":15},\"zerolinecolor\":\"white\",\"automargin\":true,\"zerolinewidth\":2},\"yaxis\":{\"gridcolor\":\"white\",\"linecolor\":\"white\",\"ticks\":\"\",\"title\":{\"standoff\":15},\"zerolinecolor\":\"white\",\"automargin\":true,\"zerolinewidth\":2},\"scene\":{\"xaxis\":{\"backgroundcolor\":\"#E5ECF6\",\"gridcolor\":\"white\",\"linecolor\":\"white\",\"showbackground\":true,\"ticks\":\"\",\"zerolinecolor\":\"white\",\"gridwidth\":2},\"yaxis\":{\"backgroundcolor\":\"#E5ECF6\",\"gridcolor\":\"white\",\"linecolor\":\"white\",\"showbackground\":true,\"ticks\":\"\",\"zerolinecolor\":\"white\",\"gridwidth\":2},\"zaxis\":{\"backgroundcolor\":\"#E5ECF6\",\"gridcolor\":\"white\",\"linecolor\":\"white\",\"showbackground\":true,\"ticks\":\"\",\"zerolinecolor\":\"white\",\"gridwidth\":2}},\"shapedefaults\":{\"line\":{\"color\":\"#2a3f5f\"}},\"annotationdefaults\":{\"arrowcolor\":\"#2a3f5f\",\"arrowhead\":0,\"arrowwidth\":1},\"geo\":{\"bgcolor\":\"white\",\"landcolor\":\"#E5ECF6\",\"subunitcolor\":\"white\",\"showland\":true,\"showlakes\":true,\"lakecolor\":\"white\"},\"title\":{\"x\":0.05},\"mapbox\":{\"style\":\"light\"}}},\"xaxis\":{\"anchor\":\"y\",\"domain\":[0.0,1.0],\"title\":{\"text\":\"Sweetness\"}},\"yaxis\":{\"anchor\":\"x\",\"domain\":[0.0,1.0],\"title\":{\"text\":\"Acidity\"}},\"legend\":{\"title\":{\"text\":\"Fruit\"},\"tracegroupgap\":0},\"margin\":{\"t\":60},\"title\":{\"text\":\"Fruit Data Visualization\"},\"showlegend\":true},                        {\"responsive\": true}                    ).then(function(){\n",
              "                            \n",
              "var gd = document.getElementById('91acda83-527e-4128-9b7a-a4e7ba8caa04');\n",
              "var x = new MutationObserver(function (mutations, observer) {{\n",
              "        var display = window.getComputedStyle(gd).display;\n",
              "        if (!display || display === 'none') {{\n",
              "            console.log([gd, 'removed!']);\n",
              "            Plotly.purge(gd);\n",
              "            observer.disconnect();\n",
              "        }}\n",
              "}});\n",
              "\n",
              "// Listen for the removal of the full notebook cells\n",
              "var notebookContainer = gd.closest('#notebook-container');\n",
              "if (notebookContainer) {{\n",
              "    x.observe(notebookContainer, {childList: true});\n",
              "}}\n",
              "\n",
              "// Listen for the clearing of the current output cell\n",
              "var outputEl = gd.closest('.output');\n",
              "if (outputEl) {{\n",
              "    x.observe(outputEl, {childList: true});\n",
              "}}\n",
              "\n",
              "                        })                };                            </script>        </div>\n",
              "</body>\n",
              "</html>"
            ]
          },
          "metadata": {}
        }
      ]
    },
    {
      "cell_type": "markdown",
      "source": [
        "Chatgpt  \n",
        "Here, we are using your trained SVM model svm to predict the classes for the meshgrid points. \n",
        "- The np.c_[xx.ravel(), yy.ravel()] creates a 2D array by flattening the xx and yy meshgrid points and concatenating them column-wise.  \n",
        "- The predictions are then reshaped to match the shape of the meshgrid (xx.shape).  \n",
        "- Make sure you have trained your SVM model (svm) before running this code.\n",
        "\n",
        "User  \n",
        "> \"when you wrote \"ere, we are using your trained SVM model svm to predict the classes for the meshgrid points. The np.c_[xx.ravel(), yy.ravel()] creates a 2D array by flattening the xx and yy meshgrid points and concatenating them column-wise. The predictions are then reshaped to match the shape of the meshgrid (xx.shape).\"\n",
        "\n",
        "- this is the kind of explanation that comes with experience, book reading, and so forth. i don't have the manual or refernce to ahve figured out what xx.shape was doing. that's incredibile!\n",
        "\n",
        "ChatGPT\n",
        "> Thank you for your kind words! I'm glad the explanation was helpful to you. Understanding the code and its underlying concepts often requires some experience and familiarity with the libraries and tools being used.\n",
        "\n",
        "> In this case, xx.shape represents the shape (dimensions) of the meshgrid xx. The meshgrid is created to generate a grid of points in the x-axis and y-axis ranges defined by your data. The shape of the meshgrid determines the dimensions of the resulting predictions, and reshaping the predictions to match the meshgrid shape allows them to be plotted correctly.\n",
        "\n",
        "> As you gain more experience and work with different tools and libraries, you'll become more comfortable with interpreting code and understanding how different components interact. Keep exploring and learning, and don't hesitate to ask questions along the way. I'm here to help!"
      ],
      "metadata": {
        "id": "0WwWEwWS2CZ0"
      },
      "id": "0WwWEwWS2CZ0"
    },
    {
      "cell_type": "markdown",
      "source": [
        "\n",
        "As an AI language model, I don't have direct control over the code repository or the ability to update it. However, the code I provided should still work correctly without specifying the decision_function_shape parameter. The default value of decision_function_shape is 'ovr', which stands for \"one-vs-rest\" and is the recommended setting.\n",
        "\n",
        "If you specifically need to use the 'ovo' (one-vs-one) decision function shape, you can include the decision_function_shape='ovo' parameter when creating the SVC object. However, please note that the decision function shape affects the multi-class strategy and not the visualization of decision boundaries."
      ],
      "metadata": {
        "id": "HUBIkak05iuz"
      },
      "id": "HUBIkak05iuz"
    },
    {
      "cell_type": "markdown",
      "source": [
        "    The 'color' property is a color and may be specified as:\n",
        "      - A hex string (e.g. '#ff0000')\n",
        "      - An rgb/rgba string (e.g. 'rgb(255,0,0)')\n",
        "      - An hsl/hsla string (e.g. 'hsl(0,100%,50%)')\n",
        "      - An hsv/hsva string (e.g. 'hsv(0,100%,100%)')\n",
        "      - A named CSS color:\n",
        "            aliceblue, antiquewhite, aqua, aquamarine, azure,\n",
        "            beige, bisque, black, blanchedalmond, blue,\n",
        "            blueviolet, brown, burlywood, cadetblue,\n",
        "            chartreuse, chocolate, coral, cornflowerblue,\n",
        "            cornsilk, crimson, cyan, darkblue, darkcyan,\n",
        "            darkgoldenrod, darkgray, darkgrey, darkgreen,\n",
        "            darkkhaki, darkmagenta, darkolivegreen, darkorange,\n",
        "            darkorchid, darkred, darksalmon, darkseagreen,\n",
        "            darkslateblue, darkslategray, darkslategrey,\n",
        "            darkturquoise, darkviolet, deeppink, deepskyblue,\n",
        "            dimgray, dimgrey, dodgerblue, firebrick,\n",
        "            floralwhite, forestgreen, fuchsia, gainsboro,\n",
        "            ghostwhite, gold, goldenrod, gray, grey, green,\n",
        "            greenyellow, honeydew, hotpink, indianred, indigo,\n",
        "            ivory, khaki, lavender, lavenderblush, lawngreen,\n",
        "            lemonchiffon, lightblue, lightcoral, lightcyan,\n",
        "            lightgoldenrodyellow, lightgray, lightgrey,\n",
        "            lightgreen, lightpink, lightsalmon, lightseagreen,\n",
        "            lightskyblue, lightslategray, lightslategrey,\n",
        "            lightsteelblue, lightyellow, lime, limegreen,\n",
        "            linen, magenta, maroon, mediumaquamarine,\n",
        "            mediumblue, mediumorchid, mediumpurple,\n",
        "            mediumseagreen, mediumslateblue, mediumspringgreen,\n",
        "            mediumturquoise, mediumvioletred, midnightblue,\n",
        "            mintcream, mistyrose, moccasin, navajowhite, navy,\n",
        "            oldlace, olive, olivedrab, orange, orangered,\n",
        "            orchid, palegoldenrod, palegreen, paleturquoise,\n",
        "            palevioletred, papayawhip, peachpuff, peru, pink,\n",
        "            plum, powderblue, purple, red, rosybrown,\n",
        "            royalblue, rebeccapurple, saddlebrown, salmon,\n",
        "            sandybrown, seagreen, seashell, sienna, silver,\n",
        "            skyblue, slateblue, slategray, slategrey, snow,\n",
        "            springgreen, steelblue, tan, teal, thistle, tomato,\n",
        "            turquoise, violet, wheat, white, whitesmoke,\n",
        "            yellow, yellowgreen"
      ],
      "metadata": {
        "id": "ZT3pmA4gCJV3"
      },
      "id": "ZT3pmA4gCJV3"
    },
    {
      "cell_type": "code",
      "source": [
        "import numpy as np\n",
        "import pandas as pd\n",
        "import plotly.graph_objects as go\n",
        "from sklearn.svm import SVC"
      ],
      "metadata": {
        "id": "4Oe7usLgDCDK"
      },
      "id": "4Oe7usLgDCDK",
      "execution_count": null,
      "outputs": []
    },
    {
      "cell_type": "code",
      "source": [
        "import numpy as np\n",
        "import pandas as pd\n",
        "import plotly.graph_objects as go\n",
        "from sklearn.svm import SVC\n",
        "\n",
        "# Set random seed for reproducibility\n",
        "np.random.seed(42)\n",
        "\n",
        "# Generate sweetness and acidity data using lognormal distributions\n",
        "num_samples = 80\n",
        "mean_sweetness = 4.67\n",
        "mean_acidity = 4.0\n",
        "std_dev = 2.25\n",
        "\n",
        "sweetness = np.random.lognormal(mean=np.log(mean_sweetness), sigma=std_dev, size=num_samples)\n",
        "acidity = np.random.lognormal(mean=np.log(mean_acidity), sigma=std_dev, size=num_samples)\n",
        "\n",
        "# Generate fruit labels\n",
        "labels = np.repeat(['Apple', 'Orange', 'Banana'], num_samples // 3)\n",
        "\n",
        "# Ensure all arrays have the same length\n",
        "min_length = min(len(sweetness), len(acidity), len(labels))\n",
        "sweetness = sweetness[:min_length]\n",
        "acidity = acidity[:min_length]\n",
        "labels = labels[:min_length]\n",
        "\n",
        "# Create a DataFrame with the generated data\n",
        "data = pd.DataFrame({'Sweetness': sweetness, 'Acidity': acidity, 'Fruit': labels}, columns=['Sweetness', 'Acidity', 'Fruit'])\n",
        "\n",
        "# Split the data into features and target\n",
        "#feature_names = ['Sweetness', 'Acidity']\n",
        "#X = data[feature_names]\n",
        "X = data[['Sweetness', 'Acidity']]\n",
        "y = data['Fruit']\n",
        "\n",
        "# Train an SVM classifier\n",
        "svm = SVC(kernel='linear')\n",
        "svm.fit(X, y)\n",
        "\n",
        "# Generate predictions for the entire feature space\n",
        "x_min, x_max = X['Sweetness'].min() - 1, X['Sweetness'].max() + 1\n",
        "y_min, y_max = X['Acidity'].min() - 1, X['Acidity'].max() + 1\n",
        "xx, yy = np.meshgrid(np.arange(x_min, x_max, 0.1), np.arange(y_min, y_max, 0.1))\n",
        "Z = svm.predict(np.c_[xx.ravel(), yy.ravel()])\n",
        "Z = Z.reshape(xx.shape)\n",
        "\n",
        "# Create a scatter plot of the data with decision boundaries\n",
        "fig = go.Figure()\n",
        "\n",
        "# Add the scatter plot\n",
        "fig.add_trace(go.Scatter(\n",
        "    x=data['Sweetness'],\n",
        "    y=data['Acidity'],\n",
        "    mode='markers',\n",
        "    marker=dict(color=pd.factorize(data['Fruit'])[0], colorscale='Viridis', size=8),\n",
        "    name='Fruit'\n",
        "))\n",
        "\n",
        "# Add the decision boundaries\n",
        "fig.add_trace(go.Contour(\n",
        "    x=np.arange(x_min, x_max, 0.1),\n",
        "    y=np.arange(y_min, y_max, 0.1),\n",
        "    z=Z,\n",
        "    colorscale='Viridis',\n",
        "    opacity=0.3,\n",
        "    showscale=False,\n",
        "    name='Decision Boundary'\n",
        "))\n",
        "\n",
        "# Set the layout\n",
        "fig.update_layout(\n",
        "    title=\"SVM with Hyperplane Margins\",\n",
        "    xaxis=dict(title=\"Sweetness\"),\n",
        "    yaxis=dict(title=\"Acidity\"),\n",
        "    showlegend=True\n",
        ")\n",
        "\n",
        "# Display the plot\n",
        "fig.show()"
      ],
      "metadata": {
        "colab": {
          "base_uri": "https://localhost:8080/"
        },
        "id": "ysJfkh9W74Df",
        "outputId": "f70cafad-403d-4c41-ffe7-74c1f4290a63"
      },
      "id": "ysJfkh9W74Df",
      "execution_count": null,
      "outputs": [
        {
          "output_type": "stream",
          "name": "stderr",
          "text": [
            "/usr/local/lib/python3.10/dist-packages/sklearn/base.py:439: UserWarning:\n",
            "\n",
            "X does not have valid feature names, but SVC was fitted with feature names\n",
            "\n"
          ]
        }
      ]
    },
    {
      "cell_type": "markdown",
      "source": [
        "# why SVG grapics"
      ],
      "metadata": {
        "id": "r2DcADR4kfFo"
      },
      "id": "r2DcADR4kfFo"
    },
    {
      "cell_type": "markdown",
      "source": [
        "history of SVG. it seems to be an amazing package full of specialized visualziation programming. who and why was it built for. Why would a person want to even consider becomgin moderately proficient in it?\n",
        "ChatGPT\n",
        "Scalable Vector Graphics (SVG) is indeed a powerful and versatile technology for creating vector-based graphics and animations on the web. It was developed by the World Wide Web Consortium (W3C), a standards organization, with the goal of providing a standardized format for describing two-dimensional vector graphics on the web.\n",
        "\n",
        "SVG was first introduced as a W3C recommendation in September 2001, although its roots can be traced back to the early days of the web when vector-based graphics were gaining popularity. It was designed to address the limitations of other image formats, such as raster graphics (e.g., JPEG, PNG), which are resolution-dependent and may lose quality when scaled or resized.\n",
        "\n",
        "Here are a few reasons why someone might consider becoming moderately proficient in SVG:\n",
        "\n",
        "Scalability: SVG graphics are resolution-independent, meaning they can be scaled up or down without any loss of quality. This makes SVG ideal for creating graphics that need to be displayed across different devices and screen sizes.\n",
        "\n",
        "Interactivity: SVG supports a wide range of interactive features, such as event handling, animations, and scripting using JavaScript. This enables the creation of dynamic and interactive visualizations on the web.\n",
        "\n",
        "Accessibility: SVG is accessible to assistive technologies and screen readers, making it suitable for creating inclusive web experiences. It supports alternative text descriptions and can be styled for better readability and contrast.\n",
        "\n",
        "Searchability and SEO: Since SVG is based on XML, the content within an SVG file can be indexed by search engines. This can be advantageous when creating content that needs to be discovered and indexed by search engines.\n",
        "\n",
        "Integration with HTML and CSS: SVG seamlessly integrates with HTML and CSS, allowing for easy incorporation of interactive graphics into existing web pages. It can be embedded directly within an HTML document or referenced externally.\n",
        "\n",
        "Vector editing and manipulation: SVG files can be edited and manipulated using various software tools, both graphical and code-based. This provides flexibility in creating, modifying, and customizing vector graphics.\n",
        "\n",
        "Widely supported: SVG is supported by all major web browsers, making it a reliable and widely adopted technology for web-based graphics.\n",
        "\n",
        "By becoming moderately proficient in SVG, individuals can unlock the potential to create visually compelling, interactive, and scalable graphics for the web. It offers a range of possibilities for data visualizations, infographics, iconography, user interfaces, and more.\n",
        "\n",
        "Keep in mind that while SVG is powerful, it may require some learning and practice to fully harness its capabilities. However, there are many resources available online, including documentation, tutorials, and examples, to help you get started and advance your skills in working with SVG.\n",
        "\n",
        "I hope this overview helps shed light on why SVG is a valuable technology and why one might consider delving into it. If you have any further questions, feel free to ask!"
      ],
      "metadata": {
        "id": "-p3F5hUCkh8o"
      },
      "id": "-p3F5hUCkh8o"
    },
    {
      "cell_type": "code",
      "source": [
        "A:\n",
        "# Create a DataFrame with the generated data\n",
        "data = pd.DataFrame({'Sweetness': sweetness, 'Acidity': acidity, 'Fruit': labels})\n",
        "# Split the data into features and target\n",
        "X = data[['Sweetness', 'Acidity']]\n",
        "y = data['Fruit']\n",
        "\n",
        "B:\n",
        "# Create a DataFrame with the generated data\n",
        "data = pd.DataFrame({'Sweetness': sweetness, 'Acidity': acidity, 'Fruit': labels}, columns=['Sweetness', 'Acidity', 'Fruit'])\n",
        "# Split the data into features and target\n",
        "feature_names = ['Sweetness', 'Acidity']\n",
        "X = data[feature_names]"
      ],
      "metadata": {
        "id": "OwTlKg5gxnsZ"
      },
      "id": "OwTlKg5gxnsZ",
      "execution_count": null,
      "outputs": []
    },
    {
      "cell_type": "code",
      "source": [
        "\n",
        "\n",
        "\n",
        "import pandas as pd\n",
        "\n",
        "\n",
        "\n",
        "\n",
        "\n",
        "\n",
        "\n",
        "\n",
        "\n",
        "\n",
        "\n",
        "\n",
        "\n",
        "\n",
        "\n",
        "\n",
        "\n",
        "\n",
        "\n",
        "\n",
        "\n",
        "\n",
        "\n",
        "\n",
        "\n",
        "\n",
        "\n",
        "\n",
        "\n",
        "\n",
        "\n",
        "\n"
      ],
      "metadata": {
        "id": "lDAivsBcxpLh"
      },
      "id": "lDAivsBcxpLh",
      "execution_count": null,
      "outputs": []
    },
    {
      "cell_type": "code",
      "source": [
        "myobject= [1,'M2.5',(2+0j)]\n",
        "#--------------\n",
        "\n",
        "mytuple = tuple(myobject)\n",
        "print(mytuple,type(mytuple))\n",
        "#[out] (1, 'M2.5', (2+0j)) <class 'tuple'>\n",
        "#--------------\n",
        "\n",
        "mylist = list(myobject)\n",
        "print(mylist,type(mylist))\n",
        "#[out] [1, 'M2.5', (2+0j)] <class 'list'>\n",
        "#--------------\n",
        "\n",
        "mydict = {i: key for i, key in enumerate(myobject)}\n",
        "print(mydict, type(mydict))\n",
        "#[out] {0: 1, 1: 'M2.5', 2: (2+0j)} <class 'dict'>\n",
        "#--------------\n",
        "\n",
        "myset = set(myobject)\n",
        "print(myset,type(myset))\n",
        "#[out] {1, (2+0j), 'M2.5'} <class 'set'>\n",
        "#--------------\n",
        "\n",
        "import pandas as pd\n",
        "mydf = pd.DataFrame(myobject)\n",
        "print(mydf,type(mydf))\n",
        "#[out]\n",
        "#         0\n",
        "# 0       1\n",
        "# 1    M2.5\n",
        "# 2  (2+0j) <class 'pandas.core.frame.DataFrame'>\n",
        "#--------------\n",
        "\n",
        "Marsh = True\n",
        "bool(mellow)\n",
        "Marsh != mellow\n",
        "print(mellow, type(mellow))\n",
        "#[out] False <class 'bool'>\n",
        "#--------------\n",
        "\n",
        "myrange = range(-21,0,7)\n",
        "for i in myrange:\n",
        "  print(i)\n",
        "#[out]\n",
        "# -21\n",
        "# -14\n",
        "# -7\n",
        "#--------------\n",
        "\n",
        "mybytes = bytes([0x0A])\n",
        "print(mybytes,type(mybytes))\n",
        "#[out] b'\\n' <class 'bytes'>\n",
        "#--------------\n"
      ],
      "metadata": {
        "id": "igSy6BRj_I_0"
      },
      "id": "igSy6BRj_I_0",
      "execution_count": null,
      "outputs": []
    },
    {
      "cell_type": "code",
      "source": [
        "mybytes = bytes([0x0A])\n",
        "print(mybytes,type(mybytes))\n",
        "#[out] b'\\n' <class 'bytes'>\n"
      ],
      "metadata": {
        "colab": {
          "base_uri": "https://localhost:8080/"
        },
        "id": "TYYLrivI_I9f",
        "outputId": "91f876fd-bd64-4661-b32c-371a800b5ffa"
      },
      "id": "TYYLrivI_I9f",
      "execution_count": null,
      "outputs": [
        {
          "output_type": "stream",
          "name": "stdout",
          "text": [
            "b'\\n' <class 'bytes'>\n"
          ]
        }
      ]
    },
    {
      "cell_type": "code",
      "source": [
        "x = int(bh)\n",
        "bool(bh)\n",
        "print(bh)\n",
        "type(bh)"
      ],
      "metadata": {
        "colab": {
          "base_uri": "https://localhost:8080/",
          "height": 217
        },
        "id": "hlMFiZUI_I32",
        "outputId": "7b90b723-8c45-4af0-9fd9-67c7c3a7c91a"
      },
      "id": "hlMFiZUI_I32",
      "execution_count": null,
      "outputs": [
        {
          "output_type": "error",
          "ename": "NameError",
          "evalue": "ignored",
          "traceback": [
            "\u001b[0;31m---------------------------------------------------------------------------\u001b[0m",
            "\u001b[0;31mNameError\u001b[0m                                 Traceback (most recent call last)",
            "\u001b[0;32m<ipython-input-28-8d2da52bce25>\u001b[0m in \u001b[0;36m<cell line: 1>\u001b[0;34m()\u001b[0m\n\u001b[0;32m----> 1\u001b[0;31m \u001b[0mx\u001b[0m \u001b[0;34m=\u001b[0m \u001b[0mint\u001b[0m\u001b[0;34m(\u001b[0m\u001b[0mbh\u001b[0m\u001b[0;34m)\u001b[0m\u001b[0;34m\u001b[0m\u001b[0;34m\u001b[0m\u001b[0m\n\u001b[0m\u001b[1;32m      2\u001b[0m \u001b[0mbool\u001b[0m\u001b[0;34m(\u001b[0m\u001b[0mbh\u001b[0m\u001b[0;34m)\u001b[0m\u001b[0;34m\u001b[0m\u001b[0;34m\u001b[0m\u001b[0m\n\u001b[1;32m      3\u001b[0m \u001b[0mprint\u001b[0m\u001b[0;34m(\u001b[0m\u001b[0mbh\u001b[0m\u001b[0;34m)\u001b[0m\u001b[0;34m\u001b[0m\u001b[0;34m\u001b[0m\u001b[0m\n\u001b[1;32m      4\u001b[0m \u001b[0mtype\u001b[0m\u001b[0;34m(\u001b[0m\u001b[0mbh\u001b[0m\u001b[0;34m)\u001b[0m\u001b[0;34m\u001b[0m\u001b[0;34m\u001b[0m\u001b[0m\n",
            "\u001b[0;31mNameError\u001b[0m: name 'bh' is not defined"
          ]
        }
      ]
    },
    {
      "cell_type": "code",
      "source": [],
      "metadata": {
        "id": "Te3FG1bV2HFA"
      },
      "id": "Te3FG1bV2HFA",
      "execution_count": null,
      "outputs": []
    },
    {
      "cell_type": "markdown",
      "source": [
        "## does this work\n",
        "\n",
        "> Import, inspect data  \n",
        ">> df.describe(), miss, na, null  \n",
        ">>> boxplots, pairplot, sns, scatterplots  \n",
        ">>>> address outliers & correlations  \n",
        ">>>>> calc new variables  \n",
        ">>>>>> select features  \n",
        ">>>>>> OLS, MLR, R, R^2  \n",
        "\n",
        "\n",
        ">>> iterate OLS, MLR  \n",
        ">>>> final features select  \n",
        ">>> eval. train\\test outcomes  \n",
        ">> confusion matrix  \n",
        "> recommendations  "
      ],
      "metadata": {
        "id": "ekLl0uK1umXi"
      },
      "id": "ekLl0uK1umXi"
    },
    {
      "cell_type": "code",
      "source": [
        "# M.1 LMS quiz answers\n",
        "print(\"----start-------\")\n",
        "import pandas as pd\n",
        "myobject= [1,'M2.5',(2+0j)]\n",
        "print(tuple(myobject))\n",
        "print(\"--------------\")\n",
        "print(list(myobject))\n",
        "print(\"--------------\")\n",
        "print({i: key for i, key in enumerate(myobject)})\n",
        "print(\"--------------\")\n",
        "print(set(myobject))\n",
        "print(\"--------------\")\n",
        "print(pd.DataFrame(myobject))\n",
        "print(\"--------------\")\n",
        "Marsh=True\n",
        "mellow=None\n",
        "print(Marsh != bool(mellow))\n",
        "print(\"--------------\")\n",
        "print([i for i in range(-21, 0, 7)])\n",
        "print(bytes([0x0A]))\n",
        "print(\"-----end-------\")"
      ],
      "metadata": {
        "colab": {
          "base_uri": "https://localhost:8080/"
        },
        "id": "cuoNgoFwyiSM",
        "outputId": "0ea68c2e-6996-41a6-983a-5b5de1556ce7"
      },
      "execution_count": null,
      "outputs": [
        {
          "output_type": "stream",
          "name": "stdout",
          "text": [
            "----start-------\n",
            "(1, 'M2.5', (2+0j))\n",
            "--------------\n",
            "[1, 'M2.5', (2+0j)]\n",
            "--------------\n",
            "{0: 1, 1: 'M2.5', 2: (2+0j)}\n",
            "--------------\n",
            "{1, (2+0j), 'M2.5'}\n",
            "--------------\n",
            "        0\n",
            "0       1\n",
            "1    M2.5\n",
            "2  (2+0j)\n",
            "--------------\n",
            "True\n",
            "--------------\n",
            "[-21, -14, -7]\n",
            "b'\\n'\n",
            "-----end-------\n"
          ]
        }
      ],
      "id": "cuoNgoFwyiSM"
    }
  ],
  "metadata": {
    "kernelspec": {
      "display_name": "Python 3",
      "language": "python",
      "name": "python3"
    },
    "language_info": {
      "codemirror_mode": {
        "name": "ipython",
        "version": 3
      },
      "file_extension": ".py",
      "mimetype": "text/x-python",
      "name": "python",
      "nbconvert_exporter": "python",
      "pygments_lexer": "ipython3",
      "version": "3.8.8"
    },
    "colab": {
      "provenance": [],
      "collapsed_sections": [
        "MqZm_iFTPI7f",
        "jBOVMJ0zck9a",
        "663db8ac",
        "oyCfsZyXdKB_",
        "kjA00fVqPjEm",
        "IGEBKdcJEq4m",
        "ea7scL-NEmCR",
        "zl_trypLEmCv",
        "Hn4Iuwq2L36e",
        "XUoNyI0_gfe2",
        "a4PeBkYJ6L95",
        "ogwwvpsJ6MGI",
        "LE3iVztj6MLp",
        "zuvgtcMS6MSB",
        "m_o-TAG56MWo",
        "rG70DXQn6MZ8",
        "iBNcMUha6MdA",
        "5_2pMZkZLGRk",
        "lMnLmuCsLGSH",
        "OLCAqU4dLGSL",
        "IkUXuPexCope",
        "YsERDkCmn5i3",
        "s2SPQ2NZkpah",
        "ds7q2xQmnP5t",
        "4ibLZdl_qfm9",
        "kFPFbUc0qaZ7",
        "5OQl4IjEnZLz",
        "UtEKPHyQt_9R",
        "ZIrZKxkck5P_",
        "r2DcADR4kfFo"
      ]
    }
  },
  "nbformat": 4,
  "nbformat_minor": 5
}